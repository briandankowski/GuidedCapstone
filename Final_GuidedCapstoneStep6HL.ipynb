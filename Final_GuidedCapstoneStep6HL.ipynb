{
  "nbformat": 4,
  "nbformat_minor": 0,
  "metadata": {
    "colab": {
      "name": "Final_GuidedCapstoneStep6HL.ipynb",
      "provenance": [],
      "collapsed_sections": [],
      "include_colab_link": true
    },
    "kernelspec": {
      "display_name": "Python 3",
      "language": "python",
      "name": "python3"
    },
    "language_info": {
      "codemirror_mode": {
        "name": "ipython",
        "version": 3
      },
      "file_extension": ".py",
      "mimetype": "text/x-python",
      "name": "python",
      "nbconvert_exporter": "python",
      "pygments_lexer": "ipython3",
      "version": "3.7.3"
    },
    "toc": {
      "base_numbering": "0",
      "nav_menu": {},
      "number_sections": true,
      "sideBar": true,
      "skip_h1_title": false,
      "title_cell": "Table of Contents",
      "title_sidebar": "Contents",
      "toc_cell": true,
      "toc_position": {
        "height": "calc(100% - 180px)",
        "left": "10px",
        "top": "150px",
        "width": "288px"
      },
      "toc_section_display": true,
      "toc_window_display": true
    }
  },
  "cells": [
    {
      "cell_type": "markdown",
      "metadata": {
        "id": "view-in-github",
        "colab_type": "text"
      },
      "source": [
        "<a href=\"https://colab.research.google.com/github/briandankowski/GuidedCapstone/blob/master/Final_GuidedCapstoneStep6HL.ipynb\" target=\"_parent\"><img src=\"https://colab.research.google.com/assets/colab-badge.svg\" alt=\"Open In Colab\"/></a>"
      ]
    },
    {
      "cell_type": "markdown",
      "metadata": {
        "colab_type": "text",
        "id": "cf5CmXQCZyF1"
      },
      "source": [
        "# Guided Capstone Step 6. Documentation"
      ]
    },
    {
      "cell_type": "markdown",
      "metadata": {
        "colab_type": "text",
        "id": "JbZXsVevfr9M"
      },
      "source": [
        "**The Data Science Method**  \n",
        "\n",
        "\n",
        "1.   Problem Identification \n",
        "\n",
        "2.   Data Wrangling \n",
        "  \n",
        "3.   Exploratory Data Analysis \n",
        " \n",
        "4.   Pre-processing and Training Data Development\n",
        "\n",
        "5.  Modeling\n",
        "\n",
        "6.   **Documentation**\n",
        "  * Review the Results\n",
        "  * Finalize Code \n",
        "  * Finalize Documentation\n",
        "  * Create a Project Report \n",
        "  * Create a Slide Deck for the Executive Audience"
      ]
    },
    {
      "cell_type": "markdown",
      "metadata": {
        "colab_type": "text",
        "id": "D-oGciwnGUYk"
      },
      "source": [
        "In this guided capstone we are going to revisit many of the actions we took in the previous guided capstone steps. This gives you the opportunity to practice the code you wrote to solve the questions in step 4 and 5. "
      ]
    },
    {
      "cell_type": "markdown",
      "metadata": {
        "colab_type": "text",
        "id": "K8xfkAqqZyF2"
      },
      "source": [
        "**<font color='teal'> Start by loading the necessary packages and printing out our current working directory just to confirm we are in the correct project directory. </font>**"
      ]
    },
    {
      "cell_type": "code",
      "metadata": {
        "colab_type": "code",
        "id": "ry6WPL5eZyF3",
        "colab": {
          "base_uri": "https://localhost:8080/",
          "height": 54
        },
        "outputId": "ea0caa66-14b4-46fe-a271-52f71e36b0c5"
      },
      "source": [
        "import os\n",
        "import pandas as pd\n",
        "import datetime\n",
        "import seaborn as sns\n",
        "import matplotlib.pyplot as plt\n",
        "import numpy as np\n",
        "%matplotlib inline"
      ],
      "execution_count": 1,
      "outputs": [
        {
          "output_type": "stream",
          "text": [
            "/usr/local/lib/python3.6/dist-packages/statsmodels/tools/_testing.py:19: FutureWarning: pandas.util.testing is deprecated. Use the functions in the public API at pandas.testing instead.\n",
            "  import pandas.util.testing as tm\n"
          ],
          "name": "stderr"
        }
      ]
    },
    {
      "cell_type": "code",
      "metadata": {
        "id": "yDTBX2kKxP7y",
        "colab_type": "code",
        "colab": {
          "base_uri": "https://localhost:8080/",
          "height": 35
        },
        "outputId": "24558a72-e8c4-43be-d531-4572a87863e8"
      },
      "source": [
        "os.listdir()"
      ],
      "execution_count": 2,
      "outputs": [
        {
          "output_type": "execute_result",
          "data": {
            "text/plain": [
              "['.config', 'figures', 'data', 'models', 'step3_output.csv', 'sample_data']"
            ]
          },
          "metadata": {
            "tags": []
          },
          "execution_count": 2
        }
      ]
    },
    {
      "cell_type": "code",
      "metadata": {
        "id": "n9sjKDTmxQNm",
        "colab_type": "code",
        "colab": {
          "resources": {
            "http://localhost:8080/nbextensions/google.colab/files.js": {
              "data": "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",
              "ok": true,
              "headers": [
                [
                  "content-type",
                  "application/javascript"
                ]
              ],
              "status": 200,
              "status_text": "OK"
            }
          },
          "base_uri": "https://localhost:8080/",
          "height": 166
        },
        "outputId": "33317bf7-9554-4248-e122-3b3c466de94c"
      },
      "source": [
        "!mkdir data\n",
        "!mkdir figures\n",
        "!mkdir models\n",
        "from google.colab import files\n",
        "files.upload()"
      ],
      "execution_count": 3,
      "outputs": [
        {
          "output_type": "stream",
          "text": [
            "mkdir: cannot create directory ‘data’: File exists\n",
            "mkdir: cannot create directory ‘figures’: File exists\n",
            "mkdir: cannot create directory ‘models’: File exists\n"
          ],
          "name": "stdout"
        },
        {
          "output_type": "display_data",
          "data": {
            "text/html": [
              "\n",
              "     <input type=\"file\" id=\"files-eed06115-f86a-43d1-97c1-ed20b4728a09\" name=\"files[]\" multiple disabled\n",
              "        style=\"border:none\" />\n",
              "     <output id=\"result-eed06115-f86a-43d1-97c1-ed20b4728a09\">\n",
              "      Upload widget is only available when the cell has been executed in the\n",
              "      current browser session. Please rerun this cell to enable.\n",
              "      </output>\n",
              "      <script src=\"/nbextensions/google.colab/files.js\"></script> "
            ],
            "text/plain": [
              "<IPython.core.display.HTML object>"
            ]
          },
          "metadata": {
            "tags": []
          }
        },
        {
          "output_type": "stream",
          "text": [
            "Saving step3_output.csv to step3_output (1).csv\n"
          ],
          "name": "stdout"
        },
        {
          "output_type": "execute_result",
          "data": {
            "text/plain": [
              "{'step3_output.csv': b\"Name,state,summit_elev,vertical_drop,fastQuads,quad,triple,double,surface,total_chairs,Runs,TerrainParks,LongestRun_mi,SkiableTerrain_ac,Snow Making_ac,daysOpenLastYear,yearsOpen,averageSnowfall,AdultWeekday,AdultWeekend,projectedDaysOpen,NightSkiing_ac,clusters\\nAlyeska Resort,Alaska,3939,2500,2,2,0,0,2,7,76.0,2.0,1.0,1610.0,113.0,150.0,60.0,669.0,65.0,85.0,150.0,550.0,1\\nEaglecrest Ski Area,Alaska,2600,1540,0,0,0,4,0,4,36.0,1.0,2.0,640.0,60.0,45.0,44.0,350.0,47.0,53.0,90.0,0.0,1\\nHilltop Ski Area,Alaska,2090,294,0,0,1,0,2,3,13.0,1.0,1.0,30.0,30.0,150.0,36.0,69.0,30.0,34.0,152.0,30.0,1\\nArizona Snowbowl,Arizona,11500,2300,0,2,2,1,2,8,55.0,4.0,2.0,777.0,104.0,122.0,81.0,260.0,89.0,89.0,122.0,0.0,0\\nSunrise Park Resort,Arizona,11100,1800,1,2,3,1,0,7,65.0,2.0,1.2,800.0,80.0,115.0,49.0,250.0,74.0,78.0,104.0,80.0,0\\nYosemite Ski & Snowboard Area,California,7800,600,0,0,1,3,1,5,10.0,2.0,0.4,88.0,0.0,110.0,84.0,300.0,47.0,47.0,107.0,0.0,3\\nBear Mountain,California,8805,1665,2,1,2,3,4,12,27.0,14.0,1.5,198.0,198.0,122.0,76.0,100.0,57.91695652173913,64.16681003584229,130.0,0.0,3\\nBear Valley,California,8500,1900,1,0,2,4,2,10,67.0,2.0,1.2,1680.0,100.0,165.0,52.0,359.0,57.91695652173913,64.16681003584229,151.0,0.0,3\\nBoreal Mountain Resort,California,7700,500,1,1,3,1,2,8,33.0,6.0,1.0,380.0,200.0,150.0,54.0,400.0,49.0,64.16681003584229,150.0,200.0,3\\nDodge Ridge,California,8200,1600,0,1,2,5,4,12,67.0,5.0,2.0,862.0,0.0,115.10394265232976,69.0,350.0,78.0,78.0,140.0,0.0,3\\nDonner Ski Ranch,California,8012,750,0,0,1,5,2,8,52.0,2.0,1.5,505.0,60.0,163.0,82.0,400.0,75.0,75.0,170.0,0.0,3\\nHeavenly Mountain Resort,California,10067,3500,7,1,5,3,8,28,97.0,3.0,5.5,4800.0,3379.0,155.0,64.0,360.0,57.91695652173913,64.16681003584229,157.0,0.0,0\\nJune Mountain,California,10090,2590,2,0,0,4,1,7,41.0,2.0,2.0,1500.0,0.0,115.10394265232976,58.0,250.0,57.91695652173913,64.16681003584229,128.0,0.0,0\\nKirkwood,California,9800,2000,2,1,5,1,3,12,85.0,2.0,2.5,2300.0,200.0,200.0,47.0,354.0,57.91695652173913,64.16681003584229,167.0,0.0,0\\nMammoth Mountain Ski Area,California,11053,3100,9,1,6,4,0,25,154.0,7.0,3.0,3500.0,700.0,243.0,66.0,400.0,149.0,159.0,120.0530035335689,0.0,0\\nMt. Shasta Ski Park,California,6890,1435,0,0,3,0,1,4,32.0,2.0,1.1,425.0,225.0,140.0,34.0,300.0,49.0,59.0,130.0,0.0,3\\nMountain High,California,8200,1600,2,2,2,5,3,14,59.0,1.0,1.6,290.0,275.0,118.0,95.0,108.0,84.0,84.0,150.0,73.0,3\\nMt. Baldy,California,8600,2100,0,0,0,4,0,4,26.0,0.0,2.5,400.0,80.0,175.0,67.0,178.0,69.0,69.0,200.0,0.0,3\\nNorthstar California,California,8610,2280,7,1,2,0,7,20,100.0,9.0,1.4,3170.0,1500.0,135.0,47.0,350.0,57.91695652173913,64.16681003584229,150.0,0.0,0\\nSierra-at-Tahoe,California,8852,2212,3,0,1,5,5,14,46.0,6.0,2.5,2000.0,200.0,160.0,73.0,460.0,99.0,64.16681003584229,144.0,0.0,0\\nSki China Peak,California,8709,1679,0,1,4,2,4,11,45.0,1.0,2.2,1400.0,150.0,140.0,62.0,300.0,83.0,83.0,144.0,0.0,3\\nSnow Summit,California,8200,1200,2,0,4,5,5,16,27.0,6.0,1.2,240.0,240.0,115.10394265232976,67.0,100.0,57.91695652173913,64.16681003584229,130.0,150.0,3\\nSnow Valley,California,7841,1041,0,0,5,6,1,12,28.0,6.0,1.2,240.0,188.0,111.0,82.0,160.0,69.0,79.0,143.0,164.0,3\\nSoda Springs,California,7352,652,0,0,1,1,2,4,18.0,0.0,0.4,200.0,20.0,150.0,83.0,400.0,50.0,50.0,144.0,0.0,3\\nSugar Bowl Resort,California,8383,1500,5,3,1,0,2,12,105.0,3.0,3.0,1650.0,375.0,151.0,80.0,500.0,125.0,125.0,150.0,0.0,3\\nTahoe Donner,California,7350,600,0,1,1,0,3,5,14.0,2.0,1.0,120.0,0.0,150.0,48.0,400.0,69.0,69.0,144.0,0.0,3\\nArapahoe Basin Ski Area,Colorado,13050,2530,1,2,1,2,3,9,145.0,3.0,1.5,1428.0,125.0,230.0,73.0,350.0,85.0,85.0,233.0,0.0,0\\nAspen / Snowmass,Colorado,12510,4406,15,4,3,5,9,40,336.0,10.0,5.3,5517.0,658.0,138.0,72.0,300.0,179.0,179.0,138.0,0.0,0\\nBeaver Creek,Colorado,11440,3340,11,0,1,1,9,24,150.0,3.0,2.8,1832.0,650.0,145.0,39.0,323.0,57.91695652173913,64.16681003584229,138.0,0.0,0\\nBreckenridge,Colorado,12998,3398,6,0,1,6,15,34,187.0,4.0,3.5,2908.0,600.0,182.0,58.0,300.0,57.91695652173913,64.16681003584229,163.0,0.0,0\\nCopper Mountain Resort,Colorado,12313,2738,4,0,4,4,9,24,150.0,6.0,1.7,2527.0,364.0,164.0,47.0,300.0,158.0,158.0,164.0,0.0,0\\nCrested Butte Mountain Resort,Colorado,12162,3062,4,2,2,1,5,14,121.0,4.0,2.6,1547.0,297.0,145.0,58.0,234.0,57.91695652173913,64.16681003584229,131.0,0.0,0\\nPurgatory,Colorado,10822,2029,2,0,3,3,3,12,101.0,9.0,1.3,1605.0,250.0,130.0,54.0,260.0,89.0,89.0,130.0,0.0,0\\nEldora Mountain Resort,Colorado,10600,1400,0,2,1,3,3,10,65.0,8.0,3.0,680.0,680.0,147.0,57.0,311.0,57.91695652173913,64.16681003584229,150.0,0.0,0\\nHowelsen Hill,Colorado,7136,440,0,0,0,1,3,4,17.0,1.0,6.0,50.0,25.0,100.0,104.0,150.0,25.0,25.0,100.0,10.0,3\\nKeystone,Colorado,12408,3128,4,1,1,2,8,20,128.0,1.0,3.5,3148.0,662.0,184.0,49.0,235.0,57.91695652173913,64.16681003584229,120.0530035335689,288.0,0\\nLoveland,Colorado,13010,2210,1,3,3,2,1,10,94.0,1.0,2.0,1800.0,240.0,205.0,82.0,422.0,79.0,79.0,184.0,0.0,0\\nMonarch Mountain,Colorado,11952,1162,0,1,0,4,2,7,64.0,2.0,1.0,800.0,0.0,143.0,80.0,350.0,89.0,89.0,136.0,0.0,0\\nPowderhorn,Colorado,9850,1650,1,0,0,2,2,5,42.0,2.0,1.5,1600.0,42.0,111.0,53.0,250.0,71.0,71.0,110.0,0.0,0\\nSilverton Mountain,Colorado,13487,3087,0,0,0,1,0,1,48.214723926380366,0.0,1.5,26819.0,0.0,175.0,17.0,400.0,79.0,79.0,181.0,0.0,2\\nCooper,Colorado,11700,1200,0,0,1,1,2,4,41.0,1.0,1.0,400.0,0.0,130.0,74.0,260.0,56.0,56.0,130.0,0.0,0\\nSki Granby Ranch,Colorado,9202,1000,2,0,1,1,1,5,40.0,1.0,0.6,406.0,170.0,116.0,36.0,220.0,84.0,84.0,92.0,100.0,3\\nSteamboat,Colorado,10568,3668,6,0,5,2,3,18,169.0,4.0,3.0,2965.0,375.0,145.0,56.0,336.0,57.91695652173913,64.16681003584229,145.0,30.0,0\\nSunlight Mountain Resort,Colorado,9895,2010,0,0,1,2,0,3,67.0,1.0,2.5,680.0,30.0,100.0,53.0,250.0,65.0,65.0,135.0,0.0,0\\nTelluride,Colorado,13150,4425,6,1,2,2,4,17,148.0,3.0,4.6,2000.0,220.0,131.0,47.0,280.0,139.0,139.0,137.0,0.0,0\\nVail,Colorado,11570,3450,15,1,1,0,9,31,195.0,3.0,4.0,5289.0,461.0,149.0,57.0,354.0,57.91695652173913,64.16681003584229,142.0,0.0,0\\nWinter Park Resort,Colorado,12060,3060,7,0,4,6,5,25,166.0,7.0,4.9,3081.0,313.0,158.0,79.0,360.0,57.91695652173913,64.16681003584229,151.0,0.0,0\\nWolf Creek Ski Area,Colorado,11904,1604,3,1,2,1,3,10,120.0,0.0,2.0,1600.0,5.0,130.0,80.0,430.0,72.0,72.0,150.0,0.0,0\\nMohawk Mountain,Connecticut,1600,650,0,0,5,0,3,8,25.0,0.0,1.5,107.0,100.0,115.10394265232976,72.0,92.0,30.0,65.0,110.0,64.0,1\\nMount Southington Ski Area,Connecticut,525,425,0,0,2,2,3,7,14.0,2.0,0.3,51.0,51.0,63.0,55.0,80.0,60.0,60.0,95.0,51.0,1\\nPowder Ridge Park,Connecticut,720,550,0,0,1,2,2,5,19.0,4.0,0.5,80.0,68.0,80.0,60.0,80.0,45.0,55.0,100.0,40.0,1\\nSki Sundown,Connecticut,1075,625,0,0,3,0,2,5,16.0,2.0,1.0,70.0,70.0,84.0,50.0,45.0,62.0,62.0,95.0,66.0,1\\nWoodbury Ski Area,Connecticut,730,300,0,0,0,1,4,5,12.0,2.0,0.2,50.0,50.0,126.0,57.0,70.0,42.0,42.0,180.0,35.0,1\\nBogus Basin,Idaho,7582,1800,3,0,1,3,4,11,91.0,3.0,1.5,2600.0,0.0,134.0,77.0,250.0,64.0,64.0,130.0,165.0,3\\nBrundage Mountain Resort,Idaho,7640,1800,1,0,4,0,1,6,51.0,2.0,3.2,1920.0,2.0,126.0,58.0,320.0,70.0,70.0,120.0530035335689,0.0,3\\nKelly Canyon Ski Area,Idaho,6600,1000,0,0,0,4,2,6,51.0,1.0,1.3,740.0,0.0,115.10394265232976,62.0,200.0,57.91695652173913,42.0,120.0530035335689,0.0,3\\nLookout Pass Ski Area,Idaho,5650,1150,0,0,1,3,0,4,35.0,2.0,1.5,540.0,0.0,113.0,84.0,400.0,44.0,47.0,140.0,0.0,3\\nMagic Mountain Ski Area,Idaho,7200,700,0,0,0,1,2,3,11.0,0.0,1.5,280.0,0.0,65.0,81.0,180.0,32.0,32.0,70.0,0.0,3\\nPebble Creek Ski Area,Idaho,8560,2200,0,0,3,0,0,3,54.0,2.0,1.3,1100.0,30.0,85.0,70.0,250.0,47.0,47.0,91.0,30.0,3\\nPomerelle Mountain Resort,Idaho,9000,1000,0,0,1,1,1,3,24.0,2.0,1.5,500.0,50.0,138.0,56.0,500.0,57.91695652173913,64.16681003584229,138.0,100.0,3\\nSchweitzer,Idaho,6400,2400,2,0,1,3,2,9,92.0,3.0,2.1,2900.0,47.0,136.0,56.0,300.0,81.0,81.0,120.0530035335689,100.0,3\\nSilver Mountain,Idaho,6300,2200,0,1,2,2,1,7,80.0,2.0,2.5,1600.0,225.0,130.0,29.0,300.0,57.0,62.0,193.0,20.0,3\\nSoldier Mountain Ski Area,Idaho,7200,1400,0,0,0,2,1,3,36.0,0.0,0.4,1142.0,0.0,60.0,71.0,185.31645569620247,43.0,43.0,120.0530035335689,0.0,3\\nSun Valley,Idaho,9150,3400,9,0,3,2,3,18,120.0,7.0,3.0,2054.0,645.0,149.0,83.0,220.0,57.91695652173913,64.16681003584229,137.0,0.0,0\\nTamarack Resort,Idaho,7700,2800,2,2,0,0,2,6,48.0,3.0,1.5,1020.0,200.0,115.10394265232976,15.0,300.0,71.0,71.0,150.0,0.0,3\\nChestnut Mountain Resort,Illinois,1040,475,0,2,4,0,3,9,22.0,3.0,0.2,139.0,139.0,87.0,60.0,50.0,40.0,55.0,112.0,139.0,1\\nFour Lakes,Illinois,500,100,0,0,0,0,7,7,7.0,1.0,0.1,9.0,9.0,78.0,58.0,24.0,57.91695652173913,64.16681003584229,70.0,9.0,1\\nSki Snowstar Winter Sports Park,Illinois,790,262,0,2,0,2,2,6,15.0,1.0,0.8,28.0,28.0,56.0,38.0,38.0,25.0,35.0,86.0,28.0,1\\nVilla Olivia,Illinois,500,180,0,1,0,0,6,7,7.0,1.0,0.1,15.0,15.0,115.10394265232976,53.0,25.0,40.0,40.0,70.0,15.0,1\\nPaoli Peaks,Indiana,900,300,1,1,3,1,2,8,15.0,2.0,0.4,65.0,65.0,75.0,41.0,18.0,38.0,45.0,80.0,65.0,1\\nPerfect North Slopes,Indiana,800,400,0,2,3,0,6,11,23.0,2.0,1.0,100.0,100.0,82.0,39.0,24.0,52.0,52.0,90.0,100.0,1\\nMt. Crescent Ski Area,Iowa,1500,300,0,1,0,1,0,2,11.0,1.0,0.2,50.0,50.0,115.10394265232976,58.0,30.0,29.0,39.0,120.0530035335689,50.0,1\\nSeven Oaks,Iowa,975,275,0,0,2,0,2,4,11.0,2.0,1.0,35.0,35.0,100.0,22.0,40.0,40.0,40.0,100.0,35.0,1\\nSundown Mountain,Iowa,1059,475,0,1,1,2,2,6,21.0,2.0,0.6,55.0,55.0,115.10394265232976,46.0,45.0,38.0,46.0,120.0530035335689,55.0,1\\nBig Squaw Mountain Ski Resort,Maine,3200,660,0,0,1,0,0,1,29.0,0.0,0.8,739.8012232415903,0.0,67.0,6.0,185.31645569620247,30.0,30.0,58.0,0.0,1\\nCamden Snow Bowl,Maine,1080,850,0,0,1,1,1,3,26.0,2.0,1.0,100.0,48.0,68.0,83.0,69.0,33.0,43.0,70.0,48.0,1\\nLost Valley,Maine,495,240,0,0,0,2,2,4,22.0,2.0,0.3,45.0,45.0,87.0,58.0,50.0,29.0,55.0,104.0,45.0,1\\nMt. Abram Ski Resort,Maine,2250,1150,0,0,0,2,3,5,54.0,1.0,0.5,640.0,175.0,120.0,59.0,125.0,29.0,49.0,120.0,0.0,1\\nMt. Jefferson,Maine,753,432,0,0,0,0,3,3,10.0,0.0,0.3,12.0,0.0,115.10394265232976,19.0,185.31645569620247,57.91695652173913,64.16681003584229,120.0530035335689,0.0,1\\nNew Hermon Mountain,Maine,450,350,0,0,0,1,2,3,20.0,0.0,1.9,70.0,70.0,102.0,55.0,90.0,32.0,32.0,117.0,45.0,1\\nShawnee Peak,Maine,1900,1350,0,1,2,1,2,6,43.0,3.0,0.8,239.0,234.0,97.0,81.0,110.0,55.0,75.0,103.0,110.0,1\\nSugarloaf,Maine,4237,2820,2,3,1,5,2,13,162.0,4.0,3.5,1240.0,618.0,159.0,68.0,200.0,99.0,99.0,155.0,0.0,3\\nSunday River,Maine,3140,2340,4,5,3,1,1,15,135.0,5.0,3.0,870.0,552.0,165.0,60.0,167.0,105.0,105.0,169.0,140.0,1\\nWisp,Maryland,3115,700,0,2,5,0,5,12,34.0,3.0,1.5,172.0,118.0,121.0,64.0,100.0,59.0,79.0,120.0,118.0,1\\nBerkshire East,Massachusetts,1720,1180,0,2,1,1,2,6,47.0,2.0,2.0,180.0,165.0,120.0,68.0,120.0,48.0,68.0,120.0,80.0,1\\nBlandford Ski Area,Massachusetts,1685,465,0,0,0,3,2,5,29.0,2.0,0.5,132.0,70.0,115.10394265232976,83.0,50.0,20.0,45.0,120.0530035335689,70.0,1\\nBlue Hills Ski Area,Massachusetts,635,309,0,0,0,1,3,4,16.0,1.0,1.4332307692307693,60.0,60.0,115.10394265232976,19.0,185.31645569620247,40.0,45.0,120.0530035335689,0.0,1\\nBousquet Ski Area,Massachusetts,1875,750,0,0,0,3,2,5,23.0,1.0,1.0,200.0,98.0,115.10394265232976,19.0,83.0,25.0,49.0,120.0530035335689,100.0,1\\nBradford Ski Area,Massachusetts,1548,248,0,0,2,0,8,10,15.0,1.0,0.3,48.0,48.0,115.10394265232976,71.0,185.31645569620247,37.0,55.0,120.0530035335689,0.0,1\\nJiminy Peak,Massachusetts,2380,1150,0,2,3,1,2,9,45.0,3.0,2.0,167.0,163.0,121.0,71.0,90.0,81.0,81.0,120.0,104.0,1\\nNashoba Valley,Massachusetts,440,240,0,0,3,1,7,11,17.0,2.0,0.5,52.0,52.0,112.0,55.0,55.0,48.0,58.0,126.0,52.0,1\\nOtis Ridge Ski Area,Massachusetts,1700,400,0,0,0,1,3,4,11.0,1.0,1.0,60.0,55.0,106.0,73.0,70.0,20.0,40.0,106.0,35.0,1\\nSki Butternut,Massachusetts,1800,1000,0,3,1,1,6,11,22.0,2.0,1.5,110.0,110.0,107.0,56.0,115.0,25.0,60.0,110.0,0.0,1\\nSki Ward,Massachusetts,420,210,0,0,1,0,3,4,11.0,1.0,0.2,45.0,45.0,105.0,50.0,80.0,57.91695652173913,64.16681003584229,120.0,38.0,1\\nWachusett Mountain Ski Area,Massachusetts,2006,1000,3,0,1,0,4,8,27.0,2.0,1.5,112.0,112.0,115.10394265232976,57.0,100.0,65.0,71.0,120.0,104.0,1\\nAlpine Valley Ski Area,Michigan,500,240,0,1,2,5,6,14,25.0,3.0,0.2,100.0,100.0,115.10394265232976,57.0,20.0,39.0,47.0,120.0530035335689,100.0,1\\nApple Mountain,Michigan,820,220,0,1,0,0,5,6,12.0,0.0,1.4332307692307693,80.0,42.0,115.10394265232976,58.0,52.0,35.0,35.0,120.0530035335689,80.0,1\\nBig Powderhorn Mountain,Michigan,1800,600,0,0,0,9,1,10,45.0,2.0,1.0,253.0,228.0,100.0,55.0,214.0,69.0,69.0,108.0,0.0,1\\nBittersweet Ski Area,Michigan,850,350,0,1,7,0,4,12,20.0,2.0,0.2,100.0,100.0,80.0,36.0,90.0,38.0,48.0,120.0530035335689,100.0,1\\nBig Snow Resort - Blackjack,Michigan,850,465,0,0,0,4,2,6,26.0,2.0,1.0,170.0,86.0,95.0,42.0,210.0,49.0,65.0,115.0,0.0,1\\nBoyne Highlands,Michigan,1290,552,1,3,4,0,2,10,55.0,4.0,1.2,435.0,400.0,97.0,56.0,140.0,78.0,98.0,120.0,150.0,1\\nBoyne Mountain Resort,Michigan,1120,500,0,4,3,2,2,12,60.0,7.0,1.0,415.0,380.0,122.0,71.0,140.0,57.91695652173913,64.16681003584229,130.0,200.0,1\\nCaberfae Peaks,Michigan,1569,485,0,1,2,1,1,5,34.0,2.0,1.2,200.0,200.0,118.0,82.0,140.0,39.0,49.0,130.0,150.0,1\\nCannonsburg,Michigan,1100,250,0,1,1,1,7,10,21.0,5.0,0.1,100.0,0.0,100.0,54.0,100.0,30.0,37.0,100.0,0.0,1\\nCrystal Mountain,Michigan,1132,375,1,3,2,0,2,8,58.0,3.0,0.3,102.0,96.0,120.0,63.0,132.0,54.0,64.0,135.0,56.0,1\\nBig Snow Resort - Indianhead Mountain,Michigan,1935,638,0,1,1,5,2,9,32.0,2.0,1.0,240.0,150.0,120.0,60.0,204.0,49.0,49.0,120.0,0.0,1\\nMarquette Mountain,Michigan,1357,600,0,0,1,2,1,4,35.0,3.0,0.7,169.0,143.0,139.0,60.0,210.0,57.91695652173913,64.16681003584229,135.0,89.0,1\\nMont Ripley,Michigan,1140,440,0,0,0,2,2,4,25.0,2.0,0.8,112.0,112.0,114.0,83.0,275.0,49.0,49.0,100.0,100.0,1\\nMount Bohemia,Michigan,1500,900,0,0,1,1,0,2,48.214723926380366,0.0,2.3,585.0,0.0,83.0,19.0,273.0,68.0,68.0,100.0,0.0,1\\nMt. Brighton,Michigan,1330,230,0,2,3,0,8,13,25.0,5.0,0.1,130.0,130.0,111.0,59.0,60.0,52.0,59.0,100.0,130.0,1\\nMt. Holiday Ski Area,Michigan,440,200,0,0,0,2,2,4,12.0,0.0,0.1,45.0,45.0,100.0,70.0,120.0,22.0,34.0,90.0,45.0,1\\nMount Holly,Michigan,1105,350,1,2,3,1,6,13,19.0,0.0,0.1,100.0,100.0,115.10394265232976,63.0,42.0,37.0,45.0,102.0,100.0,1\\nMulligan's Hollow Ski Bowl,Michigan,700,130,0,0,0,0,5,5,6.0,0.0,0.2,10.0,10.0,115.10394265232976,19.0,60.0,15.0,20.0,120.0530035335689,10.0,1\\nNorway Mountain,Michigan,1335,500,0,0,1,2,3,6,17.0,1.0,1.4,186.0,186.0,110.0,45.0,100.0,57.91695652173913,45.0,110.0,40.0,1\\nNubs Nob Ski Area,Michigan,1338,427,0,3,4,2,1,10,53.0,3.0,0.9,248.0,248.0,133.0,61.0,135.0,65.0,85.0,130.0,160.0,1\\nPine Knob Ski Resort,Michigan,1308,300,0,0,0,0,6,6,14.0,3.0,1.0,80.0,80.0,115.10394265232976,2019.0,185.31645569620247,49.0,57.0,120.0530035335689,0.0,1\\nPine Mountain,Michigan,1650,500,0,0,1,2,1,4,28.0,1.0,0.5,160.0,160.0,110.0,80.0,60.0,57.91695652173913,45.0,126.0,80.0,1\\nSchuss Mountain at Shanty Creek,Michigan,1125,450,0,5,0,0,3,8,42.0,3.0,1.0,70.0,70.0,94.0,57.0,160.0,58.0,78.0,111.0,70.0,1\\nSki Brule,Michigan,1860,500,0,0,0,5,7,12,17.0,3.0,1.0,150.0,150.0,164.0,62.0,150.0,49.0,49.0,165.0,40.0,1\\nSnow Snake Mountain Ski Area,Michigan,1230,210,0,0,1,0,5,6,12.0,2.0,0.0,40.0,40.0,115.10394265232976,72.0,185.31645569620247,30.0,35.0,120.0530035335689,40.0,1\\nSwiss Valley,Michigan,1200,225,0,2,1,0,4,7,11.0,2.0,0.1,60.0,60.0,89.0,51.0,60.0,32.0,42.0,80.0,60.0,1\\nThe Homestead,Michigan,900,320,0,0,2,1,2,5,15.0,1.0,0.2,16.0,16.0,47.0,34.0,150.0,50.0,50.0,42.0,16.0,1\\nTimber Ridge,Michigan,850,250,0,1,1,2,4,8,16.0,2.0,0.3,50.0,50.0,80.0,58.0,185.31645569620247,35.0,45.0,120.0530035335689,50.0,1\\nTreetops Resort,Michigan,1345,225,0,0,3,0,2,5,23.0,3.0,0.2,80.0,80.0,63.0,65.0,175.0,57.91695652173913,64.16681003584229,101.0,80.0,1\\nAfton Alps,Minnesota,1530,350,0,1,3,14,4,22,48.0,5.0,0.5,250.0,250.0,135.0,56.0,60.0,55.0,60.0,135.0,250.0,1\\nAndes Tower Hills Ski Area,Minnesota,1620,290,0,1,2,0,3,6,15.0,2.0,0.2,35.0,35.0,100.0,38.0,55.0,45.0,45.0,110.0,35.0,1\\nBuck Hill,Minnesota,1225,309,0,2,1,0,5,8,16.0,0.0,0.2,45.0,45.0,115.0,65.0,60.0,34.0,47.0,112.0,45.0,1\\nBuena Vista Ski Area,Minnesota,1510,230,0,0,2,2,2,6,17.0,0.0,0.3,30.0,30.0,57.0,70.0,78.0,44.0,44.0,60.0,30.0,1\\nCoffee Mill Ski & Snowboard Resort,Minnesota,1150,425,0,0,0,2,1,3,14.0,1.0,1.0,40.0,35.0,57.0,39.0,48.0,23.0,37.0,56.0,35.0,1\\nElm Creek Winter Recreation Area,Minnesota,928,60,0,0,0,0,3,3,3.0,0.0,1.0,15.0,20.0,105.0,13.0,45.0,17.0,17.0,102.0,15.0,1\\nGiants Ridge Resort,Minnesota,1972,500,1,1,1,2,2,7,35.0,2.0,0.8,202.0,202.0,120.0,35.0,85.0,49.0,58.0,125.0,121.0,1\\nHyland Ski & Snowboard Area,Minnesota,1075,175,0,2,1,0,5,8,14.0,1.0,1.0,35.0,35.0,110.0,61.0,55.0,35.34,35.34,115.0,35.0,1\\nLutsen Mountains,Minnesota,1688,825,0,0,1,4,1,8,62.0,2.0,2.0,393.0,231.0,135.0,71.0,120.0,84.0,84.0,127.0,0.0,1\\nMount Kato Ski Area,Minnesota,540,240,0,5,0,3,2,10,19.0,4.0,1.0,55.0,55.0,115.0,43.0,50.0,34.0,46.0,120.0,50.0,1\\nPowder Ridge Ski Area,Minnesota,790,300,0,1,0,2,3,6,15.0,4.0,1.4332307692307693,60.0,60.0,97.0,58.0,45.0,36.0,48.0,113.0,60.0,1\\nSpirit Mountain,Minnesota,1320,700,1,1,2,1,2,7,22.0,3.0,1.0,175.0,175.0,100.0,45.0,100.0,59.0,59.0,125.0,144.0,1\\nWelch Village,Minnesota,1060,360,0,3,1,4,2,10,50.0,1.0,0.8,125.0,125.0,114.0,54.0,45.0,54.0,60.0,122.0,100.0,1\\nWild Mountain Ski & Snowboard Area,Minnesota,1113,300,0,4,0,0,4,8,26.0,4.0,0.9,100.0,100.0,130.0,47.0,50.0,55.0,55.0,140.0,100.0,1\\nHidden Valley Ski Area,Missouri,2566,310,0,2,2,0,3,7,17.0,0.0,0.1,30.0,30.0,115.10394265232976,37.0,26.0,49.0,49.0,120.0530035335689,17.0,1\\nSnow Creek,Missouri,1100,300,0,0,2,1,2,5,14.0,2.0,0.3,30.0,30.0,69.0,33.0,20.0,37.0,47.0,85.0,30.0,1\\nBig Sky Resort,Montana,11166,4350,5,3,7,5,12,36,317.0,8.0,6.0,5800.0,400.0,144.0,46.0,400.0,57.91695652173913,64.16681003584229,144.0,0.0,0\\nBlacktail Mountain Ski Area,Montana,6676,1440,0,0,1,2,1,4,27.0,0.0,0.7,1000.0,0.0,115.10394265232976,21.0,250.0,42.0,42.0,120.0530035335689,0.0,3\\nBridger Bowl,Montana,8700,2600,0,1,6,1,3,11,105.0,2.0,1.5,2000.0,100.0,122.0,64.0,350.0,63.0,63.0,133.0,0.0,0\\nDiscovery Ski Area,Montana,8150,2380,0,0,5,2,1,8,74.0,1.0,1.5,2400.0,25.0,116.0,46.0,225.0,49.0,49.0,116.0,0.0,3\\nGreat Divide,Montana,7330,1580,0,0,0,5,1,6,110.0,6.0,3.0,1600.0,150.0,94.0,78.0,180.0,48.0,48.0,100.0,100.0,3\\nLost Trail - Powder Mtn,Montana,8200,1800,0,0,0,5,3,8,69.0,2.0,2.5,1800.0,0.0,84.0,81.0,325.0,46.0,46.0,80.0,0.0,3\\nMaverick Mountain,Montana,8520,2020,0,0,0,1,1,2,22.0,0.0,1.3,255.0,0.0,115.10394265232976,83.0,160.0,39.0,39.0,120.0530035335689,0.0,3\\nMontana Snowbowl,Montana,7600,2600,0,0,0,2,2,4,37.0,0.0,1.2,950.0,20.0,115.10394265232976,58.0,300.0,50.0,50.0,120.0530035335689,10.0,3\\nRed Lodge Mountain,Montana,9416,2400,2,0,1,3,1,7,70.0,2.0,2.5,1635.0,496.0,142.0,59.0,250.0,67.0,67.0,136.0,0.0,0\\nShowdown Montana,Montana,8200,1400,0,0,1,2,1,4,36.0,1.0,1.8,640.0,0.0,86.0,83.0,250.0,47.0,47.0,85.0,0.0,3\\nTeton Pass Ski Resort,Montana,7200,1010,0,0,0,1,2,3,43.0,1.0,3.0,330.0,0.0,40.0,54.0,250.0,39.0,39.0,150.0,0.0,3\\nBig Mountain Resort,Montana,6817,2353,3,2,6,0,3,14,105.0,4.0,3.3,3000.0,600.0,123.0,72.0,333.0,81.0,81.0,123.0,600.0,3\\nDiamond Peak,Nevada,8540,1840,1,2,0,3,1,7,30.0,3.0,2.5,655.0,492.0,100.0,53.0,300.0,89.0,99.0,122.0,0.0,3\\nElko SnoBowl,Nevada,7000,700,0,0,0,1,1,2,10.0,0.0,1.0,60.0,2.0,19.0,23.0,24.0,20.0,20.0,30.0,0.0,3\\nLee Canyon,Nevada,11289,860,0,2,1,0,0,3,24.0,1.0,0.3,195.0,50.0,144.0,56.0,161.0,70.0,70.0,150.0,0.0,0\\nMt. Rose - Ski Tahoe,Nevada,9700,1800,0,2,2,0,2,8,65.0,5.0,2.5,1200.0,330.0,152.0,55.0,350.0,135.0,135.0,150.0,0.0,0\\nAttitash,New Hampshire,2350,1750,2,1,3,2,1,9,68.0,3.0,3.0,311.0,240.0,115.0,54.0,120.0,79.0,89.0,130.0,0.0,1\\nBlack Mountain,New Hampshire,2350,1100,0,0,1,1,3,5,45.0,0.0,1.6,143.0,120.0,110.0,84.0,125.0,45.0,59.0,107.0,0.0,1\\nBretton Woods,New Hampshire,3100,1500,4,1,1,0,3,9,63.0,2.0,2.0,464.0,427.0,180.0,46.0,200.0,85.0,99.0,180.0,45.0,1\\nCannon Mountain,New Hampshire,4080,2180,1,2,3,1,3,11,97.0,3.0,2.3,285.0,192.0,124.0,81.0,160.0,79.0,79.0,143.0,0.0,1\\nCranmore Mountain Resort,New Hampshire,2000,1200,1,1,2,1,2,7,57.0,4.0,1.0,200.0,192.0,107.0,82.0,150.0,57.91695652173913,64.16681003584229,128.0,0.0,1\\nCrotched Mountain,New Hampshire,2066,1016,1,1,1,1,1,5,25.0,3.0,1.2,100.0,100.0,105.0,16.0,105.0,55.0,69.0,100.0,100.0,1\\nDartmouth Skiway,New Hampshire,1943,969,0,1,0,1,2,4,28.0,1.0,1.1,107.0,54.0,104.0,63.0,100.0,50.0,50.0,105.0,0.0,1\\nGunstock,New Hampshire,2300,1400,1,2,2,0,1,6,55.0,4.0,1.5,227.0,176.0,106.0,82.0,120.0,80.0,92.0,120.0530035335689,60.0,1\\nKing Pine,New Hampshire,850,350,0,0,3,0,3,6,17.0,2.0,0.3,48.0,45.0,105.0,57.0,120.0,42.0,58.0,107.0,23.0,1\\nLoon Mountain,New Hampshire,3050,2100,3,1,1,3,2,11,61.0,6.0,2.5,370.0,322.0,149.0,53.0,160.0,57.91695652173913,64.16681003584229,144.0,0.0,1\\nMount Sunapee,New Hampshire,2743,1510,2,1,2,1,4,10,66.0,4.0,0.8,232.0,215.0,130.0,71.0,100.0,83.0,93.0,136.0,0.0,1\\nPats Peak,New Hampshire,1460,770,0,0,4,2,5,11,28.0,3.0,1.5,115.0,115.0,109.0,56.0,100.0,58.0,72.0,112.0,93.0,1\\nRagged Mountain Resort,New Hampshire,2250,1250,1,0,1,0,3,6,57.0,3.0,0.7,250.0,200.0,115.10394265232976,54.0,100.0,74.0,84.0,140.0,0.0,1\\nWaterville Valley,New Hampshire,4004,2020,2,0,2,3,4,11,62.0,4.0,1.9,265.0,220.0,142.0,54.0,148.0,79.0,93.0,142.0,0.0,1\\nWhaleback Mountain,New Hampshire,1800,700,0,0,0,1,3,4,30.0,1.0,1.0,85.0,60.0,105.0,64.0,110.0,30.0,45.0,105.0,55.0,1\\nWildcat Mountain,New Hampshire,4062,2112,1,0,3,0,1,5,48.0,0.0,2.8,225.0,200.0,156.0,61.0,200.0,79.0,89.0,150.0,0.0,1\\nCampgaw Mountain,New Jersey,726,274,0,0,0,2,3,5,12.0,1.0,0.3,23.0,23.0,80.0,58.0,45.0,57.91695652173913,64.16681003584229,120.0530035335689,14.0,1\\nMountain Creek Resort,New Jersey,1480,1040,2,2,1,1,3,10,46.0,3.0,2.0,167.0,167.0,90.0,54.0,65.0,79.99,79.99,100.0,167.0,1\\nAngel Fire Resort,New Mexico,10677,2077,2,0,0,3,2,7,81.0,3.0,3.0,560.0,230.0,101.0,53.0,210.0,77.0,77.0,101.0,50.0,0\\nEnchanted Forest Ski Area,New Mexico,10078,400,0,0,0,0,0,0,33.0,0.0,2.5,600.0,0.0,130.0,34.0,240.0,20.0,20.0,140.0,0.0,0\\nPajarito Mountain Ski Area,New Mexico,10441,1410,0,1,1,3,1,6,45.0,2.0,0.6,750.0,35.0,89.0,62.0,163.0,49.0,49.0,117.0,0.0,0\\nRed River,New Mexico,10350,1600,0,1,3,1,2,7,63.0,3.0,2.5,209.0,0.0,110.0,60.0,214.0,79.0,79.0,120.0530035335689,0.0,0\\nSandia Peak,New Mexico,10378,1700,0,0,0,4,1,5,39.0,1.0,2.0,200.0,30.0,32.0,82.0,100.0,55.0,55.0,38.0,0.0,0\\nSipapu Ski Resort,New Mexico,9255,1055,0,1,2,0,3,6,42.0,4.0,0.5,200.0,140.0,127.0,67.0,190.0,47.0,47.0,143.0,0.0,3\\nSki Apache,New Mexico,11500,1900,0,2,6,0,2,11,55.0,3.0,2.0,750.0,270.0,133.0,58.0,185.0,74.0,74.0,124.0,0.0,0\\nSki Santa Fe,New Mexico,12075,1725,0,1,2,2,2,7,83.0,1.0,3.0,660.0,275.0,107.0,73.0,225.0,80.0,80.0,130.0,0.0,0\\nTaos Ski Valley,New Mexico,12481,3281,1,3,4,1,4,14,111.0,1.0,5.0,1294.0,647.0,137.0,64.0,300.0,110.0,110.0,136.0,0.0,0\\nBelleayre,New York,3429,1404,1,1,1,2,2,8,50.0,2.0,2.2,175.0,168.0,154.0,70.0,130.0,60.0,72.0,150.0,0.0,1\\nBrantling Ski Slopes,New York,850,250,0,0,0,0,5,5,10.0,0.0,0.1,20.0,16.0,115.10394265232976,19.0,110.0,32.0,32.0,120.0530035335689,0.0,1\\nBristol Mountain,New York,2200,1200,2,1,1,1,1,6,34.0,3.0,2.0,160.0,148.0,129.0,55.0,60.0,65.0,76.0,129.0,154.0,1\\nBuffalo Ski Club Ski Area,New York,3429,500,0,0,0,2,4,6,43.0,1.0,1.4332307692307693,225.0,150.0,115.10394265232976,12.0,185.31645569620247,35.0,50.0,120.0530035335689,100.0,1\\nCatamount,New York,2000,1000,0,1,1,2,3,7,36.0,5.0,2.0,133.0,130.0,100.0,80.0,108.0,38.0,69.0,90.0,55.0,1\\nDry Hill Ski Area,New York,950,300,0,0,0,1,2,3,7.0,1.0,0.2,35.0,26.0,115.10394265232976,55.0,125.0,57.91695652173913,35.0,120.0530035335689,26.0,1\\nGore Mountain,New York,3600,2537,2,2,3,2,4,14,110.0,7.0,4.5,439.0,338.0,142.0,55.0,150.0,80.0,88.0,120.0530035335689,15.0,1\\nGreek Peak,New York,2100,952,0,1,1,4,2,8,56.0,4.0,1.5,220.0,184.0,110.0,62.0,122.0,49.0,63.2,113.0,175.0,1\\nHoliday Mountain,New York,1550,400,0,1,0,1,2,4,9.0,0.0,0.4,37.0,37.0,75.0,60.0,50.0,27.0,42.0,85.0,37.0,1\\nHoliday Valley,New York,2250,750,3,8,0,0,2,13,60.0,5.0,1.0,290.0,266.0,116.0,62.0,180.0,65.0,78.0,129.0,189.0,1\\nHolimont Ski Area,New York,2260,700,1,1,2,3,1,8,53.0,3.0,1.5,135.0,135.0,110.0,57.0,180.0,62.0,75.0,119.0,0.0,1\\nHunt Hollow Ski Club,New York,2030,825,0,0,1,1,1,3,19.0,1.0,1.0,400.0,400.0,115.10394265232976,52.0,130.0,48.0,58.0,75.0,400.0,1\\nHunter Mountain,New York,3200,1600,1,2,2,2,4,13,67.0,4.0,2.0,320.0,320.0,148.0,59.0,120.0,79.0,89.0,155.0,0.0,1\\nKissing Bridge,New York,1700,550,0,2,1,4,3,10,39.0,5.0,0.5,700.0,550.0,103.0,59.0,120.0,40.0,60.0,100.0,650.0,1\\nLabrador Mt.,New York,1825,700,0,0,1,2,1,4,23.0,1.0,1.0,250.0,237.0,115.10394265232976,62.0,125.0,59.0,59.0,100.0,180.0,1\\nMaple Ski Ridge,New York,1200,450,0,0,1,1,1,3,10.0,0.0,0.3,25.0,25.0,115.10394265232976,57.0,185.31645569620247,26.0,38.0,120.0530035335689,20.0,1\\nMcCauley Mountain Ski Center,New York,2250,633,0,0,0,1,4,5,23.0,1.0,0.3,70.0,55.0,105.0,61.0,200.0,20.0,30.0,105.0,0.0,1\\nMount Peter Ski Area,New York,1250,450,0,1,0,2,2,5,14.0,1.0,1.0,69.0,69.0,100.0,83.0,50.0,35.0,54.0,100.0,69.0,1\\nOak Mountain,New York,2400,650,0,1,0,0,3,4,22.0,1.0,1.2,46.0,18.0,115.10394265232976,71.0,120.0,40.0,40.0,120.0530035335689,12.0,1\\nPeek'n Peak,New York,1800,400,0,0,8,0,2,10,27.0,4.0,2.4,110.0,110.0,110.0,55.0,225.0,49.0,63.0,120.0530035335689,110.0,1\\nPlattekill Mountain,New York,3500,1100,0,0,1,1,2,4,38.0,1.0,2.0,110.0,75.0,65.0,26.0,175.0,50.0,67.0,65.0,0.0,1\\nRoyal Mountain Ski Area,New York,1800,550,0,0,0,3,0,3,14.0,0.0,0.3,35.0,28.0,115.10394265232976,63.0,90.0,45.0,45.0,120.0530035335689,0.0,1\\nSnow Ridge,New York,2000,650,0,0,0,4,2,6,21.0,2.0,0.8,130.0,65.0,73.0,74.0,230.0,38.0,48.0,100.0,40.0,1\\nSong Mountain,New York,1940,700,0,0,1,1,3,5,24.0,0.0,0.4,93.0,70.0,90.0,55.0,125.0,59.0,59.0,122.0,70.0,1\\nSwain,New York,1970,650,0,3,0,1,1,5,35.0,3.0,1.0,130.0,90.0,102.0,72.0,120.0,49.0,59.0,100.0,80.0,1\\nThunder Ridge,New York,1270,500,0,0,1,2,3,6,30.0,0.0,0.4,100.0,100.0,121.0,60.0,185.31645569620247,57.91695652173913,57.0,121.0,100.0,1\\nTitus Mountain,New York,2025,1200,0,0,2,6,2,10,50.0,3.0,2.0,200.0,150.0,101.0,59.0,150.0,39.0,49.0,100.0,70.0,1\\nToggenburg Mountain,New York,2000,700,0,0,1,1,3,5,22.0,2.0,0.4,85.0,0.0,115.10394265232976,66.0,130.0,55.0,55.0,122.0,73.0,1\\nWest Mountain,New York,1470,1010,0,0,1,2,2,5,29.0,1.0,0.6,124.0,105.0,115.10394265232976,58.0,80.0,49.0,59.0,120.0,105.0,1\\nWhiteface Mountain Resort,New York,4650,3430,1,1,2,5,2,12,86.0,5.0,2.1,288.0,220.0,122.0,61.0,168.0,96.0,96.0,141.0,0.0,3\\nWillard Mountain,New York,1415,505,0,0,0,2,3,5,16.0,0.0,0.4,50.0,35.0,85.0,19.0,80.0,46.0,46.0,120.0,35.0,1\\nWindham Mountain,New York,3100,1600,2,0,3,1,5,12,54.0,6.0,2.0,285.0,280.0,123.0,59.0,105.0,85.0,95.0,130.0,56.0,1\\nWoods Valley Ski Area,New York,1400,500,0,0,0,2,4,6,21.0,0.0,0.3,25.0,16.0,115.10394265232976,55.0,180.0,31.0,39.0,120.0530035335689,15.0,1\\nAppalachian Ski Mountain,North Carolina,4000,365,0,2,0,1,2,5,12.0,3.0,0.5,27.0,27.0,100.0,57.0,50.0,40.0,64.0,100.0,27.0,1\\nCataloochee Ski Area,North Carolina,5400,740,0,1,1,1,2,5,18.0,2.0,1.0,50.0,50.0,141.0,58.0,50.0,43.0,70.0,108.0,50.0,3\\nSapphire Valley,North Carolina,3450,200,0,1,0,0,2,3,48.214723926380366,1.0,1.0,8.0,8.0,53.0,55.0,24.0,40.0,43.0,60.0,8.0,1\\nBeech Mountain Resort,North Carolina,5506,830,0,3,0,3,2,8,17.0,1.0,1.0,95.0,95.0,98.0,52.0,31.0,41.0,68.0,120.0530035335689,95.0,3\\nSugar Mountain Resort,North Carolina,5300,1200,0,0,1,4,2,8,21.0,1.0,1.5,125.0,125.0,114.0,50.0,77.0,45.0,75.0,120.0,95.0,3\\nWolf Ridge Ski Resort,North Carolina,4700,720,0,1,0,1,2,4,15.0,1.0,0.6,65.0,65.0,115.10394265232976,49.0,65.0,42.0,65.0,100.0,60.0,3\\nAlpine Valley,Ohio,1500,230,0,1,2,1,1,5,11.0,1.0,0.2,72.0,72.0,105.0,53.0,120.0,43.0,43.0,120.0530035335689,72.0,1\\nBoston Mills,Ohio,871,264,0,0,4,2,2,8,7.0,2.0,0.3,40.0,40.0,92.0,56.0,51.0,44.0,44.0,110.0,40.0,1\\nBrandywine,Ohio,871,240,0,2,7,2,5,16,11.0,2.0,0.3,85.0,85.0,92.0,56.0,51.0,44.0,44.0,110.0,85.0,1\\nMad River Mountain,Ohio,1460,300,0,1,2,3,6,12,20.0,4.0,0.5,144.0,144.0,99.0,57.0,36.0,39.0,44.0,90.0,144.0,1\\nSnow Trails,Ohio,1475,301,0,0,4,2,3,9,17.0,3.0,0.2,80.0,80.0,101.0,58.0,50.0,41.0,52.0,70.0,80.0,1\\nAnthony Lakes Mountain Resort,Oregon,8000,900,0,0,1,0,2,3,21.0,2.0,1.5,1100.0,0.0,75.0,56.0,300.0,40.0,40.0,80.0,0.0,3\\nCooper Spur,Oregon,4000,350,0,0,0,1,1,2,10.0,0.0,0.1,50.0,0.0,78.0,66.0,100.0,39.0,39.0,90.0,0.0,1\\nHoodoo Ski Area,Oregon,5703,1035,0,3,1,1,0,5,34.0,0.0,0.4,806.0,0.0,80.0,81.0,350.0,59.0,59.0,108.0,200.0,3\\nMt. Ashland,Oregon,7533,1150,0,0,2,2,1,5,23.0,2.0,1.0,220.0,0.0,94.0,55.0,300.0,45.0,52.0,92.0,40.0,3\\nMt. Bachelor,Oregon,9065,3365,8,0,3,0,0,11,101.0,5.0,4.0,4318.0,20.0,185.0,61.0,462.0,99.0,99.0,185.0,0.0,0\\nMt. Hood Meadows,Oregon,7300,2777,6,0,0,5,2,13,85.0,6.0,3.0,2150.0,0.0,118.0,51.0,430.0,57.91695652173913,64.16681003584229,160.0,170.0,3\\nMt. Hood Skibowl,Oregon,5100,1500,0,0,0,4,5,9,65.0,2.0,3.0,960.0,29.0,125.0,82.0,300.0,70.0,70.0,144.0,317.0,3\\nSpout Springs,Oregon,5500,610,0,0,0,2,2,4,14.0,0.0,0.1,200.0,0.0,117.0,19.0,118.0,57.91695652173913,64.16681003584229,125.0,100.0,3\\nTimberline Lodge,Oregon,8540,3690,5,0,1,1,1,8,41.0,5.0,2.0,1415.0,0.0,305.0,82.0,550.0,57.91695652173913,64.16681003584229,305.0,300.0,3\\nWillamette Pass,Oregon,6683,1563,0,0,3,0,1,5,29.0,0.0,2.1,555.0,60.0,3.0,78.0,430.0,60.0,60.0,100.0,0.0,3\\nBear Creek Mountain Resort,Pennsylvania,1100,510,0,3,1,0,2,6,23.0,3.0,1.0,86.0,86.0,91.0,52.0,30.0,50.0,60.0,90.0,86.0,1\\nSki Big Bear,Pennsylvania,1250,650,0,0,0,4,2,6,18.0,1.0,1.5,26.0,26.0,75.0,43.0,69.0,50.0,62.0,75.0,26.0,1\\nBig Boulder,Pennsylvania,2175,600,0,0,2,5,1,8,16.0,8.0,1.4332307692307693,55.0,55.0,76.0,72.0,50.0,50.0,65.0,95.0,55.0,1\\nBlue Knob,Pennsylvania,3146,1072,0,0,2,2,2,6,34.0,1.0,2.0,100.0,84.0,87.0,56.0,120.0,43.0,68.0,105.0,42.0,1\\nBlue Mountain Resort,Pennsylvania,1600,1082,1,1,1,3,9,16,39.0,5.0,1.2,164.0,164.0,122.0,42.0,33.0,55.0,65.0,112.0,164.0,1\\nCamelback Mountain Resort,Pennsylvania,2100,800,2,0,3,5,6,16,37.0,5.0,1.0,166.0,166.0,100.0,56.0,50.0,55.0,70.0,100.0,160.0,1\\nEagle Rock,Pennsylvania,1810,550,0,0,0,3,0,3,14.0,1.0,1.0,739.8012232415903,0.0,115.10394265232976,47.0,185.31645569620247,57.91695652173913,64.16681003584229,40.0,0.0,1\\nElk Mountain Ski Resort,Pennsylvania,2693,1000,0,1,0,5,1,7,27.0,2.0,0.7,180.0,146.0,115.10394265232976,60.0,60.0,55.0,69.0,100.0,90.0,1\\nJack Frost,Pennsylvania,2000,600,0,1,2,5,1,9,20.0,1.0,1.0,100.0,100.0,96.0,47.0,50.0,50.0,65.0,105.0,0.0,1\\nLiberty,Pennsylvania,1190,620,0,5,0,0,3,8,16.0,3.0,1.0,100.0,100.0,107.0,54.0,31.0,67.0,77.0,97.0,100.0,1\\nMount Pleasant of Edinboro,Pennsylvania,1540,340,0,0,1,0,1,2,10.0,0.0,0.5,40.0,35.0,75.0,48.0,100.0,30.0,33.0,90.0,35.0,1\\nRoundtop Mountain Resort,Pennsylvania,1400,600,0,3,2,0,3,8,20.0,2.0,0.4,103.0,103.0,115.10394265232976,55.0,30.0,63.0,73.0,120.0530035335689,100.0,1\\nSeven Springs,Pennsylvania,2994,750,0,3,5,0,4,14,33.0,7.0,1.2,285.0,285.0,99.0,87.0,135.0,67.0,87.0,115.0,200.0,1\\nShawnee Mountain Ski Area,Pennsylvania,1350,700,1,1,0,4,4,10,23.0,2.0,1.6,125.0,125.0,100.0,44.0,50.0,55.0,65.0,122.0,120.0,1\\nSki Sawmill,Pennsylvania,2215,515,0,0,1,1,3,5,14.0,1.0,0.1,15.0,13.0,115.10394265232976,50.0,24.0,30.0,44.0,90.0,15.0,1\\nMontage Mountain,Pennsylvania,1960,1000,0,1,3,1,2,7,26.0,1.0,1.2,140.0,140.0,60.0,35.0,47.0,67.0,64.16681003584229,90.0,140.0,1\\nSpring Mountain Ski Area,Pennsylvania,528,450,0,0,1,3,2,6,9.0,1.0,0.2,45.0,45.0,100.0,56.0,20.0,57.91695652173913,64.16681003584229,100.0,45.0,1\\nTussey Mountain,Pennsylvania,1750,520,0,1,0,1,3,5,8.0,1.0,0.3,38.0,30.0,100.0,39.0,41.0,40.0,45.0,100.0,30.0,1\\nWhitetail Resort,Pennsylvania,1800,935,1,3,0,2,2,8,23.0,2.0,1.0,120.0,120.0,116.0,28.0,40.0,69.0,71.0,100.0,120.0,1\\nYawgoo Valley,Rhode Island,315,245,0,0,0,2,2,4,13.0,1.0,0.2,30.0,30.0,100.0,54.0,40.0,57.91695652173913,64.16681003584229,100.0,30.0,1\\nDeer Mountain Ski Resort,South Dakota,6850,940,0,0,1,1,2,4,63.0,2.0,1.6,500.0,50.0,69.0,51.0,200.0,45.0,45.0,81.0,0.0,3\\nTerry Peak Ski Area,South Dakota,7100,1100,3,0,1,0,1,5,30.0,1.0,1.2,450.0,225.0,114.0,65.0,150.0,58.0,58.0,120.0,0.0,3\\nOber Gatlinburg Ski Resort,Tennessee,3300,600,0,2,0,1,1,4,10.0,1.0,1.0,739.8012232415903,0.0,83.0,44.0,35.0,36.0,65.0,94.0,0.0,1\\nAlta Ski Area,Utah,11068,2538,3,0,1,2,0,6,116.0,0.0,1.3,2614.0,140.0,150.0,81.0,545.0,116.0,116.0,140.0,0.0,0\\nBeaver Mountain,Utah,8600,1600,0,0,1,3,1,5,48.0,2.0,0.8,464.0,0.0,120.0,81.0,400.0,50.0,50.0,120.0,0.0,3\\nBrian Head Resort,Utah,10970,1548,1,0,6,1,0,8,71.0,2.0,0.6,650.0,216.0,149.0,54.0,360.0,42.0,59.0,148.0,0.0,0\\nBrighton Resort,Utah,10500,1745,3,1,1,0,2,7,66.0,4.0,1.2,1050.0,200.0,138.0,83.0,500.0,85.0,85.0,138.0,200.0,0\\nDeer Valley Resort,Utah,9570,3000,13,0,5,2,0,21,103.0,0.0,2.8,2026.0,660.0,115.10394265232976,39.0,300.0,169.0,169.0,120.0530035335689,0.0,0\\nEagle Point,Utah,10600,1500,0,1,1,2,1,5,40.0,1.0,0.9,650.0,0.0,115.10394265232976,9.0,400.0,45.0,60.0,109.0,0.0,0\\nPark City,Utah,10000,3200,10,4,7,4,6,41,341.0,8.0,3.5,7300.0,750.0,142.0,56.0,355.0,57.91695652173913,64.16681003584229,143.0,0.0,0\\nPowder Mountain,Utah,9422,2522,1,4,1,0,3,9,167.0,2.0,3.5,8464.0,0.0,120.0,47.0,500.0,88.0,88.0,146.0,300.0,0\\nSnowbasin,Utah,9350,2900,2,0,3,0,2,11,107.0,4.0,3.5,3000.0,625.0,143.0,79.0,300.0,115.0,115.0,138.0,0.0,0\\nSnowbird,Utah,11000,3240,6,0,0,4,3,14,170.0,1.0,2.5,2500.0,0.0,188.0,48.0,500.0,125.0,125.0,180.0,2.0,0\\nSolitude Mountain Resort,Utah,10488,2494,4,2,1,1,1,9,80.0,0.0,3.0,1200.0,150.0,161.0,62.0,500.0,109.0,119.0,148.0,0.0,0\\nSundance,Utah,8250,2150,0,2,2,0,1,5,45.0,1.0,0.6,450.0,112.0,128.0,50.0,320.0,80.0,80.0,129.0,0.0,3\\nNordic Valley Resort,Utah,6400,960,0,0,0,2,2,4,23.0,1.0,0.4,140.0,84.0,105.0,51.0,300.0,45.0,50.0,105.0,140.0,3\\nBolton Valley,Vermont,3150,1704,0,2,0,3,1,6,71.0,3.0,0.6,300.0,90.0,133.0,53.0,300.0,69.0,79.0,132.0,50.0,1\\nBromley Mountain,Vermont,3284,1334,1,1,0,4,3,9,47.0,1.0,2.5,178.0,153.0,115.10394265232976,83.0,168.0,87.0,91.0,152.0,0.0,1\\nBurke Mountain,Vermont,3267,2011,2,1,0,0,3,6,50.0,3.0,2.2,178.0,125.0,110.0,62.0,217.0,73.0,73.0,125.0,0.0,1\\nJay Peak,Vermont,3968,2153,1,3,1,1,2,9,79.0,2.0,3.0,385.0,300.0,155.0,64.0,349.0,89.0,89.0,160.0,0.0,1\\nKillington Resort,Vermont,4241,3050,5,4,3,1,5,22,155.0,6.0,6.0,1515.0,600.0,192.0,61.0,250.0,119.0,119.0,120.0530035335689,0.0,3\\nMad River Glen,Vermont,3637,2037,0,0,2,2,1,5,52.0,0.0,1.0,115.0,16.0,134.0,71.0,228.0,57.91695652173913,64.16681003584229,135.0,0.0,1\\nMagic Mountain,Vermont,2850,1500,0,0,0,3,3,6,50.0,1.0,1.6,205.0,95.0,76.0,59.0,150.0,74.0,74.0,80.0,0.0,1\\nMount Snow,Vermont,3600,1700,3,1,6,4,5,20,86.0,10.0,3.0,600.0,480.0,135.0,65.0,156.0,57.91695652173913,64.16681003584229,135.0,0.0,1\\nOkemo Mountain Resort,Vermont,3344,2200,4,5,3,0,7,20,121.0,9.0,4.0,667.0,654.0,146.0,63.0,200.0,57.91695652173913,64.16681003584229,152.0,0.0,1\\nPico Mountain,Vermont,3967,1967,2,0,2,2,1,7,59.0,1.0,4.0,260.0,156.0,115.10394265232976,82.0,250.0,81.0,81.0,120.0530035335689,0.0,1\\nSmugglers' Notch Resort,Vermont,3640,2610,0,0,0,6,2,8,78.0,6.0,3.0,1000.0,192.0,136.0,63.0,280.0,79.0,79.0,135.0,0.0,1\\nStowe Mountain Resort,Vermont,4395,2360,0,4,2,2,2,12,116.0,0.0,3.7,485.0,388.0,155.0,86.0,314.0,57.91695652173913,64.16681003584229,137.0,0.0,3\\nStratton Mountain,Vermont,3875,2003,1,2,1,1,1,11,99.0,4.0,3.0,670.0,474.0,155.0,58.0,180.0,57.91695652173913,64.16681003584229,160.0,0.0,1\\nSugarbush,Vermont,4083,2600,5,5,2,1,3,16,111.0,4.0,3.0,581.0,406.0,150.0,61.0,250.0,119.0,119.0,156.0,0.0,1\\nSuicide Six,Vermont,1200,650,0,0,0,2,1,3,24.0,0.0,0.4,100.0,50.0,100.0,85.0,90.0,45.0,75.0,106.0,0.0,1\\nBryce Resort,Virginia,1750,500,0,1,0,1,5,7,8.0,0.0,0.4,25.0,25.0,100.0,54.0,30.0,43.0,68.0,95.0,20.0,1\\nMassanutten,Virginia,2925,1110,0,3,1,0,3,7,13.0,2.0,0.8,70.0,70.0,68.0,46.0,35.0,57.91695652173913,64.16681003584229,97.0,70.0,1\\nThe Homestead Ski Area,Virginia,3200,700,0,0,0,1,1,2,10.0,0.0,1.0,45.0,100.0,91.0,60.0,50.0,57.91695652173913,64.16681003584229,100.0,0.0,1\\nWintergreen Resort,Virginia,3515,1003,0,1,1,1,0,5,27.0,2.0,1.0,129.0,129.0,107.0,44.0,34.0,59.0,64.16681003584229,121.0,45.0,1\\n49 Degrees North,Washington,5774,1851,0,1,0,5,1,7,89.0,1.0,2.0,2325.0,0.0,101.0,48.0,301.0,62.0,62.0,135.0,250.0,3\\nAlpental,Washington,5420,2280,1,0,0,3,1,5,24.0,0.0,1.2,825.0,0.0,120.0,52.0,428.0,57.91695652173913,64.16681003584229,144.0,121.0,3\\nBluewood,Washington,5670,1125,0,0,2,0,1,3,24.0,2.0,2.0,355.0,0.0,70.0,40.0,300.0,42.0,47.0,110.0,0.0,3\\nCrystal Mountain,Washington,7012,3100,2,1,2,2,0,10,57.0,1.0,2.5,2600.0,10.0,115.10394265232976,57.0,486.0,99.0,99.0,120.0530035335689,0.0,3\\nMission Ridge,Washington,6820,2250,1,0,0,3,2,6,48.214723926380366,3.0,0.8,2000.0,66.0,104.0,53.0,200.0,57.91695652173913,64.16681003584229,96.0,500.0,3\\nMt. Baker,Washington,5000,1500,0,8,0,0,2,10,38.0,0.0,0.7,1000.0,0.0,143.0,66.0,663.0,53.75,60.01,165.0,0.0,3\\nMt. Spokane Ski and Snowboard Park,Washington,5889,2000,0,0,1,5,1,7,52.0,3.0,0.6,1704.0,0.0,100.0,81.0,300.0,45.0,59.0,103.0,45.0,3\\nStevens Pass Resort,Washington,5845,1800,3,0,4,3,0,10,52.0,4.0,1.0,1125.0,0.0,116.0,82.0,460.0,57.91695652173913,64.16681003584229,145.0,450.0,3\\nThe Summit at Snoqualmie,Washington,3865,1025,3,3,4,10,7,27,112.0,5.0,0.8,1994.0,5.0,120.0,82.0,428.0,85.0,95.0,140.0,541.0,1\\nWhite Pass,Washington,6550,2050,2,1,1,2,2,8,45.0,2.0,2.5,1402.0,30.0,148.0,67.0,400.0,69.0,69.0,144.0,90.0,3\\nCanaan Valley Resort,West Virginia,4280,850,0,1,2,0,1,4,47.0,1.0,1.2,95.0,75.0,115.10394265232976,48.0,160.0,52.0,68.0,93.0,0.0,1\\nSnowshoe Mountain Resort,West Virginia,4848,1500,3,2,6,0,3,14,60.0,5.0,1.5,257.0,257.0,125.0,46.0,180.0,70.0,87.0,138.0,86.0,3\\nTimberline Four Seasons,West Virginia,4265,1000,0,0,2,1,1,4,40.0,1.0,2.0,100.0,100.0,97.0,37.0,150.0,72.0,92.0,115.0,27.0,1\\nWinterplace Ski Resort,West Virginia,3600,603,0,2,3,2,2,9,27.0,2.0,1.2,90.0,90.0,120.0,36.0,100.0,56.0,72.0,120.0,74.0,1\\nAlpine Valley Resort,Wisconsin,1040,388,3,0,3,1,5,12,21.0,3.0,0.2,90.0,90.0,100.0,55.0,80.0,56.0,65.0,120.0,90.0,1\\nBruce Mound,Wisconsin,1375,375,0,0,1,0,4,5,12.0,2.0,0.5,40.0,30.0,42.0,71.0,42.0,33.0,25.0,42.0,30.0,1\\nCascade Mountain,Wisconsin,1280,460,2,2,3,2,3,12,47.0,4.0,1.1,175.0,175.0,120.0,57.0,56.0,59.0,64.0,120.0,0.0,1\\nChristie Mountain,Wisconsin,1650,350,0,0,0,1,5,6,30.0,4.0,0.8,45.0,41.0,92.0,43.0,48.0,28.0,38.0,120.0,35.0,1\\nChristmas Mountain,Wisconsin,1250,250,0,1,0,0,2,3,16.0,0.0,0.4,40.0,40.0,75.0,50.0,20.0,57.91695652173913,64.16681003584229,70.0,40.0,1\\nDevils Head,Wisconsin,995,500,0,3,1,6,2,12,27.0,1.0,1.0,260.0,260.0,110.0,48.0,45.0,45.0,65.0,135.0,200.0,1\\nGrand Geneva,Wisconsin,1086,211,0,0,0,3,3,6,20.0,1.0,0.2,30.0,30.0,90.0,25.0,25.0,28.0,49.0,93.0,30.0,1\\nGranite Peak Ski Area,Wisconsin,1942,700,2,0,2,0,2,7,75.0,4.0,0.6,220.0,160.0,136.0,82.0,75.0,92.0,92.0,135.0,200.0,1\\nLittle Switzerland,Wisconsin,1269,200,0,0,0,4,4,8,18.0,3.0,1.0,50.0,50.0,115.10394265232976,63.65653495440729,185.31645569620247,33.0,41.0,120.0530035335689,50.0,1\\nMount La Crosse,Wisconsin,1110,516,0,0,0,3,1,4,19.0,1.0,0.4,100.0,100.0,115.0,60.0,40.0,56.0,56.0,100.0,90.0,1\\nNordic Mountain,Wisconsin,1137,265,0,0,1,1,5,7,18.0,4.0,1.0,60.0,60.0,68.0,43.0,80.0,57.91695652173913,47.0,90.0,60.0,1\\nSunburst,Wisconsin,1100,214,0,0,0,3,6,9,13.0,4.0,0.5,37.0,37.0,99.0,59.0,50.0,33.0,44.0,115.0,37.0,1\\nTrollhaugen,Wisconsin,1200,260,0,2,0,1,5,8,24.0,4.0,0.5,86.0,86.0,130.0,69.0,50.0,54.0,54.0,120.0,86.0,1\\nTyrol Basin,Wisconsin,1160,300,0,0,3,0,2,5,18.0,5.0,0.5,32.0,32.0,112.0,61.0,41.0,17.0,48.0,103.0,32.0,1\\nWhitecap Mountain,Wisconsin,1750,400,0,1,0,4,0,5,43.0,1.0,1.0,400.0,300.0,105.0,57.0,200.0,60.0,60.0,118.0,0.0,1\\nWilmot Mountain,Wisconsin,1030,230,0,3,2,2,3,10,23.0,2.0,0.5,135.0,135.0,125.0,81.0,70.0,56.0,66.0,139.0,135.0,1\\nGrand Targhee Resort,Wyoming,9920,2270,2,2,0,0,1,5,95.0,1.0,2.7,2602.0,0.0,152.0,50.0,500.0,90.0,90.0,152.0,0.0,0\\nHogadon Basin,Wyoming,8000,640,0,0,0,1,1,2,28.0,1.0,0.6,92.0,32.0,121.0,61.0,80.0,48.0,48.0,95.0,0.0,3\\nJackson Hole,Wyoming,10450,4139,4,4,1,2,1,15,130.0,6.0,4.5,2500.0,195.0,130.0,54.0,459.0,57.91695652173913,64.16681003584229,133.0,0.0,0\\nMeadowlark Ski Lodge,Wyoming,9500,1000,0,0,1,1,1,3,14.0,1.0,1.5,300.0,0.0,115.10394265232976,9.0,185.31645569620247,57.91695652173913,64.16681003584229,120.0530035335689,0.0,3\\nSleeping Giant Ski Resort,Wyoming,7428,810,0,0,1,1,1,3,48.0,1.0,1.0,184.0,18.0,61.0,81.0,310.0,42.0,42.0,77.0,0.0,3\\nSnow King Resort,Wyoming,7808,1571,0,1,1,1,0,3,32.0,2.0,1.0,400.0,250.0,121.0,80.0,300.0,59.0,59.0,123.0,110.0,3\\nSnowy Range Ski & Recreation Area,Wyoming,9663,990,0,0,1,3,1,5,33.0,2.0,0.7,75.0,30.0,131.0,59.0,250.0,49.0,49.0,120.0530035335689,0.0,3\\nWhite Pine Ski Area,Wyoming,9500,1100,0,0,2,0,0,2,25.0,0.0,0.4,370.0,0.0,115.10394265232976,81.0,150.0,57.91695652173913,49.0,120.0530035335689,0.0,3\\n\"}"
            ]
          },
          "metadata": {
            "tags": []
          },
          "execution_count": 3
        }
      ]
    },
    {
      "cell_type": "code",
      "metadata": {
        "id": "uFPPfyXKxQcV",
        "colab_type": "code",
        "colab": {
          "base_uri": "https://localhost:8080/",
          "height": 146
        },
        "outputId": "b2cbddad-6a3b-4181-f230-c052012044c6"
      },
      "source": [
        "os.listdir()"
      ],
      "execution_count": 4,
      "outputs": [
        {
          "output_type": "execute_result",
          "data": {
            "text/plain": [
              "['.config',\n",
              " 'figures',\n",
              " 'data',\n",
              " 'step3_output (1).csv',\n",
              " 'models',\n",
              " 'step3_output.csv',\n",
              " 'sample_data']"
            ]
          },
          "metadata": {
            "tags": []
          },
          "execution_count": 4
        }
      ]
    },
    {
      "cell_type": "code",
      "metadata": {
        "id": "MazovVtKxjLO",
        "colab_type": "code",
        "colab": {}
      },
      "source": [
        "!rm 'step3_output (1).csv'"
      ],
      "execution_count": 5,
      "outputs": []
    },
    {
      "cell_type": "code",
      "metadata": {
        "id": "ou-MnlAHxja2",
        "colab_type": "code",
        "colab": {
          "base_uri": "https://localhost:8080/",
          "height": 35
        },
        "outputId": "3ee0abd0-9fb4-4e76-e4d8-5667ebc5e600"
      },
      "source": [
        "os.listdir()"
      ],
      "execution_count": 6,
      "outputs": [
        {
          "output_type": "execute_result",
          "data": {
            "text/plain": [
              "['.config', 'figures', 'data', 'models', 'step3_output.csv', 'sample_data']"
            ]
          },
          "metadata": {
            "tags": []
          },
          "execution_count": 6
        }
      ]
    },
    {
      "cell_type": "code",
      "metadata": {
        "id": "_sAMGWHPxqT1",
        "colab_type": "code",
        "colab": {
          "base_uri": "https://localhost:8080/",
          "height": 36
        },
        "outputId": "a83e3161-caf0-4fc2-ac02-9ef7e71f8865"
      },
      "source": [
        "os.getcwd()"
      ],
      "execution_count": 7,
      "outputs": [
        {
          "output_type": "execute_result",
          "data": {
            "application/vnd.google.colaboratory.intrinsic+json": {
              "type": "string"
            },
            "text/plain": [
              "'/content'"
            ]
          },
          "metadata": {
            "tags": []
          },
          "execution_count": 7
        }
      ]
    },
    {
      "cell_type": "markdown",
      "metadata": {
        "colab_type": "text",
        "id": "0HTP9cF2GUYs"
      },
      "source": [
        "## Fit Models with Training Dataset"
      ]
    },
    {
      "cell_type": "markdown",
      "metadata": {
        "colab_type": "text",
        "id": "A2FmSbtCGUYt"
      },
      "source": [
        "**<font color='teal'> Using sklearn fit the model you chose in Guided Capstone 5 on your training dataset. This includes: creating dummy features for states if you need them, scaling the data,and creating train and test splits before fitting the chosen model.Also, remember to generate a model performance score(MAE, or explained variance) based on the testing hold-out data set.</font>**"
      ]
    },
    {
      "cell_type": "markdown",
      "metadata": {
        "colab_type": "text",
        "id": "ReRSy1yFGUYu"
      },
      "source": [
        "#### Best Model "
      ]
    },
    {
      "cell_type": "code",
      "metadata": {
        "colab_type": "code",
        "id": "YRhPGbqPGUYv",
        "colab": {}
      },
      "source": [
        "df = pd.read_csv('step3_output.csv', index_col= None)"
      ],
      "execution_count": 8,
      "outputs": []
    },
    {
      "cell_type": "code",
      "metadata": {
        "id": "sFObr7_gzSh9",
        "colab_type": "code",
        "colab": {
          "base_uri": "https://localhost:8080/",
          "height": 348
        },
        "outputId": "b852977d-ca20-4aab-84ff-8d9676293245"
      },
      "source": [
        "# select object type columns\n",
        "df = pd.concat([df.drop('state', axis=1), pd.get_dummies(df['state'])], axis=1)\n",
        "df.head()"
      ],
      "execution_count": 9,
      "outputs": [
        {
          "output_type": "execute_result",
          "data": {
            "text/html": [
              "<div>\n",
              "<style scoped>\n",
              "    .dataframe tbody tr th:only-of-type {\n",
              "        vertical-align: middle;\n",
              "    }\n",
              "\n",
              "    .dataframe tbody tr th {\n",
              "        vertical-align: top;\n",
              "    }\n",
              "\n",
              "    .dataframe thead th {\n",
              "        text-align: right;\n",
              "    }\n",
              "</style>\n",
              "<table border=\"1\" class=\"dataframe\">\n",
              "  <thead>\n",
              "    <tr style=\"text-align: right;\">\n",
              "      <th></th>\n",
              "      <th>Name</th>\n",
              "      <th>summit_elev</th>\n",
              "      <th>vertical_drop</th>\n",
              "      <th>fastQuads</th>\n",
              "      <th>quad</th>\n",
              "      <th>triple</th>\n",
              "      <th>double</th>\n",
              "      <th>surface</th>\n",
              "      <th>total_chairs</th>\n",
              "      <th>Runs</th>\n",
              "      <th>TerrainParks</th>\n",
              "      <th>LongestRun_mi</th>\n",
              "      <th>SkiableTerrain_ac</th>\n",
              "      <th>Snow Making_ac</th>\n",
              "      <th>daysOpenLastYear</th>\n",
              "      <th>yearsOpen</th>\n",
              "      <th>averageSnowfall</th>\n",
              "      <th>AdultWeekday</th>\n",
              "      <th>AdultWeekend</th>\n",
              "      <th>projectedDaysOpen</th>\n",
              "      <th>NightSkiing_ac</th>\n",
              "      <th>clusters</th>\n",
              "      <th>Alaska</th>\n",
              "      <th>Arizona</th>\n",
              "      <th>California</th>\n",
              "      <th>Colorado</th>\n",
              "      <th>Connecticut</th>\n",
              "      <th>Idaho</th>\n",
              "      <th>Illinois</th>\n",
              "      <th>Indiana</th>\n",
              "      <th>Iowa</th>\n",
              "      <th>Maine</th>\n",
              "      <th>Maryland</th>\n",
              "      <th>Massachusetts</th>\n",
              "      <th>Michigan</th>\n",
              "      <th>Minnesota</th>\n",
              "      <th>Missouri</th>\n",
              "      <th>Montana</th>\n",
              "      <th>Nevada</th>\n",
              "      <th>New Hampshire</th>\n",
              "      <th>New Jersey</th>\n",
              "      <th>New Mexico</th>\n",
              "      <th>New York</th>\n",
              "      <th>North Carolina</th>\n",
              "      <th>Ohio</th>\n",
              "      <th>Oregon</th>\n",
              "      <th>Pennsylvania</th>\n",
              "      <th>Rhode Island</th>\n",
              "      <th>South Dakota</th>\n",
              "      <th>Tennessee</th>\n",
              "      <th>Utah</th>\n",
              "      <th>Vermont</th>\n",
              "      <th>Virginia</th>\n",
              "      <th>Washington</th>\n",
              "      <th>West Virginia</th>\n",
              "      <th>Wisconsin</th>\n",
              "      <th>Wyoming</th>\n",
              "    </tr>\n",
              "  </thead>\n",
              "  <tbody>\n",
              "    <tr>\n",
              "      <th>0</th>\n",
              "      <td>Alyeska Resort</td>\n",
              "      <td>3939</td>\n",
              "      <td>2500</td>\n",
              "      <td>2</td>\n",
              "      <td>2</td>\n",
              "      <td>0</td>\n",
              "      <td>0</td>\n",
              "      <td>2</td>\n",
              "      <td>7</td>\n",
              "      <td>76.0</td>\n",
              "      <td>2.0</td>\n",
              "      <td>1.0</td>\n",
              "      <td>1610.0</td>\n",
              "      <td>113.0</td>\n",
              "      <td>150.0</td>\n",
              "      <td>60.0</td>\n",
              "      <td>669.0</td>\n",
              "      <td>65.0</td>\n",
              "      <td>85.0</td>\n",
              "      <td>150.0</td>\n",
              "      <td>550.0</td>\n",
              "      <td>1</td>\n",
              "      <td>1</td>\n",
              "      <td>0</td>\n",
              "      <td>0</td>\n",
              "      <td>0</td>\n",
              "      <td>0</td>\n",
              "      <td>0</td>\n",
              "      <td>0</td>\n",
              "      <td>0</td>\n",
              "      <td>0</td>\n",
              "      <td>0</td>\n",
              "      <td>0</td>\n",
              "      <td>0</td>\n",
              "      <td>0</td>\n",
              "      <td>0</td>\n",
              "      <td>0</td>\n",
              "      <td>0</td>\n",
              "      <td>0</td>\n",
              "      <td>0</td>\n",
              "      <td>0</td>\n",
              "      <td>0</td>\n",
              "      <td>0</td>\n",
              "      <td>0</td>\n",
              "      <td>0</td>\n",
              "      <td>0</td>\n",
              "      <td>0</td>\n",
              "      <td>0</td>\n",
              "      <td>0</td>\n",
              "      <td>0</td>\n",
              "      <td>0</td>\n",
              "      <td>0</td>\n",
              "      <td>0</td>\n",
              "      <td>0</td>\n",
              "      <td>0</td>\n",
              "      <td>0</td>\n",
              "      <td>0</td>\n",
              "    </tr>\n",
              "    <tr>\n",
              "      <th>1</th>\n",
              "      <td>Eaglecrest Ski Area</td>\n",
              "      <td>2600</td>\n",
              "      <td>1540</td>\n",
              "      <td>0</td>\n",
              "      <td>0</td>\n",
              "      <td>0</td>\n",
              "      <td>4</td>\n",
              "      <td>0</td>\n",
              "      <td>4</td>\n",
              "      <td>36.0</td>\n",
              "      <td>1.0</td>\n",
              "      <td>2.0</td>\n",
              "      <td>640.0</td>\n",
              "      <td>60.0</td>\n",
              "      <td>45.0</td>\n",
              "      <td>44.0</td>\n",
              "      <td>350.0</td>\n",
              "      <td>47.0</td>\n",
              "      <td>53.0</td>\n",
              "      <td>90.0</td>\n",
              "      <td>0.0</td>\n",
              "      <td>1</td>\n",
              "      <td>1</td>\n",
              "      <td>0</td>\n",
              "      <td>0</td>\n",
              "      <td>0</td>\n",
              "      <td>0</td>\n",
              "      <td>0</td>\n",
              "      <td>0</td>\n",
              "      <td>0</td>\n",
              "      <td>0</td>\n",
              "      <td>0</td>\n",
              "      <td>0</td>\n",
              "      <td>0</td>\n",
              "      <td>0</td>\n",
              "      <td>0</td>\n",
              "      <td>0</td>\n",
              "      <td>0</td>\n",
              "      <td>0</td>\n",
              "      <td>0</td>\n",
              "      <td>0</td>\n",
              "      <td>0</td>\n",
              "      <td>0</td>\n",
              "      <td>0</td>\n",
              "      <td>0</td>\n",
              "      <td>0</td>\n",
              "      <td>0</td>\n",
              "      <td>0</td>\n",
              "      <td>0</td>\n",
              "      <td>0</td>\n",
              "      <td>0</td>\n",
              "      <td>0</td>\n",
              "      <td>0</td>\n",
              "      <td>0</td>\n",
              "      <td>0</td>\n",
              "      <td>0</td>\n",
              "      <td>0</td>\n",
              "    </tr>\n",
              "    <tr>\n",
              "      <th>2</th>\n",
              "      <td>Hilltop Ski Area</td>\n",
              "      <td>2090</td>\n",
              "      <td>294</td>\n",
              "      <td>0</td>\n",
              "      <td>0</td>\n",
              "      <td>1</td>\n",
              "      <td>0</td>\n",
              "      <td>2</td>\n",
              "      <td>3</td>\n",
              "      <td>13.0</td>\n",
              "      <td>1.0</td>\n",
              "      <td>1.0</td>\n",
              "      <td>30.0</td>\n",
              "      <td>30.0</td>\n",
              "      <td>150.0</td>\n",
              "      <td>36.0</td>\n",
              "      <td>69.0</td>\n",
              "      <td>30.0</td>\n",
              "      <td>34.0</td>\n",
              "      <td>152.0</td>\n",
              "      <td>30.0</td>\n",
              "      <td>1</td>\n",
              "      <td>1</td>\n",
              "      <td>0</td>\n",
              "      <td>0</td>\n",
              "      <td>0</td>\n",
              "      <td>0</td>\n",
              "      <td>0</td>\n",
              "      <td>0</td>\n",
              "      <td>0</td>\n",
              "      <td>0</td>\n",
              "      <td>0</td>\n",
              "      <td>0</td>\n",
              "      <td>0</td>\n",
              "      <td>0</td>\n",
              "      <td>0</td>\n",
              "      <td>0</td>\n",
              "      <td>0</td>\n",
              "      <td>0</td>\n",
              "      <td>0</td>\n",
              "      <td>0</td>\n",
              "      <td>0</td>\n",
              "      <td>0</td>\n",
              "      <td>0</td>\n",
              "      <td>0</td>\n",
              "      <td>0</td>\n",
              "      <td>0</td>\n",
              "      <td>0</td>\n",
              "      <td>0</td>\n",
              "      <td>0</td>\n",
              "      <td>0</td>\n",
              "      <td>0</td>\n",
              "      <td>0</td>\n",
              "      <td>0</td>\n",
              "      <td>0</td>\n",
              "      <td>0</td>\n",
              "      <td>0</td>\n",
              "    </tr>\n",
              "    <tr>\n",
              "      <th>3</th>\n",
              "      <td>Arizona Snowbowl</td>\n",
              "      <td>11500</td>\n",
              "      <td>2300</td>\n",
              "      <td>0</td>\n",
              "      <td>2</td>\n",
              "      <td>2</td>\n",
              "      <td>1</td>\n",
              "      <td>2</td>\n",
              "      <td>8</td>\n",
              "      <td>55.0</td>\n",
              "      <td>4.0</td>\n",
              "      <td>2.0</td>\n",
              "      <td>777.0</td>\n",
              "      <td>104.0</td>\n",
              "      <td>122.0</td>\n",
              "      <td>81.0</td>\n",
              "      <td>260.0</td>\n",
              "      <td>89.0</td>\n",
              "      <td>89.0</td>\n",
              "      <td>122.0</td>\n",
              "      <td>0.0</td>\n",
              "      <td>0</td>\n",
              "      <td>0</td>\n",
              "      <td>1</td>\n",
              "      <td>0</td>\n",
              "      <td>0</td>\n",
              "      <td>0</td>\n",
              "      <td>0</td>\n",
              "      <td>0</td>\n",
              "      <td>0</td>\n",
              "      <td>0</td>\n",
              "      <td>0</td>\n",
              "      <td>0</td>\n",
              "      <td>0</td>\n",
              "      <td>0</td>\n",
              "      <td>0</td>\n",
              "      <td>0</td>\n",
              "      <td>0</td>\n",
              "      <td>0</td>\n",
              "      <td>0</td>\n",
              "      <td>0</td>\n",
              "      <td>0</td>\n",
              "      <td>0</td>\n",
              "      <td>0</td>\n",
              "      <td>0</td>\n",
              "      <td>0</td>\n",
              "      <td>0</td>\n",
              "      <td>0</td>\n",
              "      <td>0</td>\n",
              "      <td>0</td>\n",
              "      <td>0</td>\n",
              "      <td>0</td>\n",
              "      <td>0</td>\n",
              "      <td>0</td>\n",
              "      <td>0</td>\n",
              "      <td>0</td>\n",
              "      <td>0</td>\n",
              "    </tr>\n",
              "    <tr>\n",
              "      <th>4</th>\n",
              "      <td>Sunrise Park Resort</td>\n",
              "      <td>11100</td>\n",
              "      <td>1800</td>\n",
              "      <td>1</td>\n",
              "      <td>2</td>\n",
              "      <td>3</td>\n",
              "      <td>1</td>\n",
              "      <td>0</td>\n",
              "      <td>7</td>\n",
              "      <td>65.0</td>\n",
              "      <td>2.0</td>\n",
              "      <td>1.2</td>\n",
              "      <td>800.0</td>\n",
              "      <td>80.0</td>\n",
              "      <td>115.0</td>\n",
              "      <td>49.0</td>\n",
              "      <td>250.0</td>\n",
              "      <td>74.0</td>\n",
              "      <td>78.0</td>\n",
              "      <td>104.0</td>\n",
              "      <td>80.0</td>\n",
              "      <td>0</td>\n",
              "      <td>0</td>\n",
              "      <td>1</td>\n",
              "      <td>0</td>\n",
              "      <td>0</td>\n",
              "      <td>0</td>\n",
              "      <td>0</td>\n",
              "      <td>0</td>\n",
              "      <td>0</td>\n",
              "      <td>0</td>\n",
              "      <td>0</td>\n",
              "      <td>0</td>\n",
              "      <td>0</td>\n",
              "      <td>0</td>\n",
              "      <td>0</td>\n",
              "      <td>0</td>\n",
              "      <td>0</td>\n",
              "      <td>0</td>\n",
              "      <td>0</td>\n",
              "      <td>0</td>\n",
              "      <td>0</td>\n",
              "      <td>0</td>\n",
              "      <td>0</td>\n",
              "      <td>0</td>\n",
              "      <td>0</td>\n",
              "      <td>0</td>\n",
              "      <td>0</td>\n",
              "      <td>0</td>\n",
              "      <td>0</td>\n",
              "      <td>0</td>\n",
              "      <td>0</td>\n",
              "      <td>0</td>\n",
              "      <td>0</td>\n",
              "      <td>0</td>\n",
              "      <td>0</td>\n",
              "      <td>0</td>\n",
              "    </tr>\n",
              "  </tbody>\n",
              "</table>\n",
              "</div>"
            ],
            "text/plain": [
              "                  Name  summit_elev  ...  Wisconsin  Wyoming\n",
              "0       Alyeska Resort         3939  ...          0        0\n",
              "1  Eaglecrest Ski Area         2600  ...          0        0\n",
              "2     Hilltop Ski Area         2090  ...          0        0\n",
              "3     Arizona Snowbowl        11500  ...          0        0\n",
              "4  Sunrise Park Resort        11100  ...          0        0\n",
              "\n",
              "[5 rows x 57 columns]"
            ]
          },
          "metadata": {
            "tags": []
          },
          "execution_count": 9
        }
      ]
    },
    {
      "cell_type": "code",
      "metadata": {
        "id": "VyGIl485zS3F",
        "colab_type": "code",
        "colab": {
          "base_uri": "https://localhost:8080/",
          "height": 274
        },
        "outputId": "2cecc429-598b-40be-82e9-d7956b9fb776"
      },
      "source": [
        "# first we import the preprocessing package from the sklearn library\n",
        "from sklearn import preprocessing\n",
        "\n",
        "# Declare an explanatory variable, called x,and assign it the result of dropping 'Name' and 'AdultWeekend' from the df\n",
        "x = df.drop(['Name','AdultWeekend'], axis=1)\n",
        "print(x)\n",
        "\n",
        "# Declare a response variable, called y, and assign it the AdultWeekend column of the df \n",
        "y = df['AdultWeekend']\n",
        "\n",
        "# Here we use the StandardScaler() method of the preprocessing package, and then call the fit() method with parameter x \n",
        "scaler = preprocessing.StandardScaler().fit(x)\n",
        "\n",
        "# Declare a variable called X_scaled, and assign it the result of calling the transform() method with parameter x \n",
        "x_scaled=scaler.transform(x)"
      ],
      "execution_count": 10,
      "outputs": [
        {
          "output_type": "stream",
          "text": [
            "     summit_elev  vertical_drop  fastQuads  ...  West Virginia  Wisconsin  Wyoming\n",
            "0           3939           2500          2  ...              0          0        0\n",
            "1           2600           1540          0  ...              0          0        0\n",
            "2           2090            294          0  ...              0          0        0\n",
            "3          11500           2300          0  ...              0          0        0\n",
            "4          11100           1800          1  ...              0          0        0\n",
            "..           ...            ...        ...  ...            ...        ...      ...\n",
            "325         9500           1000          0  ...              0          0        1\n",
            "326         7428            810          0  ...              0          0        1\n",
            "327         7808           1571          0  ...              0          0        1\n",
            "328         9663            990          0  ...              0          0        1\n",
            "329         9500           1100          0  ...              0          0        1\n",
            "\n",
            "[330 rows x 55 columns]\n"
          ],
          "name": "stdout"
        }
      ]
    },
    {
      "cell_type": "code",
      "metadata": {
        "id": "0cfn3r5czTFG",
        "colab_type": "code",
        "colab": {}
      },
      "source": [
        "# Import the train_test_split function from the sklearn.model_selection utility.  \n",
        "from sklearn.model_selection import train_test_split\n",
        "\n",
        "# Get the 1-dimensional flattened array of our response variable y by calling the ravel() function on y\n",
        "y = y.ravel()\n",
        "# Call the train_test_split() function with the first two parameters set to x_scaled and y \n",
        "# Declare four variables, s_train, s_test, y_train and y_test separated by commas \n",
        "s_train, s_test, y_train, y_test = train_test_split(x_scaled, y, test_size=0.25, random_state=1)"
      ],
      "execution_count": 11,
      "outputs": []
    },
    {
      "cell_type": "code",
      "metadata": {
        "id": "s7cg8UbGzVCf",
        "colab_type": "code",
        "colab": {}
      },
      "source": [
        "#all first model set\n",
        "from sklearn import linear_model\n",
        "from sklearn.metrics import explained_variance_score,mean_absolute_error\n",
        "lm = linear_model.LinearRegression()\n",
        "model = lm.fit(s_train,y_train)"
      ],
      "execution_count": 12,
      "outputs": []
    },
    {
      "cell_type": "code",
      "metadata": {
        "id": "-IRAx3cEzVU-",
        "colab_type": "code",
        "colab": {
          "base_uri": "https://localhost:8080/",
          "height": 403
        },
        "outputId": "d93918f3-e5d5-46d1-8e47-b1a00197019d"
      },
      "source": [
        "# Make a variable called y_pred and assign it the result of calling predict() on our model variable with parameter X_test\n",
        "y_pred = model.predict(s_test)\n",
        "y_pred"
      ],
      "execution_count": 13,
      "outputs": [
        {
          "output_type": "execute_result",
          "data": {
            "text/plain": [
              "array([ 58.31135206,  89.46955518,  78.41877393,  75.67072706,\n",
              "        70.57111768,  76.15510206,  44.82893018,  46.79377393,\n",
              "        93.51057081,  84.89533643,  50.45197706,  79.25080518,\n",
              "        50.93244581,  70.93830518,  62.45978956,  93.39533643,\n",
              "        42.60822706,  72.86994581,  61.73127393,  40.74885206,\n",
              "       113.47346143,  36.96955518,  53.65314893,  49.23322706,\n",
              "        48.09260206,  62.58478956,  75.87482862,  74.68439893,\n",
              "        64.26643018,  66.54572706,  35.05744581,  58.87189893,\n",
              "        80.33674268,  57.13947706,  75.38947706,  49.37385206,\n",
              "        22.96760206,  29.40510206,  61.64728956,  37.28010206,\n",
              "        48.50080518,  63.23810987,  86.71369581,  72.23713331,\n",
              "        72.41096143,  59.18439893,  59.49299268, 166.31135206,\n",
              "        37.67072706,  61.15998487,  68.18439893,  61.17463331,\n",
              "        53.16486768,  44.33088331,  59.32795362,  43.11799268,\n",
              "        84.96076612,  39.33478956, 120.62385206, 119.29963331,\n",
              "        55.93635206,  53.96857862,  41.79572706,  81.09846143,\n",
              "        64.26447706,  43.34650831,  36.19807081,  97.32893018,\n",
              "        61.06525831,  23.71955518,  67.75471143, 145.40900831,\n",
              "        58.03791456,  62.27424268,  75.26643018,  70.83088331,\n",
              "        76.48127393,  57.74885206,  85.38361768,  71.44807081,\n",
              "        52.66877393,  56.71760206,  43.23518018])"
            ]
          },
          "metadata": {
            "tags": []
          },
          "execution_count": 13
        }
      ]
    },
    {
      "cell_type": "code",
      "metadata": {
        "id": "Xx6axsazzVq_",
        "colab_type": "code",
        "colab": {}
      },
      "source": [
        "# You might want to use the explained_variance_score() and mean_absolute_error() metrics.\n",
        "# To do so, you will need to import them from sklearn.metrics. \n",
        "# You can plug y_test and y_pred into the functions to evaluate the model\n",
        "from sklearn.metrics import explained_variance_score\n",
        "from sklearn.metrics import mean_absolute_error"
      ],
      "execution_count": 14,
      "outputs": []
    },
    {
      "cell_type": "code",
      "metadata": {
        "id": "ySOMyPfAzV4f",
        "colab_type": "code",
        "colab": {
          "base_uri": "https://localhost:8080/",
          "height": 35
        },
        "outputId": "69c3df6d-1763-4e18-bbce-89f73a8f008f"
      },
      "source": [
        "explained_variance_score(y_true=y_test, y_pred=y_pred)"
      ],
      "execution_count": 15,
      "outputs": [
        {
          "output_type": "execute_result",
          "data": {
            "text/plain": [
              "0.9409335239835701"
            ]
          },
          "metadata": {
            "tags": []
          },
          "execution_count": 15
        }
      ]
    },
    {
      "cell_type": "code",
      "metadata": {
        "id": "hmXERw-yzWEw",
        "colab_type": "code",
        "colab": {
          "base_uri": "https://localhost:8080/",
          "height": 35
        },
        "outputId": "30af1273-5f7b-4c34-a35e-263db6e68ff6"
      },
      "source": [
        "mean_absolute_error(y_true=y_test, y_pred=y_pred)"
      ],
      "execution_count": 16,
      "outputs": [
        {
          "output_type": "execute_result",
          "data": {
            "text/plain": [
              "4.915690182064833"
            ]
          },
          "metadata": {
            "tags": []
          },
          "execution_count": 16
        }
      ]
    },
    {
      "cell_type": "markdown",
      "metadata": {
        "colab_type": "text",
        "id": "GGizyeLZGUYz"
      },
      "source": [
        "## Review the results "
      ]
    },
    {
      "cell_type": "markdown",
      "metadata": {
        "colab_type": "text",
        "id": "4Lhu-qisGUY0"
      },
      "source": [
        "**<font color='teal'> Now, let's predict the Big Mountain Weekend price with our model in order to provide a recommendation to our managers on how to price the `AdultWeekend` lift ticket. First we need to find the row for Big Mountain resort in our data using string contains or string matching.</font>**"
      ]
    },
    {
      "cell_type": "code",
      "metadata": {
        "colab_type": "code",
        "id": "YXnx_IuEGUY1",
        "colab": {
          "base_uri": "https://localhost:8080/",
          "height": 153
        },
        "outputId": "c16c125f-2fff-4ad2-d8f9-8bc731c978b7"
      },
      "source": [
        "wf = df[df['Name'].str.contains('Big Mountain Resort')]\n",
        "wf"
      ],
      "execution_count": 17,
      "outputs": [
        {
          "output_type": "execute_result",
          "data": {
            "text/html": [
              "<div>\n",
              "<style scoped>\n",
              "    .dataframe tbody tr th:only-of-type {\n",
              "        vertical-align: middle;\n",
              "    }\n",
              "\n",
              "    .dataframe tbody tr th {\n",
              "        vertical-align: top;\n",
              "    }\n",
              "\n",
              "    .dataframe thead th {\n",
              "        text-align: right;\n",
              "    }\n",
              "</style>\n",
              "<table border=\"1\" class=\"dataframe\">\n",
              "  <thead>\n",
              "    <tr style=\"text-align: right;\">\n",
              "      <th></th>\n",
              "      <th>Name</th>\n",
              "      <th>summit_elev</th>\n",
              "      <th>vertical_drop</th>\n",
              "      <th>fastQuads</th>\n",
              "      <th>quad</th>\n",
              "      <th>triple</th>\n",
              "      <th>double</th>\n",
              "      <th>surface</th>\n",
              "      <th>total_chairs</th>\n",
              "      <th>Runs</th>\n",
              "      <th>TerrainParks</th>\n",
              "      <th>LongestRun_mi</th>\n",
              "      <th>SkiableTerrain_ac</th>\n",
              "      <th>Snow Making_ac</th>\n",
              "      <th>daysOpenLastYear</th>\n",
              "      <th>yearsOpen</th>\n",
              "      <th>averageSnowfall</th>\n",
              "      <th>AdultWeekday</th>\n",
              "      <th>AdultWeekend</th>\n",
              "      <th>projectedDaysOpen</th>\n",
              "      <th>NightSkiing_ac</th>\n",
              "      <th>clusters</th>\n",
              "      <th>Alaska</th>\n",
              "      <th>Arizona</th>\n",
              "      <th>California</th>\n",
              "      <th>Colorado</th>\n",
              "      <th>Connecticut</th>\n",
              "      <th>Idaho</th>\n",
              "      <th>Illinois</th>\n",
              "      <th>Indiana</th>\n",
              "      <th>Iowa</th>\n",
              "      <th>Maine</th>\n",
              "      <th>Maryland</th>\n",
              "      <th>Massachusetts</th>\n",
              "      <th>Michigan</th>\n",
              "      <th>Minnesota</th>\n",
              "      <th>Missouri</th>\n",
              "      <th>Montana</th>\n",
              "      <th>Nevada</th>\n",
              "      <th>New Hampshire</th>\n",
              "      <th>New Jersey</th>\n",
              "      <th>New Mexico</th>\n",
              "      <th>New York</th>\n",
              "      <th>North Carolina</th>\n",
              "      <th>Ohio</th>\n",
              "      <th>Oregon</th>\n",
              "      <th>Pennsylvania</th>\n",
              "      <th>Rhode Island</th>\n",
              "      <th>South Dakota</th>\n",
              "      <th>Tennessee</th>\n",
              "      <th>Utah</th>\n",
              "      <th>Vermont</th>\n",
              "      <th>Virginia</th>\n",
              "      <th>Washington</th>\n",
              "      <th>West Virginia</th>\n",
              "      <th>Wisconsin</th>\n",
              "      <th>Wyoming</th>\n",
              "    </tr>\n",
              "  </thead>\n",
              "  <tbody>\n",
              "    <tr>\n",
              "      <th>151</th>\n",
              "      <td>Big Mountain Resort</td>\n",
              "      <td>6817</td>\n",
              "      <td>2353</td>\n",
              "      <td>3</td>\n",
              "      <td>2</td>\n",
              "      <td>6</td>\n",
              "      <td>0</td>\n",
              "      <td>3</td>\n",
              "      <td>14</td>\n",
              "      <td>105.0</td>\n",
              "      <td>4.0</td>\n",
              "      <td>3.3</td>\n",
              "      <td>3000.0</td>\n",
              "      <td>600.0</td>\n",
              "      <td>123.0</td>\n",
              "      <td>72.0</td>\n",
              "      <td>333.0</td>\n",
              "      <td>81.0</td>\n",
              "      <td>81.0</td>\n",
              "      <td>123.0</td>\n",
              "      <td>600.0</td>\n",
              "      <td>3</td>\n",
              "      <td>0</td>\n",
              "      <td>0</td>\n",
              "      <td>0</td>\n",
              "      <td>0</td>\n",
              "      <td>0</td>\n",
              "      <td>0</td>\n",
              "      <td>0</td>\n",
              "      <td>0</td>\n",
              "      <td>0</td>\n",
              "      <td>0</td>\n",
              "      <td>0</td>\n",
              "      <td>0</td>\n",
              "      <td>0</td>\n",
              "      <td>0</td>\n",
              "      <td>0</td>\n",
              "      <td>1</td>\n",
              "      <td>0</td>\n",
              "      <td>0</td>\n",
              "      <td>0</td>\n",
              "      <td>0</td>\n",
              "      <td>0</td>\n",
              "      <td>0</td>\n",
              "      <td>0</td>\n",
              "      <td>0</td>\n",
              "      <td>0</td>\n",
              "      <td>0</td>\n",
              "      <td>0</td>\n",
              "      <td>0</td>\n",
              "      <td>0</td>\n",
              "      <td>0</td>\n",
              "      <td>0</td>\n",
              "      <td>0</td>\n",
              "      <td>0</td>\n",
              "      <td>0</td>\n",
              "      <td>0</td>\n",
              "    </tr>\n",
              "  </tbody>\n",
              "</table>\n",
              "</div>"
            ],
            "text/plain": [
              "                    Name  summit_elev  ...  Wisconsin  Wyoming\n",
              "151  Big Mountain Resort         6817  ...          0        0\n",
              "\n",
              "[1 rows x 57 columns]"
            ]
          },
          "metadata": {
            "tags": []
          },
          "execution_count": 17
        }
      ]
    },
    {
      "cell_type": "markdown",
      "metadata": {
        "colab_type": "text",
        "id": "83-jO9hPGUY4"
      },
      "source": [
        "**<font color='teal'> Prepare the Big Mountain resort data row as you did in the model fitting stage.</font>**"
      ]
    },
    {
      "cell_type": "code",
      "metadata": {
        "colab_type": "code",
        "id": "oWH_q9YOGUY5",
        "colab": {
          "base_uri": "https://localhost:8080/",
          "height": 90
        },
        "outputId": "c31076b9-0fdc-4803-fac1-ea4a51b516e9"
      },
      "source": [
        "wf1 = wf.drop(['Name','AdultWeekend'], axis=1)\n",
        "print(wf1)"
      ],
      "execution_count": 18,
      "outputs": [
        {
          "output_type": "stream",
          "text": [
            "     summit_elev  vertical_drop  fastQuads  ...  West Virginia  Wisconsin  Wyoming\n",
            "151         6817           2353          3  ...              0          0        0\n",
            "\n",
            "[1 rows x 55 columns]\n"
          ],
          "name": "stdout"
        }
      ]
    },
    {
      "cell_type": "markdown",
      "metadata": {
        "colab_type": "text",
        "id": "2BCFqZYBGUY9"
      },
      "source": [
        "**<font color='teal'> Predict the Big Mountain resort `Adult Weekend` price and print it out.</font>** This is our expected price to present to management. Based on our model given the characteristics of the resort in comparison to other ski resorts and their unique characteristics."
      ]
    },
    {
      "cell_type": "code",
      "metadata": {
        "id": "OQ1ynbQTFRrw",
        "colab_type": "code",
        "colab": {}
      },
      "source": [
        "x = wf1\n",
        "x_scaled=scaler.transform(x)"
      ],
      "execution_count": 19,
      "outputs": []
    },
    {
      "cell_type": "code",
      "metadata": {
        "colab_type": "code",
        "id": "XebWxxTMGUY-",
        "colab": {
          "base_uri": "https://localhost:8080/",
          "height": 35
        },
        "outputId": "68261089-1013-4a28-cfea-5b9cd55ef81f"
      },
      "source": [
        "wf1_pred = model.predict(x_scaled)\n",
        "print(wf1_pred)"
      ],
      "execution_count": 20,
      "outputs": [
        {
          "output_type": "stream",
          "text": [
            "[85.34443311]\n"
          ],
          "name": "stdout"
        }
      ]
    },
    {
      "cell_type": "markdown",
      "metadata": {
        "colab_type": "text",
        "id": "_5BvguMLGUZB"
      },
      "source": [
        "**<font color='teal'> Print the Big Mountain resort actual `Adult Weekend` price.</font>**"
      ]
    },
    {
      "cell_type": "code",
      "metadata": {
        "colab_type": "code",
        "id": "WyxTHtL2GUZC",
        "colab": {
          "base_uri": "https://localhost:8080/",
          "height": 54
        },
        "outputId": "138967e9-d24a-4ec9-a9be-bf909ceb9bf2"
      },
      "source": [
        "wf['AdultWeekend']"
      ],
      "execution_count": 21,
      "outputs": [
        {
          "output_type": "execute_result",
          "data": {
            "text/plain": [
              "151    81.0\n",
              "Name: AdultWeekend, dtype: float64"
            ]
          },
          "metadata": {
            "tags": []
          },
          "execution_count": 21
        }
      ]
    },
    {
      "cell_type": "markdown",
      "metadata": {
        "id": "UQmVmZmkRPSv",
        "colab_type": "text"
      },
      "source": [
        "### **<font color='teal'> Extra Credit: Lets see if an extra 'fastQuads' lift effects the predicted value of the ticket price?**"
      ]
    },
    {
      "cell_type": "code",
      "metadata": {
        "id": "Veb6OVbJRwrn",
        "colab_type": "code",
        "colab": {}
      },
      "source": [
        "wfq = wf.copy()"
      ],
      "execution_count": 22,
      "outputs": []
    },
    {
      "cell_type": "code",
      "metadata": {
        "id": "442wH2oHRxP6",
        "colab_type": "code",
        "colab": {}
      },
      "source": [
        "wfq.at[151,'fastQuads'] = 4"
      ],
      "execution_count": 23,
      "outputs": []
    },
    {
      "cell_type": "code",
      "metadata": {
        "id": "yLruTQRyRxep",
        "colab_type": "code",
        "colab": {
          "base_uri": "https://localhost:8080/",
          "height": 54
        },
        "outputId": "16099cb1-006d-4b8a-c585-251e99e4bf0a"
      },
      "source": [
        "wfq['fastQuads']"
      ],
      "execution_count": 24,
      "outputs": [
        {
          "output_type": "execute_result",
          "data": {
            "text/plain": [
              "151    4\n",
              "Name: fastQuads, dtype: int64"
            ]
          },
          "metadata": {
            "tags": []
          },
          "execution_count": 24
        }
      ]
    },
    {
      "cell_type": "code",
      "metadata": {
        "id": "beppOJa4RxrQ",
        "colab_type": "code",
        "colab": {
          "base_uri": "https://localhost:8080/",
          "height": 54
        },
        "outputId": "b82de383-a9a4-4044-beb1-e8ebfbe36551"
      },
      "source": [
        "wf['fastQuads']"
      ],
      "execution_count": 25,
      "outputs": [
        {
          "output_type": "execute_result",
          "data": {
            "text/plain": [
              "151    3\n",
              "Name: fastQuads, dtype: int64"
            ]
          },
          "metadata": {
            "tags": []
          },
          "execution_count": 25
        }
      ]
    },
    {
      "cell_type": "code",
      "metadata": {
        "id": "AfsgHRhjUHjH",
        "colab_type": "code",
        "colab": {
          "base_uri": "https://localhost:8080/",
          "height": 153
        },
        "outputId": "27773a4c-9ca7-40ec-a330-661145b5a6b6"
      },
      "source": [
        "wfq"
      ],
      "execution_count": 26,
      "outputs": [
        {
          "output_type": "execute_result",
          "data": {
            "text/html": [
              "<div>\n",
              "<style scoped>\n",
              "    .dataframe tbody tr th:only-of-type {\n",
              "        vertical-align: middle;\n",
              "    }\n",
              "\n",
              "    .dataframe tbody tr th {\n",
              "        vertical-align: top;\n",
              "    }\n",
              "\n",
              "    .dataframe thead th {\n",
              "        text-align: right;\n",
              "    }\n",
              "</style>\n",
              "<table border=\"1\" class=\"dataframe\">\n",
              "  <thead>\n",
              "    <tr style=\"text-align: right;\">\n",
              "      <th></th>\n",
              "      <th>Name</th>\n",
              "      <th>summit_elev</th>\n",
              "      <th>vertical_drop</th>\n",
              "      <th>fastQuads</th>\n",
              "      <th>quad</th>\n",
              "      <th>triple</th>\n",
              "      <th>double</th>\n",
              "      <th>surface</th>\n",
              "      <th>total_chairs</th>\n",
              "      <th>Runs</th>\n",
              "      <th>TerrainParks</th>\n",
              "      <th>LongestRun_mi</th>\n",
              "      <th>SkiableTerrain_ac</th>\n",
              "      <th>Snow Making_ac</th>\n",
              "      <th>daysOpenLastYear</th>\n",
              "      <th>yearsOpen</th>\n",
              "      <th>averageSnowfall</th>\n",
              "      <th>AdultWeekday</th>\n",
              "      <th>AdultWeekend</th>\n",
              "      <th>projectedDaysOpen</th>\n",
              "      <th>NightSkiing_ac</th>\n",
              "      <th>clusters</th>\n",
              "      <th>Alaska</th>\n",
              "      <th>Arizona</th>\n",
              "      <th>California</th>\n",
              "      <th>Colorado</th>\n",
              "      <th>Connecticut</th>\n",
              "      <th>Idaho</th>\n",
              "      <th>Illinois</th>\n",
              "      <th>Indiana</th>\n",
              "      <th>Iowa</th>\n",
              "      <th>Maine</th>\n",
              "      <th>Maryland</th>\n",
              "      <th>Massachusetts</th>\n",
              "      <th>Michigan</th>\n",
              "      <th>Minnesota</th>\n",
              "      <th>Missouri</th>\n",
              "      <th>Montana</th>\n",
              "      <th>Nevada</th>\n",
              "      <th>New Hampshire</th>\n",
              "      <th>New Jersey</th>\n",
              "      <th>New Mexico</th>\n",
              "      <th>New York</th>\n",
              "      <th>North Carolina</th>\n",
              "      <th>Ohio</th>\n",
              "      <th>Oregon</th>\n",
              "      <th>Pennsylvania</th>\n",
              "      <th>Rhode Island</th>\n",
              "      <th>South Dakota</th>\n",
              "      <th>Tennessee</th>\n",
              "      <th>Utah</th>\n",
              "      <th>Vermont</th>\n",
              "      <th>Virginia</th>\n",
              "      <th>Washington</th>\n",
              "      <th>West Virginia</th>\n",
              "      <th>Wisconsin</th>\n",
              "      <th>Wyoming</th>\n",
              "    </tr>\n",
              "  </thead>\n",
              "  <tbody>\n",
              "    <tr>\n",
              "      <th>151</th>\n",
              "      <td>Big Mountain Resort</td>\n",
              "      <td>6817</td>\n",
              "      <td>2353</td>\n",
              "      <td>4</td>\n",
              "      <td>2</td>\n",
              "      <td>6</td>\n",
              "      <td>0</td>\n",
              "      <td>3</td>\n",
              "      <td>14</td>\n",
              "      <td>105.0</td>\n",
              "      <td>4.0</td>\n",
              "      <td>3.3</td>\n",
              "      <td>3000.0</td>\n",
              "      <td>600.0</td>\n",
              "      <td>123.0</td>\n",
              "      <td>72.0</td>\n",
              "      <td>333.0</td>\n",
              "      <td>81.0</td>\n",
              "      <td>81.0</td>\n",
              "      <td>123.0</td>\n",
              "      <td>600.0</td>\n",
              "      <td>3</td>\n",
              "      <td>0</td>\n",
              "      <td>0</td>\n",
              "      <td>0</td>\n",
              "      <td>0</td>\n",
              "      <td>0</td>\n",
              "      <td>0</td>\n",
              "      <td>0</td>\n",
              "      <td>0</td>\n",
              "      <td>0</td>\n",
              "      <td>0</td>\n",
              "      <td>0</td>\n",
              "      <td>0</td>\n",
              "      <td>0</td>\n",
              "      <td>0</td>\n",
              "      <td>0</td>\n",
              "      <td>1</td>\n",
              "      <td>0</td>\n",
              "      <td>0</td>\n",
              "      <td>0</td>\n",
              "      <td>0</td>\n",
              "      <td>0</td>\n",
              "      <td>0</td>\n",
              "      <td>0</td>\n",
              "      <td>0</td>\n",
              "      <td>0</td>\n",
              "      <td>0</td>\n",
              "      <td>0</td>\n",
              "      <td>0</td>\n",
              "      <td>0</td>\n",
              "      <td>0</td>\n",
              "      <td>0</td>\n",
              "      <td>0</td>\n",
              "      <td>0</td>\n",
              "      <td>0</td>\n",
              "      <td>0</td>\n",
              "    </tr>\n",
              "  </tbody>\n",
              "</table>\n",
              "</div>"
            ],
            "text/plain": [
              "                    Name  summit_elev  ...  Wisconsin  Wyoming\n",
              "151  Big Mountain Resort         6817  ...          0        0\n",
              "\n",
              "[1 rows x 57 columns]"
            ]
          },
          "metadata": {
            "tags": []
          },
          "execution_count": 26
        }
      ]
    },
    {
      "cell_type": "code",
      "metadata": {
        "id": "UOtb8E5AUneP",
        "colab_type": "code",
        "colab": {
          "base_uri": "https://localhost:8080/",
          "height": 90
        },
        "outputId": "24498711-a660-4de7-cc0d-e88dc43952c0"
      },
      "source": [
        "wfq1 = wfq.drop(['Name','AdultWeekend'], axis=1)\n",
        "print(wfq1)"
      ],
      "execution_count": 27,
      "outputs": [
        {
          "output_type": "stream",
          "text": [
            "     summit_elev  vertical_drop  fastQuads  ...  West Virginia  Wisconsin  Wyoming\n",
            "151         6817           2353          4  ...              0          0        0\n",
            "\n",
            "[1 rows x 55 columns]\n"
          ],
          "name": "stdout"
        }
      ]
    },
    {
      "cell_type": "code",
      "metadata": {
        "id": "XewP5cYWUH5w",
        "colab_type": "code",
        "colab": {}
      },
      "source": [
        "xq = wfq1\n",
        "xq_scaled=scaler.transform(xq)"
      ],
      "execution_count": 28,
      "outputs": []
    },
    {
      "cell_type": "code",
      "metadata": {
        "id": "YEYYjzzQUIHJ",
        "colab_type": "code",
        "colab": {
          "base_uri": "https://localhost:8080/",
          "height": 35
        },
        "outputId": "835697c7-296a-436a-c646-54d57625a1c7"
      },
      "source": [
        "wfq1_pred = model.predict(xq_scaled)\n",
        "print(wfq1_pred)"
      ],
      "execution_count": 29,
      "outputs": [
        {
          "output_type": "stream",
          "text": [
            "[85.87177686]\n"
          ],
          "name": "stdout"
        }
      ]
    },
    {
      "cell_type": "markdown",
      "metadata": {
        "id": "vCv6UZi-VekU",
        "colab_type": "text"
      },
      "source": [
        "| AdultWeekend Ticket Price | Description |\n",
        "| --- | --- |\n",
        "| 81.00 | Actual Price |\n",
        "| 85.34 | Predicted Price (Model 1) |\n",
        "| 85.87 | fastQuads Adjustment (Model 1) |"
      ]
    },
    {
      "cell_type": "markdown",
      "metadata": {
        "colab_type": "text",
        "id": "O0Yli8MXGUZH"
      },
      "source": [
        "**<font color='teal'> As part of reviewing the results it is an important step to generate figures to visualize the data story. We can use the clusters we added to our data frame to create scatter plots for visualizing the Adult Weekend values compared to other characteristics. Run the example below to get you started and build two or three more figures to include in your data story telling.</font>**"
      ]
    },
    {
      "cell_type": "code",
      "metadata": {
        "colab_type": "code",
        "id": "xWtr873fGUZI",
        "colab": {
          "base_uri": "https://localhost:8080/",
          "height": 296
        },
        "outputId": "95af16d6-2f5c-4e9a-e9b4-e6b8d2e53822"
      },
      "source": [
        "plt.scatter(df['summit_elev'], df['vertical_drop'], c=df['clusters'], s=50, cmap='viridis', label ='clusters')\n",
        "plt.scatter(wf['summit_elev'], wf['vertical_drop'], c='magenta', s=100)\n",
        "plt.xlabel('summit_elev')\n",
        "plt.ylabel('vertical_drop')\n",
        "plt.title('summit_elev by vertical_drop by cluster')\n",
        "plt.savefig('figures/fig1.png',bbox_inches='tight')"
      ],
      "execution_count": 30,
      "outputs": [
        {
          "output_type": "display_data",
          "data": {
            "image/png": "[encoded data removed]",
            "text/plain": [
              "<Figure size 432x288 with 1 Axes>"
            ]
          },
          "metadata": {
            "tags": [],
            "needs_background": "light"
          }
        }
      ]
    },
    {
      "cell_type": "code",
      "metadata": {
        "colab_type": "code",
        "id": "kGvf4kTwGUZR",
        "colab": {
          "base_uri": "https://localhost:8080/",
          "height": 295
        },
        "outputId": "c5f5d597-b36b-48ba-ccf0-73fb30a267bb"
      },
      "source": [
        "plt.scatter(df['daysOpenLastYear'], df['projectedDaysOpen'], c=df['clusters'], s=50, cmap='viridis', label ='clusters')\n",
        "plt.scatter(wf['daysOpenLastYear'], wf['projectedDaysOpen'], c='magenta', s=100)\n",
        "plt.xlabel('daysOpenLastYear')\n",
        "plt.ylabel('projectedDaysOpen')\n",
        "plt.title('daysOpenLastYear by projectedDaysOpen by cluster')\n",
        "plt.savefig('figures/fig2.png',bbox_inches='tight')"
      ],
      "execution_count": 31,
      "outputs": [
        {
          "output_type": "display_data",
          "data": {
            "image/png": "[encoded data removed]",
            "text/plain": [
              "<Figure size 432x288 with 1 Axes>"
            ]
          },
          "metadata": {
            "tags": [],
            "needs_background": "light"
          }
        }
      ]
    },
    {
      "cell_type": "code",
      "metadata": {
        "colab_type": "code",
        "id": "OYZB84hYGUZU",
        "colab": {
          "base_uri": "https://localhost:8080/",
          "height": 295
        },
        "outputId": "25a3134d-e711-4990-fdf1-17005a4a81f1"
      },
      "source": [
        "plt.scatter(df['AdultWeekday'], df['AdultWeekend'], c=df['clusters'], s=50, cmap='viridis', label ='clusters')\n",
        "plt.scatter(wf['AdultWeekday'], wf['AdultWeekend'], c='magenta', s=100)\n",
        "plt.xlabel('AdultWeekday')\n",
        "plt.ylabel('AdultWeekend')\n",
        "plt.title('AdultWeekday by AdultWeekend by cluster')\n",
        "plt.savefig('figures/fig3.png',bbox_inches='tight')"
      ],
      "execution_count": 32,
      "outputs": [
        {
          "output_type": "display_data",
          "data": {
            "image/png": "[encoded data removed]",
            "text/plain": [
              "<Figure size 432x288 with 1 Axes>"
            ]
          },
          "metadata": {
            "tags": [],
            "needs_background": "light"
          }
        }
      ]
    },
    {
      "cell_type": "code",
      "metadata": {
        "id": "JiuPhOQRuY0W",
        "colab_type": "code",
        "colab": {
          "base_uri": "https://localhost:8080/",
          "height": 295
        },
        "outputId": "6c7f62c0-2fb6-40b2-ed65-3350f0d4e6af"
      },
      "source": [
        "plt.scatter(df['averageSnowfall'], df['projectedDaysOpen'], c=df['clusters'], s=50, cmap='viridis', label ='clusters')\n",
        "plt.scatter(wf['averageSnowfall'], wf['projectedDaysOpen'], c='magenta', s=100)\n",
        "plt.xlabel('averageSnowfall')\n",
        "plt.ylabel('projectedDaysOpen')\n",
        "plt.title('averageSnowfall by projectedDaysOpen by cluster')\n",
        "plt.savefig('figures/fig4.png',bbox_inches='tight')"
      ],
      "execution_count": 33,
      "outputs": [
        {
          "output_type": "display_data",
          "data": {
            "image/png": "[encoded data removed]",
            "text/plain": [
              "<Figure size 432x288 with 1 Axes>"
            ]
          },
          "metadata": {
            "tags": [],
            "needs_background": "light"
          }
        }
      ]
    },
    {
      "cell_type": "code",
      "metadata": {
        "id": "JQ4ougqBxvIl",
        "colab_type": "code",
        "colab": {
          "base_uri": "https://localhost:8080/",
          "height": 296
        },
        "outputId": "8db8c6f1-7687-4f69-b728-017c385b2b1b"
      },
      "source": [
        "plt.scatter(df['Snow Making_ac'], df['projectedDaysOpen'], c=df['clusters'], s=50, cmap='viridis', label ='clusters')\n",
        "plt.scatter(wf['Snow Making_ac'], wf['projectedDaysOpen'], c='magenta', s=100)\n",
        "plt.xlabel('Snow Making_ac')\n",
        "plt.ylabel('projectedDaysOpen')\n",
        "plt.title('Snow Making_ac by projectedDaysOpen by cluster')\n",
        "plt.savefig('figures/fig5.png',bbox_inches='tight')"
      ],
      "execution_count": 34,
      "outputs": [
        {
          "output_type": "display_data",
          "data": {
            "image/png": "[encoded data removed]",
            "text/plain": [
              "<Figure size 432x288 with 1 Axes>"
            ]
          },
          "metadata": {
            "tags": [],
            "needs_background": "light"
          }
        }
      ]
    },
    {
      "cell_type": "code",
      "metadata": {
        "id": "CZy8y-yoyWmx",
        "colab_type": "code",
        "colab": {
          "base_uri": "https://localhost:8080/",
          "height": 296
        },
        "outputId": "9ba8b396-befc-4ca0-d68f-39ba31b23328"
      },
      "source": [
        "plt.scatter(df['NightSkiing_ac'], df['AdultWeekend'], c=df['clusters'], s=50, cmap='viridis', label ='clusters')\n",
        "plt.scatter(wf['NightSkiing_ac'], wf['AdultWeekend'], c='magenta', s=100)\n",
        "plt.xlabel('NightSkiing_ac')\n",
        "plt.ylabel('AdultWeekend')\n",
        "plt.title('NightSkiing_ac by AdultWeekend by cluster')\n",
        "plt.savefig('figures/fig6.png',bbox_inches='tight')"
      ],
      "execution_count": 35,
      "outputs": [
        {
          "output_type": "display_data",
          "data": {
            "image/png": "[encoded data removed]",
            "text/plain": [
              "<Figure size 432x288 with 1 Axes>"
            ]
          },
          "metadata": {
            "tags": [],
            "needs_background": "light"
          }
        }
      ]
    },
    {
      "cell_type": "markdown",
      "metadata": {
        "colab_type": "text",
        "id": "giLKE2WMGUZh"
      },
      "source": [
        "## Finalize Code"
      ]
    },
    {
      "cell_type": "markdown",
      "metadata": {
        "colab_type": "text",
        "id": "pps_ASHoGUZi"
      },
      "source": [
        " Making sure our code is well organized and easy to follow is an important step. This is the time where you need to review the notebooks and Python scripts you've created and clean them up so they are easy to follow and succinct in nature. Addtionally, we will also save our final model as a callable object using Pickle for future use in a data pipeline. Pickle is a module that serializes (and de-serializes) Python objects so that they can become executable objects like functions. It's used extensively in production environments where machine learning models are deployed on an industrial scale!**<font color='teal'> Run the example code below to save out your callable model. Notice that we save it in the models folder we created in our previous guided capstone step.</font>** "
      ]
    },
    {
      "cell_type": "code",
      "metadata": {
        "colab_type": "code",
        "id": "X_h0tkt_GUZj",
        "colab": {
          "base_uri": "https://localhost:8080/",
          "height": 35
        },
        "outputId": "d75b7758-a204-4110-9280-b316c562a0b7"
      },
      "source": [
        "import pickle\n",
        "s = pickle.dumps(model)\n",
        "from joblib import dump, load\n",
        "dump(model, 'models/regression_model_adultweekend.joblib') "
      ],
      "execution_count": 36,
      "outputs": [
        {
          "output_type": "execute_result",
          "data": {
            "text/plain": [
              "['models/regression_model_adultweekend.joblib']"
            ]
          },
          "metadata": {
            "tags": []
          },
          "execution_count": 36
        }
      ]
    },
    {
      "cell_type": "code",
      "metadata": {
        "id": "VTCdux2z3MpS",
        "colab_type": "code",
        "colab": {
          "base_uri": "https://localhost:8080/",
          "height": 35
        },
        "outputId": "f7435199-31ef-4ff7-dcda-b8097a724289"
      },
      "source": [
        "os.listdir()"
      ],
      "execution_count": 37,
      "outputs": [
        {
          "output_type": "execute_result",
          "data": {
            "text/plain": [
              "['.config', 'figures', 'data', 'models', 'step3_output.csv', 'sample_data']"
            ]
          },
          "metadata": {
            "tags": []
          },
          "execution_count": 37
        }
      ]
    },
    {
      "cell_type": "code",
      "metadata": {
        "id": "xgBgcM7V3X6j",
        "colab_type": "code",
        "colab": {
          "base_uri": "https://localhost:8080/",
          "height": 35
        },
        "outputId": "f9c4d932-c0dc-4198-ed99-be1641922279"
      },
      "source": [
        "cd 'models'"
      ],
      "execution_count": 38,
      "outputs": [
        {
          "output_type": "stream",
          "text": [
            "/content/models\n"
          ],
          "name": "stdout"
        }
      ]
    },
    {
      "cell_type": "code",
      "metadata": {
        "id": "UMdSkqKN3YSJ",
        "colab_type": "code",
        "colab": {
          "base_uri": "https://localhost:8080/",
          "height": 35
        },
        "outputId": "62f27d3b-e912-4940-d39c-82201021a513"
      },
      "source": [
        "os.listdir()"
      ],
      "execution_count": 39,
      "outputs": [
        {
          "output_type": "execute_result",
          "data": {
            "text/plain": [
              "['regression_model_adultweekend.joblib']"
            ]
          },
          "metadata": {
            "tags": []
          },
          "execution_count": 39
        }
      ]
    },
    {
      "cell_type": "code",
      "metadata": {
        "id": "-UC7eJKv58Sd",
        "colab_type": "code",
        "colab": {
          "base_uri": "https://localhost:8080/",
          "height": 35
        },
        "outputId": "c8828cb3-db17-4278-d84a-783d9fdf2547"
      },
      "source": [
        " cd .."
      ],
      "execution_count": 40,
      "outputs": [
        {
          "output_type": "stream",
          "text": [
            "/content\n"
          ],
          "name": "stdout"
        }
      ]
    },
    {
      "cell_type": "code",
      "metadata": {
        "id": "777gSZ6a6A_a",
        "colab_type": "code",
        "colab": {
          "base_uri": "https://localhost:8080/",
          "height": 35
        },
        "outputId": "794b8f71-0efe-4d94-b741-8e029066b46e"
      },
      "source": [
        "cd 'figures'"
      ],
      "execution_count": 41,
      "outputs": [
        {
          "output_type": "stream",
          "text": [
            "/content/figures\n"
          ],
          "name": "stdout"
        }
      ]
    },
    {
      "cell_type": "code",
      "metadata": {
        "id": "M2XvKv4b6EUL",
        "colab_type": "code",
        "colab": {
          "base_uri": "https://localhost:8080/",
          "height": 164
        },
        "outputId": "8c56dfdb-30ed-4541-866a-8c9982d1d701"
      },
      "source": [
        "os.listdir()"
      ],
      "execution_count": 42,
      "outputs": [
        {
          "output_type": "execute_result",
          "data": {
            "text/plain": [
              "['fig1.png',\n",
              " 'fig2.png',\n",
              " 'model_1_coefficients.csv',\n",
              " 'fig3.png',\n",
              " 'fig5.png',\n",
              " 'model_performance.csv',\n",
              " 'fig4.png',\n",
              " 'fig6.png']"
            ]
          },
          "metadata": {
            "tags": []
          },
          "execution_count": 42
        }
      ]
    },
    {
      "cell_type": "markdown",
      "metadata": {
        "colab_type": "text",
        "id": "MTVrVlerGUZn"
      },
      "source": [
        "## Finalize Documentation"
      ]
    },
    {
      "cell_type": "markdown",
      "metadata": {
        "colab_type": "text",
        "id": "thEMyu-DGUZo"
      },
      "source": [
        "For model documentation, we want to save the model performance metrics as well as the features included in the final model. You could also save the model perfomance metrics and coefficients of the other models you tried in case you want to refer to them later. **<font color='teal'> Create a dataframe containing the coefficients and the model performance metrics and save it out as a csv file, then upload it to your github repository.</font>** "
      ]
    },
    {
      "cell_type": "code",
      "metadata": {
        "colab_type": "code",
        "id": "278tnHLlGUZp",
        "colab": {
          "base_uri": "https://localhost:8080/",
          "height": 1000
        },
        "outputId": "a6a38f72-e319-4bbe-df30-d5e3ac205e40"
      },
      "source": [
        "coef_data1 = []\n",
        "coef_data1 = pd.DataFrame(abs(lm.coef_), x.columns, columns=['Coefficient'])\n",
        "coef_data1 = coef_data1.sort_values(['Coefficient'], ascending=False)\n",
        "print(coef_data1)"
      ],
      "execution_count": 43,
      "outputs": [
        {
          "output_type": "stream",
          "text": [
            "                    Coefficient\n",
            "New York           9.045841e+12\n",
            "Michigan           8.536817e+12\n",
            "Colorado           7.521430e+12\n",
            "California         7.360420e+12\n",
            "Pennsylvania       7.023777e+12\n",
            "New Hampshire      6.476473e+12\n",
            "Wisconsin          6.476473e+12\n",
            "Vermont            6.280795e+12\n",
            "Minnesota          6.077449e+12\n",
            "Utah               5.865635e+12\n",
            "Idaho              5.644402e+12\n",
            "Montana            5.644402e+12\n",
            "Massachusetts      5.412594e+12\n",
            "Washington         5.168788e+12\n",
            "Oregon             5.168788e+12\n",
            "Maine              4.911199e+12\n",
            "New Mexico         4.911199e+12\n",
            "Wyoming            4.637529e+12\n",
            "North Carolina     4.028672e+12\n",
            "Connecticut        3.683328e+12\n",
            "Ohio               3.683328e+12\n",
            "West Virginia      3.299533e+12\n",
            "Virginia           3.299533e+12\n",
            "Illinois           3.299533e+12\n",
            "Nevada             3.299533e+12\n",
            "Alaska             2.861859e+12\n",
            "Iowa               2.861859e+12\n",
            "New Jersey         2.340268e+12\n",
            "Missouri           2.340268e+12\n",
            "Indiana            2.340268e+12\n",
            "Arizona            2.340268e+12\n",
            "South Dakota       2.340268e+12\n",
            "Tennessee          1.657340e+12\n",
            "Maryland           1.657340e+12\n",
            "Rhode Island       1.657340e+12\n",
            "AdultWeekday       1.923904e+01\n",
            "triple             2.236678e+00\n",
            "summit_elev        1.899311e+00\n",
            "quad               1.527711e+00\n",
            "double             1.312403e+00\n",
            "fastQuads          1.157118e+00\n",
            "total_chairs       1.120816e+00\n",
            "vertical_drop      9.583299e-01\n",
            "Runs               9.005197e-01\n",
            "Snow Making_ac     8.709411e-01\n",
            "NightSkiing_ac     6.434278e-01\n",
            "daysOpenLastYear   5.413062e-01\n",
            "LongestRun_mi      4.374870e-01\n",
            "clusters           4.043513e-01\n",
            "yearsOpen          3.547436e-01\n",
            "surface            3.399401e-01\n",
            "SkiableTerrain_ac  2.009429e-01\n",
            "projectedDaysOpen  1.469920e-01\n",
            "TerrainParks       9.941889e-02\n",
            "averageSnowfall    2.204681e-02\n"
          ],
          "name": "stdout"
        }
      ]
    },
    {
      "cell_type": "code",
      "metadata": {
        "colab_type": "code",
        "id": "4CEOoBLFGUZr",
        "colab": {
          "base_uri": "https://localhost:8080/",
          "height": 90
        },
        "outputId": "b1433061-2530-44c5-f8fa-e8e847283fcc"
      },
      "source": [
        "coef_dataT = coef_data1.T\n",
        "print(coef_dataT)"
      ],
      "execution_count": 44,
      "outputs": [
        {
          "output_type": "stream",
          "text": [
            "                 New York      Michigan  ...  TerrainParks  averageSnowfall\n",
            "Coefficient  9.045841e+12  8.536817e+12  ...      0.099419         0.022047\n",
            "\n",
            "[1 rows x 55 columns]\n"
          ],
          "name": "stdout"
        }
      ]
    },
    {
      "cell_type": "markdown",
      "metadata": {
        "colab_type": "text",
        "id": "La5S9fRPAnsK"
      },
      "source": [
        "| Model | Explained Variance| Mean Absolute Error|Features Dropped|\n",
        "| --- | --- | --- | --- |\n",
        "| Model 1. | 0.941 |  4.92 |'base_elev'|\n",
        "| Model 2. | 0.930 |  5.34 |'state' base_elev'|\n",
        "| Model 3. | 0.926 |  5.47 |'state' 'summit_elev' 'base_elev'|\n",
        "| Model 4. | 0.925 |  5.54 |'state' 'summit_elev' 'base_elev' 'clusters'|\n",
        "| Model 5. | 0.195 | 15.59 |'state' 'summit_elev' 'base_elev' 'clusters' 'AdultWeekday'|"
      ]
    },
    {
      "cell_type": "code",
      "metadata": {
        "id": "hwfxupUx-Kn-",
        "colab_type": "code",
        "colab": {
          "base_uri": "https://localhost:8080/",
          "height": 127
        },
        "outputId": "4a5aace4-4531-4dd2-dc34-079f0e9933d3"
      },
      "source": [
        "data_entry = [['Model 1', 0.941, 4.92],['Model 2', 0.930, 5.34],['Model 3', 0.926, 5.47],['Model 4', 0.925, 5.54],['Model 5', 0.195, 15.59]]\n",
        "model_performance_df = pd.DataFrame(data_entry, columns = ['Model', 'Explained Variance', 'Mean Absolute Error'])\n",
        "print(model_performance_df) "
      ],
      "execution_count": 45,
      "outputs": [
        {
          "output_type": "stream",
          "text": [
            "     Model  Explained Variance  Mean Absolute Error\n",
            "0  Model 1               0.941                 4.92\n",
            "1  Model 2               0.930                 5.34\n",
            "2  Model 3               0.926                 5.47\n",
            "3  Model 4               0.925                 5.54\n",
            "4  Model 5               0.195                15.59\n"
          ],
          "name": "stdout"
        }
      ]
    },
    {
      "cell_type": "code",
      "metadata": {
        "id": "tn4dZh9hIAAc",
        "colab_type": "code",
        "colab": {
          "base_uri": "https://localhost:8080/",
          "height": 17
        },
        "outputId": "bad352ee-f842-4163-dc16-517b5045e6eb"
      },
      "source": [
        "coef_data1.to_csv('model_1_coefficients.csv', index=True)\n",
        "model_performance_df.to_csv('model_performance.csv', index=False) \n",
        "from google.colab import files\n",
        "files.download('model_1_coefficients.csv')\n",
        "files.download('model_performance.csv')"
      ],
      "execution_count": 46,
      "outputs": [
        {
          "output_type": "display_data",
          "data": {
            "application/javascript": [
              "\n",
              "    async function download(id, filename, size) {\n",
              "      if (!google.colab.kernel.accessAllowed) {\n",
              "        return;\n",
              "      }\n",
              "      const div = document.createElement('div');\n",
              "      const label = document.createElement('label');\n",
              "      label.textContent = `Downloading \"${filename}\": `;\n",
              "      div.appendChild(label);\n",
              "      const progress = document.createElement('progress');\n",
              "      progress.max = size;\n",
              "      div.appendChild(progress);\n",
              "      document.body.appendChild(div);\n",
              "\n",
              "      const buffers = [];\n",
              "      let downloaded = 0;\n",
              "\n",
              "      const channel = await google.colab.kernel.comms.open(id);\n",
              "      // Send a message to notify the kernel that we're ready.\n",
              "      channel.send({})\n",
              "\n",
              "      for await (const message of channel.messages) {\n",
              "        // Send a message to notify the kernel that we're ready.\n",
              "        channel.send({})\n",
              "        if (message.buffers) {\n",
              "          for (const buffer of message.buffers) {\n",
              "            buffers.push(buffer);\n",
              "            downloaded += buffer.byteLength;\n",
              "            progress.value = downloaded;\n",
              "          }\n",
              "        }\n",
              "      }\n",
              "      const blob = new Blob(buffers, {type: 'application/binary'});\n",
              "      const a = document.createElement('a');\n",
              "      a.href = window.URL.createObjectURL(blob);\n",
              "      a.download = filename;\n",
              "      div.appendChild(a);\n",
              "      a.click();\n",
              "      div.remove();\n",
              "    }\n",
              "  "
            ],
            "text/plain": [
              "<IPython.core.display.Javascript object>"
            ]
          },
          "metadata": {
            "tags": []
          }
        },
        {
          "output_type": "display_data",
          "data": {
            "application/javascript": [
              "download(\"download_7cd4f9ae-9f62-43d0-9151-b8acdf304261\", \"model_1_coefficients.csv\", 1606)"
            ],
            "text/plain": [
              "<IPython.core.display.Javascript object>"
            ]
          },
          "metadata": {
            "tags": []
          }
        },
        {
          "output_type": "display_data",
          "data": {
            "application/javascript": [
              "\n",
              "    async function download(id, filename, size) {\n",
              "      if (!google.colab.kernel.accessAllowed) {\n",
              "        return;\n",
              "      }\n",
              "      const div = document.createElement('div');\n",
              "      const label = document.createElement('label');\n",
              "      label.textContent = `Downloading \"${filename}\": `;\n",
              "      div.appendChild(label);\n",
              "      const progress = document.createElement('progress');\n",
              "      progress.max = size;\n",
              "      div.appendChild(progress);\n",
              "      document.body.appendChild(div);\n",
              "\n",
              "      const buffers = [];\n",
              "      let downloaded = 0;\n",
              "\n",
              "      const channel = await google.colab.kernel.comms.open(id);\n",
              "      // Send a message to notify the kernel that we're ready.\n",
              "      channel.send({})\n",
              "\n",
              "      for await (const message of channel.messages) {\n",
              "        // Send a message to notify the kernel that we're ready.\n",
              "        channel.send({})\n",
              "        if (message.buffers) {\n",
              "          for (const buffer of message.buffers) {\n",
              "            buffers.push(buffer);\n",
              "            downloaded += buffer.byteLength;\n",
              "            progress.value = downloaded;\n",
              "          }\n",
              "        }\n",
              "      }\n",
              "      const blob = new Blob(buffers, {type: 'application/binary'});\n",
              "      const a = document.createElement('a');\n",
              "      a.href = window.URL.createObjectURL(blob);\n",
              "      a.download = filename;\n",
              "      div.appendChild(a);\n",
              "      a.click();\n",
              "      div.remove();\n",
              "    }\n",
              "  "
            ],
            "text/plain": [
              "<IPython.core.display.Javascript object>"
            ]
          },
          "metadata": {
            "tags": []
          }
        },
        {
          "output_type": "display_data",
          "data": {
            "application/javascript": [
              "download(\"download_4e1601ac-ab4f-466c-b425-a2724c158e95\", \"model_performance.csv\", 140)"
            ],
            "text/plain": [
              "<IPython.core.display.Javascript object>"
            ]
          },
          "metadata": {
            "tags": []
          }
        }
      ]
    }
  ]
}