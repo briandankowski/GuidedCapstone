{
  "nbformat": 4,
  "nbformat_minor": 0,
  "metadata": {
    "colab": {
      "name": "Final GuidedCapstone Step4 and Step5HL.ipynb",
      "provenance": [],
      "collapsed_sections": [],
      "include_colab_link": true
    },
    "kernelspec": {
      "display_name": "Python 3",
      "language": "python",
      "name": "python3"
    },
    "language_info": {
      "codemirror_mode": {
        "name": "ipython",
        "version": 3
      },
      "file_extension": ".py",
      "mimetype": "text/x-python",
      "name": "python",
      "nbconvert_exporter": "python",
      "pygments_lexer": "ipython3",
      "version": "3.7.3"
    },
    "toc": {
      "base_numbering": "0",
      "nav_menu": {},
      "number_sections": true,
      "sideBar": true,
      "skip_h1_title": false,
      "title_cell": "Table of Contents",
      "title_sidebar": "Contents",
      "toc_cell": true,
      "toc_position": {
        "height": "calc(100% - 180px)",
        "left": "10px",
        "top": "150px",
        "width": "288px"
      },
      "toc_section_display": true,
      "toc_window_display": true
    }
  },
  "cells": [
    {
      "cell_type": "markdown",
      "metadata": {
        "id": "view-in-github",
        "colab_type": "text"
      },
      "source": [
        "<a href=\"https://colab.research.google.com/github/briandankowski/GuidedCapstone/blob/master/Final_GuidedCapstone_Step4_and_Step5HL.ipynb\" target=\"_parent\"><img src=\"https://colab.research.google.com/assets/colab-badge.svg\" alt=\"Open In Colab\"/></a>"
      ]
    },
    {
      "cell_type": "markdown",
      "metadata": {
        "colab_type": "text",
        "id": "cf5CmXQCZyF1"
      },
      "source": [
        "# Guided Capstone Step 4. Pre-Processing and Training Data Development"
      ]
    },
    {
      "cell_type": "markdown",
      "metadata": {
        "colab_type": "text",
        "id": "b2jue2jPGJlt"
      },
      "source": [
        "**The Data Science Method**  \n",
        "\n",
        "\n",
        "1.   Problem Identification \n",
        "\n",
        "\n",
        "2.   Data Wrangling \n",
        "  \n",
        " \n",
        "3.   Exploratory Data Analysis   \n",
        "\n",
        "4.   **Pre-processing and Training Data Development**  \n",
        " * Create dummy or indicator features for categorical variables\n",
        "  * Standardize the magnitude of numeric features\n",
        "  * Split into testing and training datasets\n",
        "  * Apply scaler to the testing set\n",
        "5.   Modeling \n",
        "  * Fit Models with Training Data Set\n",
        "  * Review Model Outcomes — Iterate over additional models as needed.\n",
        "  * Identify the Final Model\n",
        "\n",
        "6.   Documentation\n",
        "  * Review the Results\n",
        "  * Present and share your findings - storytelling\n",
        "  * Finalize Code \n",
        "  * Finalize Documentation"
      ]
    },
    {
      "cell_type": "markdown",
      "metadata": {
        "colab_type": "text",
        "id": "K8xfkAqqZyF2"
      },
      "source": [
        "**<font color='teal'> Start by loading the necessary packages as we did in step 3 and printing out our current working directory just to confirm we are in the correct project directory. </font>**"
      ]
    },
    {
      "cell_type": "code",
      "metadata": {
        "colab_type": "code",
        "id": "ry6WPL5eZyF3",
        "colab": {
          "base_uri": "https://localhost:8080/",
          "height": 54
        },
        "outputId": "03c7e731-fc30-4f56-e397-1d8da30d6cab"
      },
      "source": [
        "import os\n",
        "import pandas as pd\n",
        "import datetime\n",
        "import seaborn as sns\n",
        "import matplotlib.pyplot as plt\n",
        "import numpy as np\n",
        "%matplotlib inline"
      ],
      "execution_count": 1,
      "outputs": [
        {
          "output_type": "stream",
          "text": [
            "/usr/local/lib/python3.6/dist-packages/statsmodels/tools/_testing.py:19: FutureWarning: pandas.util.testing is deprecated. Use the functions in the public API at pandas.testing instead.\n",
            "  import pandas.util.testing as tm\n"
          ],
          "name": "stderr"
        }
      ]
    },
    {
      "cell_type": "code",
      "metadata": {
        "id": "lPr0NOkte7FV",
        "colab_type": "code",
        "colab": {
          "base_uri": "https://localhost:8080/",
          "height": 35
        },
        "outputId": "2603a15c-a1a9-42a2-9592-d3cfb56506ba"
      },
      "source": [
        "os.listdir()"
      ],
      "execution_count": 2,
      "outputs": [
        {
          "output_type": "execute_result",
          "data": {
            "text/plain": [
              "['.config', 'sample_data']"
            ]
          },
          "metadata": {
            "tags": []
          },
          "execution_count": 2
        }
      ]
    },
    {
      "cell_type": "code",
      "metadata": {
        "id": "GMqizs8ZfA0C",
        "colab_type": "code",
        "colab": {
          "resources": {
            "http://localhost:8080/nbextensions/google.colab/files.js": {
              "data": "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",
              "ok": true,
              "headers": [
                [
                  "content-type",
                  "application/javascript"
                ]
              ],
              "status": 200,
              "status_text": "OK"
            }
          },
          "base_uri": "https://localhost:8080/",
          "height": 111
        },
        "outputId": "7c43e5fb-3cd3-4a76-c480-20da2de007ea"
      },
      "source": [
        "!mkdir data\n",
        "!mkdir figures\n",
        "!mkdir models\n",
        "from google.colab import files\n",
        "files.upload()"
      ],
      "execution_count": 3,
      "outputs": [
        {
          "output_type": "display_data",
          "data": {
            "text/html": [
              "\n",
              "     <input type=\"file\" id=\"files-bddc25aa-3b47-4850-9e1f-295aee05b9c7\" name=\"files[]\" multiple disabled\n",
              "        style=\"border:none\" />\n",
              "     <output id=\"result-bddc25aa-3b47-4850-9e1f-295aee05b9c7\">\n",
              "      Upload widget is only available when the cell has been executed in the\n",
              "      current browser session. Please rerun this cell to enable.\n",
              "      </output>\n",
              "      <script src=\"/nbextensions/google.colab/files.js\"></script> "
            ],
            "text/plain": [
              "<IPython.core.display.HTML object>"
            ]
          },
          "metadata": {
            "tags": []
          }
        },
        {
          "output_type": "stream",
          "text": [
            "Saving step3_output.csv to step3_output.csv\n"
          ],
          "name": "stdout"
        },
        {
          "output_type": "execute_result",
          "data": {
            "text/plain": [
              "{'step3_output.csv': b\"Name,state,summit_elev,vertical_drop,fastQuads,quad,triple,double,surface,total_chairs,Runs,TerrainParks,LongestRun_mi,SkiableTerrain_ac,Snow Making_ac,daysOpenLastYear,yearsOpen,averageSnowfall,AdultWeekday,AdultWeekend,projectedDaysOpen,NightSkiing_ac,clusters\\nAlyeska Resort,Alaska,3939,2500,2,2,0,0,2,7,76.0,2.0,1.0,1610.0,113.0,150.0,60.0,669.0,65.0,85.0,150.0,550.0,1\\nEaglecrest Ski Area,Alaska,2600,1540,0,0,0,4,0,4,36.0,1.0,2.0,640.0,60.0,45.0,44.0,350.0,47.0,53.0,90.0,0.0,1\\nHilltop Ski Area,Alaska,2090,294,0,0,1,0,2,3,13.0,1.0,1.0,30.0,30.0,150.0,36.0,69.0,30.0,34.0,152.0,30.0,1\\nArizona Snowbowl,Arizona,11500,2300,0,2,2,1,2,8,55.0,4.0,2.0,777.0,104.0,122.0,81.0,260.0,89.0,89.0,122.0,0.0,0\\nSunrise Park Resort,Arizona,11100,1800,1,2,3,1,0,7,65.0,2.0,1.2,800.0,80.0,115.0,49.0,250.0,74.0,78.0,104.0,80.0,0\\nYosemite Ski & Snowboard Area,California,7800,600,0,0,1,3,1,5,10.0,2.0,0.4,88.0,0.0,110.0,84.0,300.0,47.0,47.0,107.0,0.0,3\\nBear Mountain,California,8805,1665,2,1,2,3,4,12,27.0,14.0,1.5,198.0,198.0,122.0,76.0,100.0,57.91695652173913,64.16681003584229,130.0,0.0,3\\nBear Valley,California,8500,1900,1,0,2,4,2,10,67.0,2.0,1.2,1680.0,100.0,165.0,52.0,359.0,57.91695652173913,64.16681003584229,151.0,0.0,3\\nBoreal Mountain Resort,California,7700,500,1,1,3,1,2,8,33.0,6.0,1.0,380.0,200.0,150.0,54.0,400.0,49.0,64.16681003584229,150.0,200.0,3\\nDodge Ridge,California,8200,1600,0,1,2,5,4,12,67.0,5.0,2.0,862.0,0.0,115.10394265232976,69.0,350.0,78.0,78.0,140.0,0.0,3\\nDonner Ski Ranch,California,8012,750,0,0,1,5,2,8,52.0,2.0,1.5,505.0,60.0,163.0,82.0,400.0,75.0,75.0,170.0,0.0,3\\nHeavenly Mountain Resort,California,10067,3500,7,1,5,3,8,28,97.0,3.0,5.5,4800.0,3379.0,155.0,64.0,360.0,57.91695652173913,64.16681003584229,157.0,0.0,0\\nJune Mountain,California,10090,2590,2,0,0,4,1,7,41.0,2.0,2.0,1500.0,0.0,115.10394265232976,58.0,250.0,57.91695652173913,64.16681003584229,128.0,0.0,0\\nKirkwood,California,9800,2000,2,1,5,1,3,12,85.0,2.0,2.5,2300.0,200.0,200.0,47.0,354.0,57.91695652173913,64.16681003584229,167.0,0.0,0\\nMammoth Mountain Ski Area,California,11053,3100,9,1,6,4,0,25,154.0,7.0,3.0,3500.0,700.0,243.0,66.0,400.0,149.0,159.0,120.0530035335689,0.0,0\\nMt. Shasta Ski Park,California,6890,1435,0,0,3,0,1,4,32.0,2.0,1.1,425.0,225.0,140.0,34.0,300.0,49.0,59.0,130.0,0.0,3\\nMountain High,California,8200,1600,2,2,2,5,3,14,59.0,1.0,1.6,290.0,275.0,118.0,95.0,108.0,84.0,84.0,150.0,73.0,3\\nMt. Baldy,California,8600,2100,0,0,0,4,0,4,26.0,0.0,2.5,400.0,80.0,175.0,67.0,178.0,69.0,69.0,200.0,0.0,3\\nNorthstar California,California,8610,2280,7,1,2,0,7,20,100.0,9.0,1.4,3170.0,1500.0,135.0,47.0,350.0,57.91695652173913,64.16681003584229,150.0,0.0,0\\nSierra-at-Tahoe,California,8852,2212,3,0,1,5,5,14,46.0,6.0,2.5,2000.0,200.0,160.0,73.0,460.0,99.0,64.16681003584229,144.0,0.0,0\\nSki China Peak,California,8709,1679,0,1,4,2,4,11,45.0,1.0,2.2,1400.0,150.0,140.0,62.0,300.0,83.0,83.0,144.0,0.0,3\\nSnow Summit,California,8200,1200,2,0,4,5,5,16,27.0,6.0,1.2,240.0,240.0,115.10394265232976,67.0,100.0,57.91695652173913,64.16681003584229,130.0,150.0,3\\nSnow Valley,California,7841,1041,0,0,5,6,1,12,28.0,6.0,1.2,240.0,188.0,111.0,82.0,160.0,69.0,79.0,143.0,164.0,3\\nSoda Springs,California,7352,652,0,0,1,1,2,4,18.0,0.0,0.4,200.0,20.0,150.0,83.0,400.0,50.0,50.0,144.0,0.0,3\\nSugar Bowl Resort,California,8383,1500,5,3,1,0,2,12,105.0,3.0,3.0,1650.0,375.0,151.0,80.0,500.0,125.0,125.0,150.0,0.0,3\\nTahoe Donner,California,7350,600,0,1,1,0,3,5,14.0,2.0,1.0,120.0,0.0,150.0,48.0,400.0,69.0,69.0,144.0,0.0,3\\nArapahoe Basin Ski Area,Colorado,13050,2530,1,2,1,2,3,9,145.0,3.0,1.5,1428.0,125.0,230.0,73.0,350.0,85.0,85.0,233.0,0.0,0\\nAspen / Snowmass,Colorado,12510,4406,15,4,3,5,9,40,336.0,10.0,5.3,5517.0,658.0,138.0,72.0,300.0,179.0,179.0,138.0,0.0,0\\nBeaver Creek,Colorado,11440,3340,11,0,1,1,9,24,150.0,3.0,2.8,1832.0,650.0,145.0,39.0,323.0,57.91695652173913,64.16681003584229,138.0,0.0,0\\nBreckenridge,Colorado,12998,3398,6,0,1,6,15,34,187.0,4.0,3.5,2908.0,600.0,182.0,58.0,300.0,57.91695652173913,64.16681003584229,163.0,0.0,0\\nCopper Mountain Resort,Colorado,12313,2738,4,0,4,4,9,24,150.0,6.0,1.7,2527.0,364.0,164.0,47.0,300.0,158.0,158.0,164.0,0.0,0\\nCrested Butte Mountain Resort,Colorado,12162,3062,4,2,2,1,5,14,121.0,4.0,2.6,1547.0,297.0,145.0,58.0,234.0,57.91695652173913,64.16681003584229,131.0,0.0,0\\nPurgatory,Colorado,10822,2029,2,0,3,3,3,12,101.0,9.0,1.3,1605.0,250.0,130.0,54.0,260.0,89.0,89.0,130.0,0.0,0\\nEldora Mountain Resort,Colorado,10600,1400,0,2,1,3,3,10,65.0,8.0,3.0,680.0,680.0,147.0,57.0,311.0,57.91695652173913,64.16681003584229,150.0,0.0,0\\nHowelsen Hill,Colorado,7136,440,0,0,0,1,3,4,17.0,1.0,6.0,50.0,25.0,100.0,104.0,150.0,25.0,25.0,100.0,10.0,3\\nKeystone,Colorado,12408,3128,4,1,1,2,8,20,128.0,1.0,3.5,3148.0,662.0,184.0,49.0,235.0,57.91695652173913,64.16681003584229,120.0530035335689,288.0,0\\nLoveland,Colorado,13010,2210,1,3,3,2,1,10,94.0,1.0,2.0,1800.0,240.0,205.0,82.0,422.0,79.0,79.0,184.0,0.0,0\\nMonarch Mountain,Colorado,11952,1162,0,1,0,4,2,7,64.0,2.0,1.0,800.0,0.0,143.0,80.0,350.0,89.0,89.0,136.0,0.0,0\\nPowderhorn,Colorado,9850,1650,1,0,0,2,2,5,42.0,2.0,1.5,1600.0,42.0,111.0,53.0,250.0,71.0,71.0,110.0,0.0,0\\nSilverton Mountain,Colorado,13487,3087,0,0,0,1,0,1,48.214723926380366,0.0,1.5,26819.0,0.0,175.0,17.0,400.0,79.0,79.0,181.0,0.0,2\\nCooper,Colorado,11700,1200,0,0,1,1,2,4,41.0,1.0,1.0,400.0,0.0,130.0,74.0,260.0,56.0,56.0,130.0,0.0,0\\nSki Granby Ranch,Colorado,9202,1000,2,0,1,1,1,5,40.0,1.0,0.6,406.0,170.0,116.0,36.0,220.0,84.0,84.0,92.0,100.0,3\\nSteamboat,Colorado,10568,3668,6,0,5,2,3,18,169.0,4.0,3.0,2965.0,375.0,145.0,56.0,336.0,57.91695652173913,64.16681003584229,145.0,30.0,0\\nSunlight Mountain Resort,Colorado,9895,2010,0,0,1,2,0,3,67.0,1.0,2.5,680.0,30.0,100.0,53.0,250.0,65.0,65.0,135.0,0.0,0\\nTelluride,Colorado,13150,4425,6,1,2,2,4,17,148.0,3.0,4.6,2000.0,220.0,131.0,47.0,280.0,139.0,139.0,137.0,0.0,0\\nVail,Colorado,11570,3450,15,1,1,0,9,31,195.0,3.0,4.0,5289.0,461.0,149.0,57.0,354.0,57.91695652173913,64.16681003584229,142.0,0.0,0\\nWinter Park Resort,Colorado,12060,3060,7,0,4,6,5,25,166.0,7.0,4.9,3081.0,313.0,158.0,79.0,360.0,57.91695652173913,64.16681003584229,151.0,0.0,0\\nWolf Creek Ski Area,Colorado,11904,1604,3,1,2,1,3,10,120.0,0.0,2.0,1600.0,5.0,130.0,80.0,430.0,72.0,72.0,150.0,0.0,0\\nMohawk Mountain,Connecticut,1600,650,0,0,5,0,3,8,25.0,0.0,1.5,107.0,100.0,115.10394265232976,72.0,92.0,30.0,65.0,110.0,64.0,1\\nMount Southington Ski Area,Connecticut,525,425,0,0,2,2,3,7,14.0,2.0,0.3,51.0,51.0,63.0,55.0,80.0,60.0,60.0,95.0,51.0,1\\nPowder Ridge Park,Connecticut,720,550,0,0,1,2,2,5,19.0,4.0,0.5,80.0,68.0,80.0,60.0,80.0,45.0,55.0,100.0,40.0,1\\nSki Sundown,Connecticut,1075,625,0,0,3,0,2,5,16.0,2.0,1.0,70.0,70.0,84.0,50.0,45.0,62.0,62.0,95.0,66.0,1\\nWoodbury Ski Area,Connecticut,730,300,0,0,0,1,4,5,12.0,2.0,0.2,50.0,50.0,126.0,57.0,70.0,42.0,42.0,180.0,35.0,1\\nBogus Basin,Idaho,7582,1800,3,0,1,3,4,11,91.0,3.0,1.5,2600.0,0.0,134.0,77.0,250.0,64.0,64.0,130.0,165.0,3\\nBrundage Mountain Resort,Idaho,7640,1800,1,0,4,0,1,6,51.0,2.0,3.2,1920.0,2.0,126.0,58.0,320.0,70.0,70.0,120.0530035335689,0.0,3\\nKelly Canyon Ski Area,Idaho,6600,1000,0,0,0,4,2,6,51.0,1.0,1.3,740.0,0.0,115.10394265232976,62.0,200.0,57.91695652173913,42.0,120.0530035335689,0.0,3\\nLookout Pass Ski Area,Idaho,5650,1150,0,0,1,3,0,4,35.0,2.0,1.5,540.0,0.0,113.0,84.0,400.0,44.0,47.0,140.0,0.0,3\\nMagic Mountain Ski Area,Idaho,7200,700,0,0,0,1,2,3,11.0,0.0,1.5,280.0,0.0,65.0,81.0,180.0,32.0,32.0,70.0,0.0,3\\nPebble Creek Ski Area,Idaho,8560,2200,0,0,3,0,0,3,54.0,2.0,1.3,1100.0,30.0,85.0,70.0,250.0,47.0,47.0,91.0,30.0,3\\nPomerelle Mountain Resort,Idaho,9000,1000,0,0,1,1,1,3,24.0,2.0,1.5,500.0,50.0,138.0,56.0,500.0,57.91695652173913,64.16681003584229,138.0,100.0,3\\nSchweitzer,Idaho,6400,2400,2,0,1,3,2,9,92.0,3.0,2.1,2900.0,47.0,136.0,56.0,300.0,81.0,81.0,120.0530035335689,100.0,3\\nSilver Mountain,Idaho,6300,2200,0,1,2,2,1,7,80.0,2.0,2.5,1600.0,225.0,130.0,29.0,300.0,57.0,62.0,193.0,20.0,3\\nSoldier Mountain Ski Area,Idaho,7200,1400,0,0,0,2,1,3,36.0,0.0,0.4,1142.0,0.0,60.0,71.0,185.31645569620247,43.0,43.0,120.0530035335689,0.0,3\\nSun Valley,Idaho,9150,3400,9,0,3,2,3,18,120.0,7.0,3.0,2054.0,645.0,149.0,83.0,220.0,57.91695652173913,64.16681003584229,137.0,0.0,0\\nTamarack Resort,Idaho,7700,2800,2,2,0,0,2,6,48.0,3.0,1.5,1020.0,200.0,115.10394265232976,15.0,300.0,71.0,71.0,150.0,0.0,3\\nChestnut Mountain Resort,Illinois,1040,475,0,2,4,0,3,9,22.0,3.0,0.2,139.0,139.0,87.0,60.0,50.0,40.0,55.0,112.0,139.0,1\\nFour Lakes,Illinois,500,100,0,0,0,0,7,7,7.0,1.0,0.1,9.0,9.0,78.0,58.0,24.0,57.91695652173913,64.16681003584229,70.0,9.0,1\\nSki Snowstar Winter Sports Park,Illinois,790,262,0,2,0,2,2,6,15.0,1.0,0.8,28.0,28.0,56.0,38.0,38.0,25.0,35.0,86.0,28.0,1\\nVilla Olivia,Illinois,500,180,0,1,0,0,6,7,7.0,1.0,0.1,15.0,15.0,115.10394265232976,53.0,25.0,40.0,40.0,70.0,15.0,1\\nPaoli Peaks,Indiana,900,300,1,1,3,1,2,8,15.0,2.0,0.4,65.0,65.0,75.0,41.0,18.0,38.0,45.0,80.0,65.0,1\\nPerfect North Slopes,Indiana,800,400,0,2,3,0,6,11,23.0,2.0,1.0,100.0,100.0,82.0,39.0,24.0,52.0,52.0,90.0,100.0,1\\nMt. Crescent Ski Area,Iowa,1500,300,0,1,0,1,0,2,11.0,1.0,0.2,50.0,50.0,115.10394265232976,58.0,30.0,29.0,39.0,120.0530035335689,50.0,1\\nSeven Oaks,Iowa,975,275,0,0,2,0,2,4,11.0,2.0,1.0,35.0,35.0,100.0,22.0,40.0,40.0,40.0,100.0,35.0,1\\nSundown Mountain,Iowa,1059,475,0,1,1,2,2,6,21.0,2.0,0.6,55.0,55.0,115.10394265232976,46.0,45.0,38.0,46.0,120.0530035335689,55.0,1\\nBig Squaw Mountain Ski Resort,Maine,3200,660,0,0,1,0,0,1,29.0,0.0,0.8,739.8012232415903,0.0,67.0,6.0,185.31645569620247,30.0,30.0,58.0,0.0,1\\nCamden Snow Bowl,Maine,1080,850,0,0,1,1,1,3,26.0,2.0,1.0,100.0,48.0,68.0,83.0,69.0,33.0,43.0,70.0,48.0,1\\nLost Valley,Maine,495,240,0,0,0,2,2,4,22.0,2.0,0.3,45.0,45.0,87.0,58.0,50.0,29.0,55.0,104.0,45.0,1\\nMt. Abram Ski Resort,Maine,2250,1150,0,0,0,2,3,5,54.0,1.0,0.5,640.0,175.0,120.0,59.0,125.0,29.0,49.0,120.0,0.0,1\\nMt. Jefferson,Maine,753,432,0,0,0,0,3,3,10.0,0.0,0.3,12.0,0.0,115.10394265232976,19.0,185.31645569620247,57.91695652173913,64.16681003584229,120.0530035335689,0.0,1\\nNew Hermon Mountain,Maine,450,350,0,0,0,1,2,3,20.0,0.0,1.9,70.0,70.0,102.0,55.0,90.0,32.0,32.0,117.0,45.0,1\\nShawnee Peak,Maine,1900,1350,0,1,2,1,2,6,43.0,3.0,0.8,239.0,234.0,97.0,81.0,110.0,55.0,75.0,103.0,110.0,1\\nSugarloaf,Maine,4237,2820,2,3,1,5,2,13,162.0,4.0,3.5,1240.0,618.0,159.0,68.0,200.0,99.0,99.0,155.0,0.0,3\\nSunday River,Maine,3140,2340,4,5,3,1,1,15,135.0,5.0,3.0,870.0,552.0,165.0,60.0,167.0,105.0,105.0,169.0,140.0,1\\nWisp,Maryland,3115,700,0,2,5,0,5,12,34.0,3.0,1.5,172.0,118.0,121.0,64.0,100.0,59.0,79.0,120.0,118.0,1\\nBerkshire East,Massachusetts,1720,1180,0,2,1,1,2,6,47.0,2.0,2.0,180.0,165.0,120.0,68.0,120.0,48.0,68.0,120.0,80.0,1\\nBlandford Ski Area,Massachusetts,1685,465,0,0,0,3,2,5,29.0,2.0,0.5,132.0,70.0,115.10394265232976,83.0,50.0,20.0,45.0,120.0530035335689,70.0,1\\nBlue Hills Ski Area,Massachusetts,635,309,0,0,0,1,3,4,16.0,1.0,1.4332307692307693,60.0,60.0,115.10394265232976,19.0,185.31645569620247,40.0,45.0,120.0530035335689,0.0,1\\nBousquet Ski Area,Massachusetts,1875,750,0,0,0,3,2,5,23.0,1.0,1.0,200.0,98.0,115.10394265232976,19.0,83.0,25.0,49.0,120.0530035335689,100.0,1\\nBradford Ski Area,Massachusetts,1548,248,0,0,2,0,8,10,15.0,1.0,0.3,48.0,48.0,115.10394265232976,71.0,185.31645569620247,37.0,55.0,120.0530035335689,0.0,1\\nJiminy Peak,Massachusetts,2380,1150,0,2,3,1,2,9,45.0,3.0,2.0,167.0,163.0,121.0,71.0,90.0,81.0,81.0,120.0,104.0,1\\nNashoba Valley,Massachusetts,440,240,0,0,3,1,7,11,17.0,2.0,0.5,52.0,52.0,112.0,55.0,55.0,48.0,58.0,126.0,52.0,1\\nOtis Ridge Ski Area,Massachusetts,1700,400,0,0,0,1,3,4,11.0,1.0,1.0,60.0,55.0,106.0,73.0,70.0,20.0,40.0,106.0,35.0,1\\nSki Butternut,Massachusetts,1800,1000,0,3,1,1,6,11,22.0,2.0,1.5,110.0,110.0,107.0,56.0,115.0,25.0,60.0,110.0,0.0,1\\nSki Ward,Massachusetts,420,210,0,0,1,0,3,4,11.0,1.0,0.2,45.0,45.0,105.0,50.0,80.0,57.91695652173913,64.16681003584229,120.0,38.0,1\\nWachusett Mountain Ski Area,Massachusetts,2006,1000,3,0,1,0,4,8,27.0,2.0,1.5,112.0,112.0,115.10394265232976,57.0,100.0,65.0,71.0,120.0,104.0,1\\nAlpine Valley Ski Area,Michigan,500,240,0,1,2,5,6,14,25.0,3.0,0.2,100.0,100.0,115.10394265232976,57.0,20.0,39.0,47.0,120.0530035335689,100.0,1\\nApple Mountain,Michigan,820,220,0,1,0,0,5,6,12.0,0.0,1.4332307692307693,80.0,42.0,115.10394265232976,58.0,52.0,35.0,35.0,120.0530035335689,80.0,1\\nBig Powderhorn Mountain,Michigan,1800,600,0,0,0,9,1,10,45.0,2.0,1.0,253.0,228.0,100.0,55.0,214.0,69.0,69.0,108.0,0.0,1\\nBittersweet Ski Area,Michigan,850,350,0,1,7,0,4,12,20.0,2.0,0.2,100.0,100.0,80.0,36.0,90.0,38.0,48.0,120.0530035335689,100.0,1\\nBig Snow Resort - Blackjack,Michigan,850,465,0,0,0,4,2,6,26.0,2.0,1.0,170.0,86.0,95.0,42.0,210.0,49.0,65.0,115.0,0.0,1\\nBoyne Highlands,Michigan,1290,552,1,3,4,0,2,10,55.0,4.0,1.2,435.0,400.0,97.0,56.0,140.0,78.0,98.0,120.0,150.0,1\\nBoyne Mountain Resort,Michigan,1120,500,0,4,3,2,2,12,60.0,7.0,1.0,415.0,380.0,122.0,71.0,140.0,57.91695652173913,64.16681003584229,130.0,200.0,1\\nCaberfae Peaks,Michigan,1569,485,0,1,2,1,1,5,34.0,2.0,1.2,200.0,200.0,118.0,82.0,140.0,39.0,49.0,130.0,150.0,1\\nCannonsburg,Michigan,1100,250,0,1,1,1,7,10,21.0,5.0,0.1,100.0,0.0,100.0,54.0,100.0,30.0,37.0,100.0,0.0,1\\nCrystal Mountain,Michigan,1132,375,1,3,2,0,2,8,58.0,3.0,0.3,102.0,96.0,120.0,63.0,132.0,54.0,64.0,135.0,56.0,1\\nBig Snow Resort - Indianhead Mountain,Michigan,1935,638,0,1,1,5,2,9,32.0,2.0,1.0,240.0,150.0,120.0,60.0,204.0,49.0,49.0,120.0,0.0,1\\nMarquette Mountain,Michigan,1357,600,0,0,1,2,1,4,35.0,3.0,0.7,169.0,143.0,139.0,60.0,210.0,57.91695652173913,64.16681003584229,135.0,89.0,1\\nMont Ripley,Michigan,1140,440,0,0,0,2,2,4,25.0,2.0,0.8,112.0,112.0,114.0,83.0,275.0,49.0,49.0,100.0,100.0,1\\nMount Bohemia,Michigan,1500,900,0,0,1,1,0,2,48.214723926380366,0.0,2.3,585.0,0.0,83.0,19.0,273.0,68.0,68.0,100.0,0.0,1\\nMt. Brighton,Michigan,1330,230,0,2,3,0,8,13,25.0,5.0,0.1,130.0,130.0,111.0,59.0,60.0,52.0,59.0,100.0,130.0,1\\nMt. Holiday Ski Area,Michigan,440,200,0,0,0,2,2,4,12.0,0.0,0.1,45.0,45.0,100.0,70.0,120.0,22.0,34.0,90.0,45.0,1\\nMount Holly,Michigan,1105,350,1,2,3,1,6,13,19.0,0.0,0.1,100.0,100.0,115.10394265232976,63.0,42.0,37.0,45.0,102.0,100.0,1\\nMulligan's Hollow Ski Bowl,Michigan,700,130,0,0,0,0,5,5,6.0,0.0,0.2,10.0,10.0,115.10394265232976,19.0,60.0,15.0,20.0,120.0530035335689,10.0,1\\nNorway Mountain,Michigan,1335,500,0,0,1,2,3,6,17.0,1.0,1.4,186.0,186.0,110.0,45.0,100.0,57.91695652173913,45.0,110.0,40.0,1\\nNubs Nob Ski Area,Michigan,1338,427,0,3,4,2,1,10,53.0,3.0,0.9,248.0,248.0,133.0,61.0,135.0,65.0,85.0,130.0,160.0,1\\nPine Knob Ski Resort,Michigan,1308,300,0,0,0,0,6,6,14.0,3.0,1.0,80.0,80.0,115.10394265232976,2019.0,185.31645569620247,49.0,57.0,120.0530035335689,0.0,1\\nPine Mountain,Michigan,1650,500,0,0,1,2,1,4,28.0,1.0,0.5,160.0,160.0,110.0,80.0,60.0,57.91695652173913,45.0,126.0,80.0,1\\nSchuss Mountain at Shanty Creek,Michigan,1125,450,0,5,0,0,3,8,42.0,3.0,1.0,70.0,70.0,94.0,57.0,160.0,58.0,78.0,111.0,70.0,1\\nSki Brule,Michigan,1860,500,0,0,0,5,7,12,17.0,3.0,1.0,150.0,150.0,164.0,62.0,150.0,49.0,49.0,165.0,40.0,1\\nSnow Snake Mountain Ski Area,Michigan,1230,210,0,0,1,0,5,6,12.0,2.0,0.0,40.0,40.0,115.10394265232976,72.0,185.31645569620247,30.0,35.0,120.0530035335689,40.0,1\\nSwiss Valley,Michigan,1200,225,0,2,1,0,4,7,11.0,2.0,0.1,60.0,60.0,89.0,51.0,60.0,32.0,42.0,80.0,60.0,1\\nThe Homestead,Michigan,900,320,0,0,2,1,2,5,15.0,1.0,0.2,16.0,16.0,47.0,34.0,150.0,50.0,50.0,42.0,16.0,1\\nTimber Ridge,Michigan,850,250,0,1,1,2,4,8,16.0,2.0,0.3,50.0,50.0,80.0,58.0,185.31645569620247,35.0,45.0,120.0530035335689,50.0,1\\nTreetops Resort,Michigan,1345,225,0,0,3,0,2,5,23.0,3.0,0.2,80.0,80.0,63.0,65.0,175.0,57.91695652173913,64.16681003584229,101.0,80.0,1\\nAfton Alps,Minnesota,1530,350,0,1,3,14,4,22,48.0,5.0,0.5,250.0,250.0,135.0,56.0,60.0,55.0,60.0,135.0,250.0,1\\nAndes Tower Hills Ski Area,Minnesota,1620,290,0,1,2,0,3,6,15.0,2.0,0.2,35.0,35.0,100.0,38.0,55.0,45.0,45.0,110.0,35.0,1\\nBuck Hill,Minnesota,1225,309,0,2,1,0,5,8,16.0,0.0,0.2,45.0,45.0,115.0,65.0,60.0,34.0,47.0,112.0,45.0,1\\nBuena Vista Ski Area,Minnesota,1510,230,0,0,2,2,2,6,17.0,0.0,0.3,30.0,30.0,57.0,70.0,78.0,44.0,44.0,60.0,30.0,1\\nCoffee Mill Ski & Snowboard Resort,Minnesota,1150,425,0,0,0,2,1,3,14.0,1.0,1.0,40.0,35.0,57.0,39.0,48.0,23.0,37.0,56.0,35.0,1\\nElm Creek Winter Recreation Area,Minnesota,928,60,0,0,0,0,3,3,3.0,0.0,1.0,15.0,20.0,105.0,13.0,45.0,17.0,17.0,102.0,15.0,1\\nGiants Ridge Resort,Minnesota,1972,500,1,1,1,2,2,7,35.0,2.0,0.8,202.0,202.0,120.0,35.0,85.0,49.0,58.0,125.0,121.0,1\\nHyland Ski & Snowboard Area,Minnesota,1075,175,0,2,1,0,5,8,14.0,1.0,1.0,35.0,35.0,110.0,61.0,55.0,35.34,35.34,115.0,35.0,1\\nLutsen Mountains,Minnesota,1688,825,0,0,1,4,1,8,62.0,2.0,2.0,393.0,231.0,135.0,71.0,120.0,84.0,84.0,127.0,0.0,1\\nMount Kato Ski Area,Minnesota,540,240,0,5,0,3,2,10,19.0,4.0,1.0,55.0,55.0,115.0,43.0,50.0,34.0,46.0,120.0,50.0,1\\nPowder Ridge Ski Area,Minnesota,790,300,0,1,0,2,3,6,15.0,4.0,1.4332307692307693,60.0,60.0,97.0,58.0,45.0,36.0,48.0,113.0,60.0,1\\nSpirit Mountain,Minnesota,1320,700,1,1,2,1,2,7,22.0,3.0,1.0,175.0,175.0,100.0,45.0,100.0,59.0,59.0,125.0,144.0,1\\nWelch Village,Minnesota,1060,360,0,3,1,4,2,10,50.0,1.0,0.8,125.0,125.0,114.0,54.0,45.0,54.0,60.0,122.0,100.0,1\\nWild Mountain Ski & Snowboard Area,Minnesota,1113,300,0,4,0,0,4,8,26.0,4.0,0.9,100.0,100.0,130.0,47.0,50.0,55.0,55.0,140.0,100.0,1\\nHidden Valley Ski Area,Missouri,2566,310,0,2,2,0,3,7,17.0,0.0,0.1,30.0,30.0,115.10394265232976,37.0,26.0,49.0,49.0,120.0530035335689,17.0,1\\nSnow Creek,Missouri,1100,300,0,0,2,1,2,5,14.0,2.0,0.3,30.0,30.0,69.0,33.0,20.0,37.0,47.0,85.0,30.0,1\\nBig Sky Resort,Montana,11166,4350,5,3,7,5,12,36,317.0,8.0,6.0,5800.0,400.0,144.0,46.0,400.0,57.91695652173913,64.16681003584229,144.0,0.0,0\\nBlacktail Mountain Ski Area,Montana,6676,1440,0,0,1,2,1,4,27.0,0.0,0.7,1000.0,0.0,115.10394265232976,21.0,250.0,42.0,42.0,120.0530035335689,0.0,3\\nBridger Bowl,Montana,8700,2600,0,1,6,1,3,11,105.0,2.0,1.5,2000.0,100.0,122.0,64.0,350.0,63.0,63.0,133.0,0.0,0\\nDiscovery Ski Area,Montana,8150,2380,0,0,5,2,1,8,74.0,1.0,1.5,2400.0,25.0,116.0,46.0,225.0,49.0,49.0,116.0,0.0,3\\nGreat Divide,Montana,7330,1580,0,0,0,5,1,6,110.0,6.0,3.0,1600.0,150.0,94.0,78.0,180.0,48.0,48.0,100.0,100.0,3\\nLost Trail - Powder Mtn,Montana,8200,1800,0,0,0,5,3,8,69.0,2.0,2.5,1800.0,0.0,84.0,81.0,325.0,46.0,46.0,80.0,0.0,3\\nMaverick Mountain,Montana,8520,2020,0,0,0,1,1,2,22.0,0.0,1.3,255.0,0.0,115.10394265232976,83.0,160.0,39.0,39.0,120.0530035335689,0.0,3\\nMontana Snowbowl,Montana,7600,2600,0,0,0,2,2,4,37.0,0.0,1.2,950.0,20.0,115.10394265232976,58.0,300.0,50.0,50.0,120.0530035335689,10.0,3\\nRed Lodge Mountain,Montana,9416,2400,2,0,1,3,1,7,70.0,2.0,2.5,1635.0,496.0,142.0,59.0,250.0,67.0,67.0,136.0,0.0,0\\nShowdown Montana,Montana,8200,1400,0,0,1,2,1,4,36.0,1.0,1.8,640.0,0.0,86.0,83.0,250.0,47.0,47.0,85.0,0.0,3\\nTeton Pass Ski Resort,Montana,7200,1010,0,0,0,1,2,3,43.0,1.0,3.0,330.0,0.0,40.0,54.0,250.0,39.0,39.0,150.0,0.0,3\\nBig Mountain Resort,Montana,6817,2353,3,2,6,0,3,14,105.0,4.0,3.3,3000.0,600.0,123.0,72.0,333.0,81.0,81.0,123.0,600.0,3\\nDiamond Peak,Nevada,8540,1840,1,2,0,3,1,7,30.0,3.0,2.5,655.0,492.0,100.0,53.0,300.0,89.0,99.0,122.0,0.0,3\\nElko SnoBowl,Nevada,7000,700,0,0,0,1,1,2,10.0,0.0,1.0,60.0,2.0,19.0,23.0,24.0,20.0,20.0,30.0,0.0,3\\nLee Canyon,Nevada,11289,860,0,2,1,0,0,3,24.0,1.0,0.3,195.0,50.0,144.0,56.0,161.0,70.0,70.0,150.0,0.0,0\\nMt. Rose - Ski Tahoe,Nevada,9700,1800,0,2,2,0,2,8,65.0,5.0,2.5,1200.0,330.0,152.0,55.0,350.0,135.0,135.0,150.0,0.0,0\\nAttitash,New Hampshire,2350,1750,2,1,3,2,1,9,68.0,3.0,3.0,311.0,240.0,115.0,54.0,120.0,79.0,89.0,130.0,0.0,1\\nBlack Mountain,New Hampshire,2350,1100,0,0,1,1,3,5,45.0,0.0,1.6,143.0,120.0,110.0,84.0,125.0,45.0,59.0,107.0,0.0,1\\nBretton Woods,New Hampshire,3100,1500,4,1,1,0,3,9,63.0,2.0,2.0,464.0,427.0,180.0,46.0,200.0,85.0,99.0,180.0,45.0,1\\nCannon Mountain,New Hampshire,4080,2180,1,2,3,1,3,11,97.0,3.0,2.3,285.0,192.0,124.0,81.0,160.0,79.0,79.0,143.0,0.0,1\\nCranmore Mountain Resort,New Hampshire,2000,1200,1,1,2,1,2,7,57.0,4.0,1.0,200.0,192.0,107.0,82.0,150.0,57.91695652173913,64.16681003584229,128.0,0.0,1\\nCrotched Mountain,New Hampshire,2066,1016,1,1,1,1,1,5,25.0,3.0,1.2,100.0,100.0,105.0,16.0,105.0,55.0,69.0,100.0,100.0,1\\nDartmouth Skiway,New Hampshire,1943,969,0,1,0,1,2,4,28.0,1.0,1.1,107.0,54.0,104.0,63.0,100.0,50.0,50.0,105.0,0.0,1\\nGunstock,New Hampshire,2300,1400,1,2,2,0,1,6,55.0,4.0,1.5,227.0,176.0,106.0,82.0,120.0,80.0,92.0,120.0530035335689,60.0,1\\nKing Pine,New Hampshire,850,350,0,0,3,0,3,6,17.0,2.0,0.3,48.0,45.0,105.0,57.0,120.0,42.0,58.0,107.0,23.0,1\\nLoon Mountain,New Hampshire,3050,2100,3,1,1,3,2,11,61.0,6.0,2.5,370.0,322.0,149.0,53.0,160.0,57.91695652173913,64.16681003584229,144.0,0.0,1\\nMount Sunapee,New Hampshire,2743,1510,2,1,2,1,4,10,66.0,4.0,0.8,232.0,215.0,130.0,71.0,100.0,83.0,93.0,136.0,0.0,1\\nPats Peak,New Hampshire,1460,770,0,0,4,2,5,11,28.0,3.0,1.5,115.0,115.0,109.0,56.0,100.0,58.0,72.0,112.0,93.0,1\\nRagged Mountain Resort,New Hampshire,2250,1250,1,0,1,0,3,6,57.0,3.0,0.7,250.0,200.0,115.10394265232976,54.0,100.0,74.0,84.0,140.0,0.0,1\\nWaterville Valley,New Hampshire,4004,2020,2,0,2,3,4,11,62.0,4.0,1.9,265.0,220.0,142.0,54.0,148.0,79.0,93.0,142.0,0.0,1\\nWhaleback Mountain,New Hampshire,1800,700,0,0,0,1,3,4,30.0,1.0,1.0,85.0,60.0,105.0,64.0,110.0,30.0,45.0,105.0,55.0,1\\nWildcat Mountain,New Hampshire,4062,2112,1,0,3,0,1,5,48.0,0.0,2.8,225.0,200.0,156.0,61.0,200.0,79.0,89.0,150.0,0.0,1\\nCampgaw Mountain,New Jersey,726,274,0,0,0,2,3,5,12.0,1.0,0.3,23.0,23.0,80.0,58.0,45.0,57.91695652173913,64.16681003584229,120.0530035335689,14.0,1\\nMountain Creek Resort,New Jersey,1480,1040,2,2,1,1,3,10,46.0,3.0,2.0,167.0,167.0,90.0,54.0,65.0,79.99,79.99,100.0,167.0,1\\nAngel Fire Resort,New Mexico,10677,2077,2,0,0,3,2,7,81.0,3.0,3.0,560.0,230.0,101.0,53.0,210.0,77.0,77.0,101.0,50.0,0\\nEnchanted Forest Ski Area,New Mexico,10078,400,0,0,0,0,0,0,33.0,0.0,2.5,600.0,0.0,130.0,34.0,240.0,20.0,20.0,140.0,0.0,0\\nPajarito Mountain Ski Area,New Mexico,10441,1410,0,1,1,3,1,6,45.0,2.0,0.6,750.0,35.0,89.0,62.0,163.0,49.0,49.0,117.0,0.0,0\\nRed River,New Mexico,10350,1600,0,1,3,1,2,7,63.0,3.0,2.5,209.0,0.0,110.0,60.0,214.0,79.0,79.0,120.0530035335689,0.0,0\\nSandia Peak,New Mexico,10378,1700,0,0,0,4,1,5,39.0,1.0,2.0,200.0,30.0,32.0,82.0,100.0,55.0,55.0,38.0,0.0,0\\nSipapu Ski Resort,New Mexico,9255,1055,0,1,2,0,3,6,42.0,4.0,0.5,200.0,140.0,127.0,67.0,190.0,47.0,47.0,143.0,0.0,3\\nSki Apache,New Mexico,11500,1900,0,2,6,0,2,11,55.0,3.0,2.0,750.0,270.0,133.0,58.0,185.0,74.0,74.0,124.0,0.0,0\\nSki Santa Fe,New Mexico,12075,1725,0,1,2,2,2,7,83.0,1.0,3.0,660.0,275.0,107.0,73.0,225.0,80.0,80.0,130.0,0.0,0\\nTaos Ski Valley,New Mexico,12481,3281,1,3,4,1,4,14,111.0,1.0,5.0,1294.0,647.0,137.0,64.0,300.0,110.0,110.0,136.0,0.0,0\\nBelleayre,New York,3429,1404,1,1,1,2,2,8,50.0,2.0,2.2,175.0,168.0,154.0,70.0,130.0,60.0,72.0,150.0,0.0,1\\nBrantling Ski Slopes,New York,850,250,0,0,0,0,5,5,10.0,0.0,0.1,20.0,16.0,115.10394265232976,19.0,110.0,32.0,32.0,120.0530035335689,0.0,1\\nBristol Mountain,New York,2200,1200,2,1,1,1,1,6,34.0,3.0,2.0,160.0,148.0,129.0,55.0,60.0,65.0,76.0,129.0,154.0,1\\nBuffalo Ski Club Ski Area,New York,3429,500,0,0,0,2,4,6,43.0,1.0,1.4332307692307693,225.0,150.0,115.10394265232976,12.0,185.31645569620247,35.0,50.0,120.0530035335689,100.0,1\\nCatamount,New York,2000,1000,0,1,1,2,3,7,36.0,5.0,2.0,133.0,130.0,100.0,80.0,108.0,38.0,69.0,90.0,55.0,1\\nDry Hill Ski Area,New York,950,300,0,0,0,1,2,3,7.0,1.0,0.2,35.0,26.0,115.10394265232976,55.0,125.0,57.91695652173913,35.0,120.0530035335689,26.0,1\\nGore Mountain,New York,3600,2537,2,2,3,2,4,14,110.0,7.0,4.5,439.0,338.0,142.0,55.0,150.0,80.0,88.0,120.0530035335689,15.0,1\\nGreek Peak,New York,2100,952,0,1,1,4,2,8,56.0,4.0,1.5,220.0,184.0,110.0,62.0,122.0,49.0,63.2,113.0,175.0,1\\nHoliday Mountain,New York,1550,400,0,1,0,1,2,4,9.0,0.0,0.4,37.0,37.0,75.0,60.0,50.0,27.0,42.0,85.0,37.0,1\\nHoliday Valley,New York,2250,750,3,8,0,0,2,13,60.0,5.0,1.0,290.0,266.0,116.0,62.0,180.0,65.0,78.0,129.0,189.0,1\\nHolimont Ski Area,New York,2260,700,1,1,2,3,1,8,53.0,3.0,1.5,135.0,135.0,110.0,57.0,180.0,62.0,75.0,119.0,0.0,1\\nHunt Hollow Ski Club,New York,2030,825,0,0,1,1,1,3,19.0,1.0,1.0,400.0,400.0,115.10394265232976,52.0,130.0,48.0,58.0,75.0,400.0,1\\nHunter Mountain,New York,3200,1600,1,2,2,2,4,13,67.0,4.0,2.0,320.0,320.0,148.0,59.0,120.0,79.0,89.0,155.0,0.0,1\\nKissing Bridge,New York,1700,550,0,2,1,4,3,10,39.0,5.0,0.5,700.0,550.0,103.0,59.0,120.0,40.0,60.0,100.0,650.0,1\\nLabrador Mt.,New York,1825,700,0,0,1,2,1,4,23.0,1.0,1.0,250.0,237.0,115.10394265232976,62.0,125.0,59.0,59.0,100.0,180.0,1\\nMaple Ski Ridge,New York,1200,450,0,0,1,1,1,3,10.0,0.0,0.3,25.0,25.0,115.10394265232976,57.0,185.31645569620247,26.0,38.0,120.0530035335689,20.0,1\\nMcCauley Mountain Ski Center,New York,2250,633,0,0,0,1,4,5,23.0,1.0,0.3,70.0,55.0,105.0,61.0,200.0,20.0,30.0,105.0,0.0,1\\nMount Peter Ski Area,New York,1250,450,0,1,0,2,2,5,14.0,1.0,1.0,69.0,69.0,100.0,83.0,50.0,35.0,54.0,100.0,69.0,1\\nOak Mountain,New York,2400,650,0,1,0,0,3,4,22.0,1.0,1.2,46.0,18.0,115.10394265232976,71.0,120.0,40.0,40.0,120.0530035335689,12.0,1\\nPeek'n Peak,New York,1800,400,0,0,8,0,2,10,27.0,4.0,2.4,110.0,110.0,110.0,55.0,225.0,49.0,63.0,120.0530035335689,110.0,1\\nPlattekill Mountain,New York,3500,1100,0,0,1,1,2,4,38.0,1.0,2.0,110.0,75.0,65.0,26.0,175.0,50.0,67.0,65.0,0.0,1\\nRoyal Mountain Ski Area,New York,1800,550,0,0,0,3,0,3,14.0,0.0,0.3,35.0,28.0,115.10394265232976,63.0,90.0,45.0,45.0,120.0530035335689,0.0,1\\nSnow Ridge,New York,2000,650,0,0,0,4,2,6,21.0,2.0,0.8,130.0,65.0,73.0,74.0,230.0,38.0,48.0,100.0,40.0,1\\nSong Mountain,New York,1940,700,0,0,1,1,3,5,24.0,0.0,0.4,93.0,70.0,90.0,55.0,125.0,59.0,59.0,122.0,70.0,1\\nSwain,New York,1970,650,0,3,0,1,1,5,35.0,3.0,1.0,130.0,90.0,102.0,72.0,120.0,49.0,59.0,100.0,80.0,1\\nThunder Ridge,New York,1270,500,0,0,1,2,3,6,30.0,0.0,0.4,100.0,100.0,121.0,60.0,185.31645569620247,57.91695652173913,57.0,121.0,100.0,1\\nTitus Mountain,New York,2025,1200,0,0,2,6,2,10,50.0,3.0,2.0,200.0,150.0,101.0,59.0,150.0,39.0,49.0,100.0,70.0,1\\nToggenburg Mountain,New York,2000,700,0,0,1,1,3,5,22.0,2.0,0.4,85.0,0.0,115.10394265232976,66.0,130.0,55.0,55.0,122.0,73.0,1\\nWest Mountain,New York,1470,1010,0,0,1,2,2,5,29.0,1.0,0.6,124.0,105.0,115.10394265232976,58.0,80.0,49.0,59.0,120.0,105.0,1\\nWhiteface Mountain Resort,New York,4650,3430,1,1,2,5,2,12,86.0,5.0,2.1,288.0,220.0,122.0,61.0,168.0,96.0,96.0,141.0,0.0,3\\nWillard Mountain,New York,1415,505,0,0,0,2,3,5,16.0,0.0,0.4,50.0,35.0,85.0,19.0,80.0,46.0,46.0,120.0,35.0,1\\nWindham Mountain,New York,3100,1600,2,0,3,1,5,12,54.0,6.0,2.0,285.0,280.0,123.0,59.0,105.0,85.0,95.0,130.0,56.0,1\\nWoods Valley Ski Area,New York,1400,500,0,0,0,2,4,6,21.0,0.0,0.3,25.0,16.0,115.10394265232976,55.0,180.0,31.0,39.0,120.0530035335689,15.0,1\\nAppalachian Ski Mountain,North Carolina,4000,365,0,2,0,1,2,5,12.0,3.0,0.5,27.0,27.0,100.0,57.0,50.0,40.0,64.0,100.0,27.0,1\\nCataloochee Ski Area,North Carolina,5400,740,0,1,1,1,2,5,18.0,2.0,1.0,50.0,50.0,141.0,58.0,50.0,43.0,70.0,108.0,50.0,3\\nSapphire Valley,North Carolina,3450,200,0,1,0,0,2,3,48.214723926380366,1.0,1.0,8.0,8.0,53.0,55.0,24.0,40.0,43.0,60.0,8.0,1\\nBeech Mountain Resort,North Carolina,5506,830,0,3,0,3,2,8,17.0,1.0,1.0,95.0,95.0,98.0,52.0,31.0,41.0,68.0,120.0530035335689,95.0,3\\nSugar Mountain Resort,North Carolina,5300,1200,0,0,1,4,2,8,21.0,1.0,1.5,125.0,125.0,114.0,50.0,77.0,45.0,75.0,120.0,95.0,3\\nWolf Ridge Ski Resort,North Carolina,4700,720,0,1,0,1,2,4,15.0,1.0,0.6,65.0,65.0,115.10394265232976,49.0,65.0,42.0,65.0,100.0,60.0,3\\nAlpine Valley,Ohio,1500,230,0,1,2,1,1,5,11.0,1.0,0.2,72.0,72.0,105.0,53.0,120.0,43.0,43.0,120.0530035335689,72.0,1\\nBoston Mills,Ohio,871,264,0,0,4,2,2,8,7.0,2.0,0.3,40.0,40.0,92.0,56.0,51.0,44.0,44.0,110.0,40.0,1\\nBrandywine,Ohio,871,240,0,2,7,2,5,16,11.0,2.0,0.3,85.0,85.0,92.0,56.0,51.0,44.0,44.0,110.0,85.0,1\\nMad River Mountain,Ohio,1460,300,0,1,2,3,6,12,20.0,4.0,0.5,144.0,144.0,99.0,57.0,36.0,39.0,44.0,90.0,144.0,1\\nSnow Trails,Ohio,1475,301,0,0,4,2,3,9,17.0,3.0,0.2,80.0,80.0,101.0,58.0,50.0,41.0,52.0,70.0,80.0,1\\nAnthony Lakes Mountain Resort,Oregon,8000,900,0,0,1,0,2,3,21.0,2.0,1.5,1100.0,0.0,75.0,56.0,300.0,40.0,40.0,80.0,0.0,3\\nCooper Spur,Oregon,4000,350,0,0,0,1,1,2,10.0,0.0,0.1,50.0,0.0,78.0,66.0,100.0,39.0,39.0,90.0,0.0,1\\nHoodoo Ski Area,Oregon,5703,1035,0,3,1,1,0,5,34.0,0.0,0.4,806.0,0.0,80.0,81.0,350.0,59.0,59.0,108.0,200.0,3\\nMt. Ashland,Oregon,7533,1150,0,0,2,2,1,5,23.0,2.0,1.0,220.0,0.0,94.0,55.0,300.0,45.0,52.0,92.0,40.0,3\\nMt. Bachelor,Oregon,9065,3365,8,0,3,0,0,11,101.0,5.0,4.0,4318.0,20.0,185.0,61.0,462.0,99.0,99.0,185.0,0.0,0\\nMt. Hood Meadows,Oregon,7300,2777,6,0,0,5,2,13,85.0,6.0,3.0,2150.0,0.0,118.0,51.0,430.0,57.91695652173913,64.16681003584229,160.0,170.0,3\\nMt. Hood Skibowl,Oregon,5100,1500,0,0,0,4,5,9,65.0,2.0,3.0,960.0,29.0,125.0,82.0,300.0,70.0,70.0,144.0,317.0,3\\nSpout Springs,Oregon,5500,610,0,0,0,2,2,4,14.0,0.0,0.1,200.0,0.0,117.0,19.0,118.0,57.91695652173913,64.16681003584229,125.0,100.0,3\\nTimberline Lodge,Oregon,8540,3690,5,0,1,1,1,8,41.0,5.0,2.0,1415.0,0.0,305.0,82.0,550.0,57.91695652173913,64.16681003584229,305.0,300.0,3\\nWillamette Pass,Oregon,6683,1563,0,0,3,0,1,5,29.0,0.0,2.1,555.0,60.0,3.0,78.0,430.0,60.0,60.0,100.0,0.0,3\\nBear Creek Mountain Resort,Pennsylvania,1100,510,0,3,1,0,2,6,23.0,3.0,1.0,86.0,86.0,91.0,52.0,30.0,50.0,60.0,90.0,86.0,1\\nSki Big Bear,Pennsylvania,1250,650,0,0,0,4,2,6,18.0,1.0,1.5,26.0,26.0,75.0,43.0,69.0,50.0,62.0,75.0,26.0,1\\nBig Boulder,Pennsylvania,2175,600,0,0,2,5,1,8,16.0,8.0,1.4332307692307693,55.0,55.0,76.0,72.0,50.0,50.0,65.0,95.0,55.0,1\\nBlue Knob,Pennsylvania,3146,1072,0,0,2,2,2,6,34.0,1.0,2.0,100.0,84.0,87.0,56.0,120.0,43.0,68.0,105.0,42.0,1\\nBlue Mountain Resort,Pennsylvania,1600,1082,1,1,1,3,9,16,39.0,5.0,1.2,164.0,164.0,122.0,42.0,33.0,55.0,65.0,112.0,164.0,1\\nCamelback Mountain Resort,Pennsylvania,2100,800,2,0,3,5,6,16,37.0,5.0,1.0,166.0,166.0,100.0,56.0,50.0,55.0,70.0,100.0,160.0,1\\nEagle Rock,Pennsylvania,1810,550,0,0,0,3,0,3,14.0,1.0,1.0,739.8012232415903,0.0,115.10394265232976,47.0,185.31645569620247,57.91695652173913,64.16681003584229,40.0,0.0,1\\nElk Mountain Ski Resort,Pennsylvania,2693,1000,0,1,0,5,1,7,27.0,2.0,0.7,180.0,146.0,115.10394265232976,60.0,60.0,55.0,69.0,100.0,90.0,1\\nJack Frost,Pennsylvania,2000,600,0,1,2,5,1,9,20.0,1.0,1.0,100.0,100.0,96.0,47.0,50.0,50.0,65.0,105.0,0.0,1\\nLiberty,Pennsylvania,1190,620,0,5,0,0,3,8,16.0,3.0,1.0,100.0,100.0,107.0,54.0,31.0,67.0,77.0,97.0,100.0,1\\nMount Pleasant of Edinboro,Pennsylvania,1540,340,0,0,1,0,1,2,10.0,0.0,0.5,40.0,35.0,75.0,48.0,100.0,30.0,33.0,90.0,35.0,1\\nRoundtop Mountain Resort,Pennsylvania,1400,600,0,3,2,0,3,8,20.0,2.0,0.4,103.0,103.0,115.10394265232976,55.0,30.0,63.0,73.0,120.0530035335689,100.0,1\\nSeven Springs,Pennsylvania,2994,750,0,3,5,0,4,14,33.0,7.0,1.2,285.0,285.0,99.0,87.0,135.0,67.0,87.0,115.0,200.0,1\\nShawnee Mountain Ski Area,Pennsylvania,1350,700,1,1,0,4,4,10,23.0,2.0,1.6,125.0,125.0,100.0,44.0,50.0,55.0,65.0,122.0,120.0,1\\nSki Sawmill,Pennsylvania,2215,515,0,0,1,1,3,5,14.0,1.0,0.1,15.0,13.0,115.10394265232976,50.0,24.0,30.0,44.0,90.0,15.0,1\\nMontage Mountain,Pennsylvania,1960,1000,0,1,3,1,2,7,26.0,1.0,1.2,140.0,140.0,60.0,35.0,47.0,67.0,64.16681003584229,90.0,140.0,1\\nSpring Mountain Ski Area,Pennsylvania,528,450,0,0,1,3,2,6,9.0,1.0,0.2,45.0,45.0,100.0,56.0,20.0,57.91695652173913,64.16681003584229,100.0,45.0,1\\nTussey Mountain,Pennsylvania,1750,520,0,1,0,1,3,5,8.0,1.0,0.3,38.0,30.0,100.0,39.0,41.0,40.0,45.0,100.0,30.0,1\\nWhitetail Resort,Pennsylvania,1800,935,1,3,0,2,2,8,23.0,2.0,1.0,120.0,120.0,116.0,28.0,40.0,69.0,71.0,100.0,120.0,1\\nYawgoo Valley,Rhode Island,315,245,0,0,0,2,2,4,13.0,1.0,0.2,30.0,30.0,100.0,54.0,40.0,57.91695652173913,64.16681003584229,100.0,30.0,1\\nDeer Mountain Ski Resort,South Dakota,6850,940,0,0,1,1,2,4,63.0,2.0,1.6,500.0,50.0,69.0,51.0,200.0,45.0,45.0,81.0,0.0,3\\nTerry Peak Ski Area,South Dakota,7100,1100,3,0,1,0,1,5,30.0,1.0,1.2,450.0,225.0,114.0,65.0,150.0,58.0,58.0,120.0,0.0,3\\nOber Gatlinburg Ski Resort,Tennessee,3300,600,0,2,0,1,1,4,10.0,1.0,1.0,739.8012232415903,0.0,83.0,44.0,35.0,36.0,65.0,94.0,0.0,1\\nAlta Ski Area,Utah,11068,2538,3,0,1,2,0,6,116.0,0.0,1.3,2614.0,140.0,150.0,81.0,545.0,116.0,116.0,140.0,0.0,0\\nBeaver Mountain,Utah,8600,1600,0,0,1,3,1,5,48.0,2.0,0.8,464.0,0.0,120.0,81.0,400.0,50.0,50.0,120.0,0.0,3\\nBrian Head Resort,Utah,10970,1548,1,0,6,1,0,8,71.0,2.0,0.6,650.0,216.0,149.0,54.0,360.0,42.0,59.0,148.0,0.0,0\\nBrighton Resort,Utah,10500,1745,3,1,1,0,2,7,66.0,4.0,1.2,1050.0,200.0,138.0,83.0,500.0,85.0,85.0,138.0,200.0,0\\nDeer Valley Resort,Utah,9570,3000,13,0,5,2,0,21,103.0,0.0,2.8,2026.0,660.0,115.10394265232976,39.0,300.0,169.0,169.0,120.0530035335689,0.0,0\\nEagle Point,Utah,10600,1500,0,1,1,2,1,5,40.0,1.0,0.9,650.0,0.0,115.10394265232976,9.0,400.0,45.0,60.0,109.0,0.0,0\\nPark City,Utah,10000,3200,10,4,7,4,6,41,341.0,8.0,3.5,7300.0,750.0,142.0,56.0,355.0,57.91695652173913,64.16681003584229,143.0,0.0,0\\nPowder Mountain,Utah,9422,2522,1,4,1,0,3,9,167.0,2.0,3.5,8464.0,0.0,120.0,47.0,500.0,88.0,88.0,146.0,300.0,0\\nSnowbasin,Utah,9350,2900,2,0,3,0,2,11,107.0,4.0,3.5,3000.0,625.0,143.0,79.0,300.0,115.0,115.0,138.0,0.0,0\\nSnowbird,Utah,11000,3240,6,0,0,4,3,14,170.0,1.0,2.5,2500.0,0.0,188.0,48.0,500.0,125.0,125.0,180.0,2.0,0\\nSolitude Mountain Resort,Utah,10488,2494,4,2,1,1,1,9,80.0,0.0,3.0,1200.0,150.0,161.0,62.0,500.0,109.0,119.0,148.0,0.0,0\\nSundance,Utah,8250,2150,0,2,2,0,1,5,45.0,1.0,0.6,450.0,112.0,128.0,50.0,320.0,80.0,80.0,129.0,0.0,3\\nNordic Valley Resort,Utah,6400,960,0,0,0,2,2,4,23.0,1.0,0.4,140.0,84.0,105.0,51.0,300.0,45.0,50.0,105.0,140.0,3\\nBolton Valley,Vermont,3150,1704,0,2,0,3,1,6,71.0,3.0,0.6,300.0,90.0,133.0,53.0,300.0,69.0,79.0,132.0,50.0,1\\nBromley Mountain,Vermont,3284,1334,1,1,0,4,3,9,47.0,1.0,2.5,178.0,153.0,115.10394265232976,83.0,168.0,87.0,91.0,152.0,0.0,1\\nBurke Mountain,Vermont,3267,2011,2,1,0,0,3,6,50.0,3.0,2.2,178.0,125.0,110.0,62.0,217.0,73.0,73.0,125.0,0.0,1\\nJay Peak,Vermont,3968,2153,1,3,1,1,2,9,79.0,2.0,3.0,385.0,300.0,155.0,64.0,349.0,89.0,89.0,160.0,0.0,1\\nKillington Resort,Vermont,4241,3050,5,4,3,1,5,22,155.0,6.0,6.0,1515.0,600.0,192.0,61.0,250.0,119.0,119.0,120.0530035335689,0.0,3\\nMad River Glen,Vermont,3637,2037,0,0,2,2,1,5,52.0,0.0,1.0,115.0,16.0,134.0,71.0,228.0,57.91695652173913,64.16681003584229,135.0,0.0,1\\nMagic Mountain,Vermont,2850,1500,0,0,0,3,3,6,50.0,1.0,1.6,205.0,95.0,76.0,59.0,150.0,74.0,74.0,80.0,0.0,1\\nMount Snow,Vermont,3600,1700,3,1,6,4,5,20,86.0,10.0,3.0,600.0,480.0,135.0,65.0,156.0,57.91695652173913,64.16681003584229,135.0,0.0,1\\nOkemo Mountain Resort,Vermont,3344,2200,4,5,3,0,7,20,121.0,9.0,4.0,667.0,654.0,146.0,63.0,200.0,57.91695652173913,64.16681003584229,152.0,0.0,1\\nPico Mountain,Vermont,3967,1967,2,0,2,2,1,7,59.0,1.0,4.0,260.0,156.0,115.10394265232976,82.0,250.0,81.0,81.0,120.0530035335689,0.0,1\\nSmugglers' Notch Resort,Vermont,3640,2610,0,0,0,6,2,8,78.0,6.0,3.0,1000.0,192.0,136.0,63.0,280.0,79.0,79.0,135.0,0.0,1\\nStowe Mountain Resort,Vermont,4395,2360,0,4,2,2,2,12,116.0,0.0,3.7,485.0,388.0,155.0,86.0,314.0,57.91695652173913,64.16681003584229,137.0,0.0,3\\nStratton Mountain,Vermont,3875,2003,1,2,1,1,1,11,99.0,4.0,3.0,670.0,474.0,155.0,58.0,180.0,57.91695652173913,64.16681003584229,160.0,0.0,1\\nSugarbush,Vermont,4083,2600,5,5,2,1,3,16,111.0,4.0,3.0,581.0,406.0,150.0,61.0,250.0,119.0,119.0,156.0,0.0,1\\nSuicide Six,Vermont,1200,650,0,0,0,2,1,3,24.0,0.0,0.4,100.0,50.0,100.0,85.0,90.0,45.0,75.0,106.0,0.0,1\\nBryce Resort,Virginia,1750,500,0,1,0,1,5,7,8.0,0.0,0.4,25.0,25.0,100.0,54.0,30.0,43.0,68.0,95.0,20.0,1\\nMassanutten,Virginia,2925,1110,0,3,1,0,3,7,13.0,2.0,0.8,70.0,70.0,68.0,46.0,35.0,57.91695652173913,64.16681003584229,97.0,70.0,1\\nThe Homestead Ski Area,Virginia,3200,700,0,0,0,1,1,2,10.0,0.0,1.0,45.0,100.0,91.0,60.0,50.0,57.91695652173913,64.16681003584229,100.0,0.0,1\\nWintergreen Resort,Virginia,3515,1003,0,1,1,1,0,5,27.0,2.0,1.0,129.0,129.0,107.0,44.0,34.0,59.0,64.16681003584229,121.0,45.0,1\\n49 Degrees North,Washington,5774,1851,0,1,0,5,1,7,89.0,1.0,2.0,2325.0,0.0,101.0,48.0,301.0,62.0,62.0,135.0,250.0,3\\nAlpental,Washington,5420,2280,1,0,0,3,1,5,24.0,0.0,1.2,825.0,0.0,120.0,52.0,428.0,57.91695652173913,64.16681003584229,144.0,121.0,3\\nBluewood,Washington,5670,1125,0,0,2,0,1,3,24.0,2.0,2.0,355.0,0.0,70.0,40.0,300.0,42.0,47.0,110.0,0.0,3\\nCrystal Mountain,Washington,7012,3100,2,1,2,2,0,10,57.0,1.0,2.5,2600.0,10.0,115.10394265232976,57.0,486.0,99.0,99.0,120.0530035335689,0.0,3\\nMission Ridge,Washington,6820,2250,1,0,0,3,2,6,48.214723926380366,3.0,0.8,2000.0,66.0,104.0,53.0,200.0,57.91695652173913,64.16681003584229,96.0,500.0,3\\nMt. Baker,Washington,5000,1500,0,8,0,0,2,10,38.0,0.0,0.7,1000.0,0.0,143.0,66.0,663.0,53.75,60.01,165.0,0.0,3\\nMt. Spokane Ski and Snowboard Park,Washington,5889,2000,0,0,1,5,1,7,52.0,3.0,0.6,1704.0,0.0,100.0,81.0,300.0,45.0,59.0,103.0,45.0,3\\nStevens Pass Resort,Washington,5845,1800,3,0,4,3,0,10,52.0,4.0,1.0,1125.0,0.0,116.0,82.0,460.0,57.91695652173913,64.16681003584229,145.0,450.0,3\\nThe Summit at Snoqualmie,Washington,3865,1025,3,3,4,10,7,27,112.0,5.0,0.8,1994.0,5.0,120.0,82.0,428.0,85.0,95.0,140.0,541.0,1\\nWhite Pass,Washington,6550,2050,2,1,1,2,2,8,45.0,2.0,2.5,1402.0,30.0,148.0,67.0,400.0,69.0,69.0,144.0,90.0,3\\nCanaan Valley Resort,West Virginia,4280,850,0,1,2,0,1,4,47.0,1.0,1.2,95.0,75.0,115.10394265232976,48.0,160.0,52.0,68.0,93.0,0.0,1\\nSnowshoe Mountain Resort,West Virginia,4848,1500,3,2,6,0,3,14,60.0,5.0,1.5,257.0,257.0,125.0,46.0,180.0,70.0,87.0,138.0,86.0,3\\nTimberline Four Seasons,West Virginia,4265,1000,0,0,2,1,1,4,40.0,1.0,2.0,100.0,100.0,97.0,37.0,150.0,72.0,92.0,115.0,27.0,1\\nWinterplace Ski Resort,West Virginia,3600,603,0,2,3,2,2,9,27.0,2.0,1.2,90.0,90.0,120.0,36.0,100.0,56.0,72.0,120.0,74.0,1\\nAlpine Valley Resort,Wisconsin,1040,388,3,0,3,1,5,12,21.0,3.0,0.2,90.0,90.0,100.0,55.0,80.0,56.0,65.0,120.0,90.0,1\\nBruce Mound,Wisconsin,1375,375,0,0,1,0,4,5,12.0,2.0,0.5,40.0,30.0,42.0,71.0,42.0,33.0,25.0,42.0,30.0,1\\nCascade Mountain,Wisconsin,1280,460,2,2,3,2,3,12,47.0,4.0,1.1,175.0,175.0,120.0,57.0,56.0,59.0,64.0,120.0,0.0,1\\nChristie Mountain,Wisconsin,1650,350,0,0,0,1,5,6,30.0,4.0,0.8,45.0,41.0,92.0,43.0,48.0,28.0,38.0,120.0,35.0,1\\nChristmas Mountain,Wisconsin,1250,250,0,1,0,0,2,3,16.0,0.0,0.4,40.0,40.0,75.0,50.0,20.0,57.91695652173913,64.16681003584229,70.0,40.0,1\\nDevils Head,Wisconsin,995,500,0,3,1,6,2,12,27.0,1.0,1.0,260.0,260.0,110.0,48.0,45.0,45.0,65.0,135.0,200.0,1\\nGrand Geneva,Wisconsin,1086,211,0,0,0,3,3,6,20.0,1.0,0.2,30.0,30.0,90.0,25.0,25.0,28.0,49.0,93.0,30.0,1\\nGranite Peak Ski Area,Wisconsin,1942,700,2,0,2,0,2,7,75.0,4.0,0.6,220.0,160.0,136.0,82.0,75.0,92.0,92.0,135.0,200.0,1\\nLittle Switzerland,Wisconsin,1269,200,0,0,0,4,4,8,18.0,3.0,1.0,50.0,50.0,115.10394265232976,63.65653495440729,185.31645569620247,33.0,41.0,120.0530035335689,50.0,1\\nMount La Crosse,Wisconsin,1110,516,0,0,0,3,1,4,19.0,1.0,0.4,100.0,100.0,115.0,60.0,40.0,56.0,56.0,100.0,90.0,1\\nNordic Mountain,Wisconsin,1137,265,0,0,1,1,5,7,18.0,4.0,1.0,60.0,60.0,68.0,43.0,80.0,57.91695652173913,47.0,90.0,60.0,1\\nSunburst,Wisconsin,1100,214,0,0,0,3,6,9,13.0,4.0,0.5,37.0,37.0,99.0,59.0,50.0,33.0,44.0,115.0,37.0,1\\nTrollhaugen,Wisconsin,1200,260,0,2,0,1,5,8,24.0,4.0,0.5,86.0,86.0,130.0,69.0,50.0,54.0,54.0,120.0,86.0,1\\nTyrol Basin,Wisconsin,1160,300,0,0,3,0,2,5,18.0,5.0,0.5,32.0,32.0,112.0,61.0,41.0,17.0,48.0,103.0,32.0,1\\nWhitecap Mountain,Wisconsin,1750,400,0,1,0,4,0,5,43.0,1.0,1.0,400.0,300.0,105.0,57.0,200.0,60.0,60.0,118.0,0.0,1\\nWilmot Mountain,Wisconsin,1030,230,0,3,2,2,3,10,23.0,2.0,0.5,135.0,135.0,125.0,81.0,70.0,56.0,66.0,139.0,135.0,1\\nGrand Targhee Resort,Wyoming,9920,2270,2,2,0,0,1,5,95.0,1.0,2.7,2602.0,0.0,152.0,50.0,500.0,90.0,90.0,152.0,0.0,0\\nHogadon Basin,Wyoming,8000,640,0,0,0,1,1,2,28.0,1.0,0.6,92.0,32.0,121.0,61.0,80.0,48.0,48.0,95.0,0.0,3\\nJackson Hole,Wyoming,10450,4139,4,4,1,2,1,15,130.0,6.0,4.5,2500.0,195.0,130.0,54.0,459.0,57.91695652173913,64.16681003584229,133.0,0.0,0\\nMeadowlark Ski Lodge,Wyoming,9500,1000,0,0,1,1,1,3,14.0,1.0,1.5,300.0,0.0,115.10394265232976,9.0,185.31645569620247,57.91695652173913,64.16681003584229,120.0530035335689,0.0,3\\nSleeping Giant Ski Resort,Wyoming,7428,810,0,0,1,1,1,3,48.0,1.0,1.0,184.0,18.0,61.0,81.0,310.0,42.0,42.0,77.0,0.0,3\\nSnow King Resort,Wyoming,7808,1571,0,1,1,1,0,3,32.0,2.0,1.0,400.0,250.0,121.0,80.0,300.0,59.0,59.0,123.0,110.0,3\\nSnowy Range Ski & Recreation Area,Wyoming,9663,990,0,0,1,3,1,5,33.0,2.0,0.7,75.0,30.0,131.0,59.0,250.0,49.0,49.0,120.0530035335689,0.0,3\\nWhite Pine Ski Area,Wyoming,9500,1100,0,0,2,0,0,2,25.0,0.0,0.4,370.0,0.0,115.10394265232976,81.0,150.0,57.91695652173913,49.0,120.0530035335689,0.0,3\\n\"}"
            ]
          },
          "metadata": {
            "tags": []
          },
          "execution_count": 3
        }
      ]
    },
    {
      "cell_type": "code",
      "metadata": {
        "id": "V6A1rSH_fWDr",
        "colab_type": "code",
        "colab": {
          "base_uri": "https://localhost:8080/",
          "height": 35
        },
        "outputId": "f9665f0c-d802-4137-c844-63f8e9f7a4db"
      },
      "source": [
        "os.listdir()"
      ],
      "execution_count": 4,
      "outputs": [
        {
          "output_type": "execute_result",
          "data": {
            "text/plain": [
              "['.config', 'figures', 'data', 'models', 'step3_output.csv', 'sample_data']"
            ]
          },
          "metadata": {
            "tags": []
          },
          "execution_count": 4
        }
      ]
    },
    {
      "cell_type": "code",
      "metadata": {
        "id": "lfSDSBtmfZwx",
        "colab_type": "code",
        "colab": {
          "base_uri": "https://localhost:8080/",
          "height": 35
        },
        "outputId": "944010d9-5d9c-4d8d-9768-a9365a34e537"
      },
      "source": [
        "!rm 'step3_output (1).csv'"
      ],
      "execution_count": 5,
      "outputs": [
        {
          "output_type": "stream",
          "text": [
            "rm: cannot remove 'step3_output (1).csv': No such file or directory\n"
          ],
          "name": "stdout"
        }
      ]
    },
    {
      "cell_type": "code",
      "metadata": {
        "id": "K-1VMbpTfd7c",
        "colab_type": "code",
        "colab": {
          "base_uri": "https://localhost:8080/",
          "height": 35
        },
        "outputId": "7934b2d0-23c8-48dc-8edb-4d00843d426a"
      },
      "source": [
        "os.listdir()"
      ],
      "execution_count": 6,
      "outputs": [
        {
          "output_type": "execute_result",
          "data": {
            "text/plain": [
              "['.config', 'figures', 'data', 'models', 'step3_output.csv', 'sample_data']"
            ]
          },
          "metadata": {
            "tags": []
          },
          "execution_count": 6
        }
      ]
    },
    {
      "cell_type": "code",
      "metadata": {
        "id": "NReEj_Dyfysy",
        "colab_type": "code",
        "colab": {
          "base_uri": "https://localhost:8080/",
          "height": 36
        },
        "outputId": "1ede0b5b-0741-43bc-b38a-3b854f948c9d"
      },
      "source": [
        "os.getcwd()"
      ],
      "execution_count": 7,
      "outputs": [
        {
          "output_type": "execute_result",
          "data": {
            "application/vnd.google.colaboratory.intrinsic+json": {
              "type": "string"
            },
            "text/plain": [
              "'/content'"
            ]
          },
          "metadata": {
            "tags": []
          },
          "execution_count": 7
        }
      ]
    },
    {
      "cell_type": "markdown",
      "metadata": {
        "colab_type": "text",
        "id": "630T-ogRZyF8"
      },
      "source": [
        "**<font color='teal'>  Load the csv file you created in step 3, remember it should be saved inside your data subfolder and print the first five rows.</font>**"
      ]
    },
    {
      "cell_type": "code",
      "metadata": {
        "colab_type": "code",
        "id": "dMNbk0u3ZyF9",
        "colab": {
          "base_uri": "https://localhost:8080/",
          "height": 708
        },
        "outputId": "e813b379-ae66-42df-e7c3-d4990418b378"
      },
      "source": [
        "df = pd.read_csv('step3_output.csv', index_col= None)\n",
        "df.describe().T"
      ],
      "execution_count": 8,
      "outputs": [
        {
          "output_type": "execute_result",
          "data": {
            "text/html": [
              "<div>\n",
              "<style scoped>\n",
              "    .dataframe tbody tr th:only-of-type {\n",
              "        vertical-align: middle;\n",
              "    }\n",
              "\n",
              "    .dataframe tbody tr th {\n",
              "        vertical-align: top;\n",
              "    }\n",
              "\n",
              "    .dataframe thead th {\n",
              "        text-align: right;\n",
              "    }\n",
              "</style>\n",
              "<table border=\"1\" class=\"dataframe\">\n",
              "  <thead>\n",
              "    <tr style=\"text-align: right;\">\n",
              "      <th></th>\n",
              "      <th>count</th>\n",
              "      <th>mean</th>\n",
              "      <th>std</th>\n",
              "      <th>min</th>\n",
              "      <th>25%</th>\n",
              "      <th>50%</th>\n",
              "      <th>75%</th>\n",
              "      <th>max</th>\n",
              "    </tr>\n",
              "  </thead>\n",
              "  <tbody>\n",
              "    <tr>\n",
              "      <th>summit_elev</th>\n",
              "      <td>330.0</td>\n",
              "      <td>4591.818182</td>\n",
              "      <td>3735.535934</td>\n",
              "      <td>315.0</td>\n",
              "      <td>1403.75</td>\n",
              "      <td>3127.500000</td>\n",
              "      <td>7806.000000</td>\n",
              "      <td>13487.0</td>\n",
              "    </tr>\n",
              "    <tr>\n",
              "      <th>vertical_drop</th>\n",
              "      <td>330.0</td>\n",
              "      <td>1215.427273</td>\n",
              "      <td>947.864557</td>\n",
              "      <td>60.0</td>\n",
              "      <td>461.25</td>\n",
              "      <td>964.500000</td>\n",
              "      <td>1800.000000</td>\n",
              "      <td>4425.0</td>\n",
              "    </tr>\n",
              "    <tr>\n",
              "      <th>fastQuads</th>\n",
              "      <td>330.0</td>\n",
              "      <td>1.018182</td>\n",
              "      <td>2.198294</td>\n",
              "      <td>0.0</td>\n",
              "      <td>0.00</td>\n",
              "      <td>0.000000</td>\n",
              "      <td>1.000000</td>\n",
              "      <td>15.0</td>\n",
              "    </tr>\n",
              "    <tr>\n",
              "      <th>quad</th>\n",
              "      <td>330.0</td>\n",
              "      <td>0.933333</td>\n",
              "      <td>1.312245</td>\n",
              "      <td>0.0</td>\n",
              "      <td>0.00</td>\n",
              "      <td>0.000000</td>\n",
              "      <td>1.000000</td>\n",
              "      <td>8.0</td>\n",
              "    </tr>\n",
              "    <tr>\n",
              "      <th>triple</th>\n",
              "      <td>330.0</td>\n",
              "      <td>1.500000</td>\n",
              "      <td>1.619130</td>\n",
              "      <td>0.0</td>\n",
              "      <td>0.00</td>\n",
              "      <td>1.000000</td>\n",
              "      <td>2.000000</td>\n",
              "      <td>8.0</td>\n",
              "    </tr>\n",
              "    <tr>\n",
              "      <th>double</th>\n",
              "      <td>330.0</td>\n",
              "      <td>1.833333</td>\n",
              "      <td>1.815028</td>\n",
              "      <td>0.0</td>\n",
              "      <td>1.00</td>\n",
              "      <td>1.000000</td>\n",
              "      <td>3.000000</td>\n",
              "      <td>14.0</td>\n",
              "    </tr>\n",
              "    <tr>\n",
              "      <th>surface</th>\n",
              "      <td>330.0</td>\n",
              "      <td>2.621212</td>\n",
              "      <td>2.059636</td>\n",
              "      <td>0.0</td>\n",
              "      <td>1.00</td>\n",
              "      <td>2.000000</td>\n",
              "      <td>3.000000</td>\n",
              "      <td>15.0</td>\n",
              "    </tr>\n",
              "    <tr>\n",
              "      <th>total_chairs</th>\n",
              "      <td>330.0</td>\n",
              "      <td>8.266667</td>\n",
              "      <td>5.798683</td>\n",
              "      <td>0.0</td>\n",
              "      <td>5.00</td>\n",
              "      <td>7.000000</td>\n",
              "      <td>10.000000</td>\n",
              "      <td>41.0</td>\n",
              "    </tr>\n",
              "    <tr>\n",
              "      <th>Runs</th>\n",
              "      <td>330.0</td>\n",
              "      <td>48.214724</td>\n",
              "      <td>46.081366</td>\n",
              "      <td>3.0</td>\n",
              "      <td>19.00</td>\n",
              "      <td>34.000000</td>\n",
              "      <td>60.000000</td>\n",
              "      <td>341.0</td>\n",
              "    </tr>\n",
              "    <tr>\n",
              "      <th>TerrainParks</th>\n",
              "      <td>330.0</td>\n",
              "      <td>2.384848</td>\n",
              "      <td>2.109556</td>\n",
              "      <td>0.0</td>\n",
              "      <td>1.00</td>\n",
              "      <td>2.000000</td>\n",
              "      <td>3.000000</td>\n",
              "      <td>14.0</td>\n",
              "    </tr>\n",
              "    <tr>\n",
              "      <th>LongestRun_mi</th>\n",
              "      <td>330.0</td>\n",
              "      <td>1.433231</td>\n",
              "      <td>1.147352</td>\n",
              "      <td>0.0</td>\n",
              "      <td>0.60</td>\n",
              "      <td>1.000000</td>\n",
              "      <td>2.000000</td>\n",
              "      <td>6.0</td>\n",
              "    </tr>\n",
              "    <tr>\n",
              "      <th>SkiableTerrain_ac</th>\n",
              "      <td>330.0</td>\n",
              "      <td>739.801223</td>\n",
              "      <td>1807.868079</td>\n",
              "      <td>8.0</td>\n",
              "      <td>85.00</td>\n",
              "      <td>200.000000</td>\n",
              "      <td>739.801223</td>\n",
              "      <td>26819.0</td>\n",
              "    </tr>\n",
              "    <tr>\n",
              "      <th>Snow Making_ac</th>\n",
              "      <td>330.0</td>\n",
              "      <td>150.496970</td>\n",
              "      <td>249.854380</td>\n",
              "      <td>0.0</td>\n",
              "      <td>30.00</td>\n",
              "      <td>86.000000</td>\n",
              "      <td>192.000000</td>\n",
              "      <td>3379.0</td>\n",
              "    </tr>\n",
              "    <tr>\n",
              "      <th>daysOpenLastYear</th>\n",
              "      <td>330.0</td>\n",
              "      <td>115.103943</td>\n",
              "      <td>32.231212</td>\n",
              "      <td>3.0</td>\n",
              "      <td>100.00</td>\n",
              "      <td>115.103943</td>\n",
              "      <td>130.000000</td>\n",
              "      <td>305.0</td>\n",
              "    </tr>\n",
              "    <tr>\n",
              "      <th>yearsOpen</th>\n",
              "      <td>330.0</td>\n",
              "      <td>63.656535</td>\n",
              "      <td>109.263494</td>\n",
              "      <td>6.0</td>\n",
              "      <td>50.00</td>\n",
              "      <td>58.000000</td>\n",
              "      <td>68.750000</td>\n",
              "      <td>2019.0</td>\n",
              "    </tr>\n",
              "    <tr>\n",
              "      <th>averageSnowfall</th>\n",
              "      <td>330.0</td>\n",
              "      <td>185.316456</td>\n",
              "      <td>133.424094</td>\n",
              "      <td>18.0</td>\n",
              "      <td>71.25</td>\n",
              "      <td>158.000000</td>\n",
              "      <td>278.750000</td>\n",
              "      <td>669.0</td>\n",
              "    </tr>\n",
              "    <tr>\n",
              "      <th>AdultWeekday</th>\n",
              "      <td>330.0</td>\n",
              "      <td>57.916957</td>\n",
              "      <td>23.898798</td>\n",
              "      <td>15.0</td>\n",
              "      <td>43.00</td>\n",
              "      <td>57.916957</td>\n",
              "      <td>67.000000</td>\n",
              "      <td>179.0</td>\n",
              "    </tr>\n",
              "    <tr>\n",
              "      <th>AdultWeekend</th>\n",
              "      <td>330.0</td>\n",
              "      <td>64.166810</td>\n",
              "      <td>22.571324</td>\n",
              "      <td>17.0</td>\n",
              "      <td>49.00</td>\n",
              "      <td>64.166810</td>\n",
              "      <td>72.000000</td>\n",
              "      <td>179.0</td>\n",
              "    </tr>\n",
              "    <tr>\n",
              "      <th>projectedDaysOpen</th>\n",
              "      <td>330.0</td>\n",
              "      <td>120.053004</td>\n",
              "      <td>28.742976</td>\n",
              "      <td>30.0</td>\n",
              "      <td>101.25</td>\n",
              "      <td>120.053004</td>\n",
              "      <td>136.000000</td>\n",
              "      <td>305.0</td>\n",
              "    </tr>\n",
              "    <tr>\n",
              "      <th>NightSkiing_ac</th>\n",
              "      <td>330.0</td>\n",
              "      <td>56.890909</td>\n",
              "      <td>93.464882</td>\n",
              "      <td>0.0</td>\n",
              "      <td>0.00</td>\n",
              "      <td>27.000000</td>\n",
              "      <td>83.750000</td>\n",
              "      <td>650.0</td>\n",
              "    </tr>\n",
              "    <tr>\n",
              "      <th>clusters</th>\n",
              "      <td>330.0</td>\n",
              "      <td>1.306061</td>\n",
              "      <td>1.004682</td>\n",
              "      <td>0.0</td>\n",
              "      <td>1.00</td>\n",
              "      <td>1.000000</td>\n",
              "      <td>1.000000</td>\n",
              "      <td>3.0</td>\n",
              "    </tr>\n",
              "  </tbody>\n",
              "</table>\n",
              "</div>"
            ],
            "text/plain": [
              "                   count         mean  ...          75%      max\n",
              "summit_elev        330.0  4591.818182  ...  7806.000000  13487.0\n",
              "vertical_drop      330.0  1215.427273  ...  1800.000000   4425.0\n",
              "fastQuads          330.0     1.018182  ...     1.000000     15.0\n",
              "quad               330.0     0.933333  ...     1.000000      8.0\n",
              "triple             330.0     1.500000  ...     2.000000      8.0\n",
              "double             330.0     1.833333  ...     3.000000     14.0\n",
              "surface            330.0     2.621212  ...     3.000000     15.0\n",
              "total_chairs       330.0     8.266667  ...    10.000000     41.0\n",
              "Runs               330.0    48.214724  ...    60.000000    341.0\n",
              "TerrainParks       330.0     2.384848  ...     3.000000     14.0\n",
              "LongestRun_mi      330.0     1.433231  ...     2.000000      6.0\n",
              "SkiableTerrain_ac  330.0   739.801223  ...   739.801223  26819.0\n",
              "Snow Making_ac     330.0   150.496970  ...   192.000000   3379.0\n",
              "daysOpenLastYear   330.0   115.103943  ...   130.000000    305.0\n",
              "yearsOpen          330.0    63.656535  ...    68.750000   2019.0\n",
              "averageSnowfall    330.0   185.316456  ...   278.750000    669.0\n",
              "AdultWeekday       330.0    57.916957  ...    67.000000    179.0\n",
              "AdultWeekend       330.0    64.166810  ...    72.000000    179.0\n",
              "projectedDaysOpen  330.0   120.053004  ...   136.000000    305.0\n",
              "NightSkiing_ac     330.0    56.890909  ...    83.750000    650.0\n",
              "clusters           330.0     1.306061  ...     1.000000      3.0\n",
              "\n",
              "[21 rows x 8 columns]"
            ]
          },
          "metadata": {
            "tags": []
          },
          "execution_count": 8
        }
      ]
    },
    {
      "cell_type": "code",
      "metadata": {
        "id": "nTFobVi-VUbg",
        "colab_type": "code",
        "colab": {
          "base_uri": "https://localhost:8080/",
          "height": 35
        },
        "outputId": "e3a14a62-21bb-458e-ebc8-4b55dc4e2e18"
      },
      "source": [
        "df.shape"
      ],
      "execution_count": 9,
      "outputs": [
        {
          "output_type": "execute_result",
          "data": {
            "text/plain": [
              "(330, 23)"
            ]
          },
          "metadata": {
            "tags": []
          },
          "execution_count": 9
        }
      ]
    },
    {
      "cell_type": "code",
      "metadata": {
        "id": "m1KFjL3Wq2Q7",
        "colab_type": "code",
        "colab": {
          "base_uri": "https://localhost:8080/",
          "height": 348
        },
        "outputId": "ae26c919-ff98-4fb5-9dab-eecc3188078a"
      },
      "source": [
        "df.head()"
      ],
      "execution_count": 10,
      "outputs": [
        {
          "output_type": "execute_result",
          "data": {
            "text/html": [
              "<div>\n",
              "<style scoped>\n",
              "    .dataframe tbody tr th:only-of-type {\n",
              "        vertical-align: middle;\n",
              "    }\n",
              "\n",
              "    .dataframe tbody tr th {\n",
              "        vertical-align: top;\n",
              "    }\n",
              "\n",
              "    .dataframe thead th {\n",
              "        text-align: right;\n",
              "    }\n",
              "</style>\n",
              "<table border=\"1\" class=\"dataframe\">\n",
              "  <thead>\n",
              "    <tr style=\"text-align: right;\">\n",
              "      <th></th>\n",
              "      <th>Name</th>\n",
              "      <th>state</th>\n",
              "      <th>summit_elev</th>\n",
              "      <th>vertical_drop</th>\n",
              "      <th>fastQuads</th>\n",
              "      <th>quad</th>\n",
              "      <th>triple</th>\n",
              "      <th>double</th>\n",
              "      <th>surface</th>\n",
              "      <th>total_chairs</th>\n",
              "      <th>Runs</th>\n",
              "      <th>TerrainParks</th>\n",
              "      <th>LongestRun_mi</th>\n",
              "      <th>SkiableTerrain_ac</th>\n",
              "      <th>Snow Making_ac</th>\n",
              "      <th>daysOpenLastYear</th>\n",
              "      <th>yearsOpen</th>\n",
              "      <th>averageSnowfall</th>\n",
              "      <th>AdultWeekday</th>\n",
              "      <th>AdultWeekend</th>\n",
              "      <th>projectedDaysOpen</th>\n",
              "      <th>NightSkiing_ac</th>\n",
              "      <th>clusters</th>\n",
              "    </tr>\n",
              "  </thead>\n",
              "  <tbody>\n",
              "    <tr>\n",
              "      <th>0</th>\n",
              "      <td>Alyeska Resort</td>\n",
              "      <td>Alaska</td>\n",
              "      <td>3939</td>\n",
              "      <td>2500</td>\n",
              "      <td>2</td>\n",
              "      <td>2</td>\n",
              "      <td>0</td>\n",
              "      <td>0</td>\n",
              "      <td>2</td>\n",
              "      <td>7</td>\n",
              "      <td>76.0</td>\n",
              "      <td>2.0</td>\n",
              "      <td>1.0</td>\n",
              "      <td>1610.0</td>\n",
              "      <td>113.0</td>\n",
              "      <td>150.0</td>\n",
              "      <td>60.0</td>\n",
              "      <td>669.0</td>\n",
              "      <td>65.0</td>\n",
              "      <td>85.0</td>\n",
              "      <td>150.0</td>\n",
              "      <td>550.0</td>\n",
              "      <td>1</td>\n",
              "    </tr>\n",
              "    <tr>\n",
              "      <th>1</th>\n",
              "      <td>Eaglecrest Ski Area</td>\n",
              "      <td>Alaska</td>\n",
              "      <td>2600</td>\n",
              "      <td>1540</td>\n",
              "      <td>0</td>\n",
              "      <td>0</td>\n",
              "      <td>0</td>\n",
              "      <td>4</td>\n",
              "      <td>0</td>\n",
              "      <td>4</td>\n",
              "      <td>36.0</td>\n",
              "      <td>1.0</td>\n",
              "      <td>2.0</td>\n",
              "      <td>640.0</td>\n",
              "      <td>60.0</td>\n",
              "      <td>45.0</td>\n",
              "      <td>44.0</td>\n",
              "      <td>350.0</td>\n",
              "      <td>47.0</td>\n",
              "      <td>53.0</td>\n",
              "      <td>90.0</td>\n",
              "      <td>0.0</td>\n",
              "      <td>1</td>\n",
              "    </tr>\n",
              "    <tr>\n",
              "      <th>2</th>\n",
              "      <td>Hilltop Ski Area</td>\n",
              "      <td>Alaska</td>\n",
              "      <td>2090</td>\n",
              "      <td>294</td>\n",
              "      <td>0</td>\n",
              "      <td>0</td>\n",
              "      <td>1</td>\n",
              "      <td>0</td>\n",
              "      <td>2</td>\n",
              "      <td>3</td>\n",
              "      <td>13.0</td>\n",
              "      <td>1.0</td>\n",
              "      <td>1.0</td>\n",
              "      <td>30.0</td>\n",
              "      <td>30.0</td>\n",
              "      <td>150.0</td>\n",
              "      <td>36.0</td>\n",
              "      <td>69.0</td>\n",
              "      <td>30.0</td>\n",
              "      <td>34.0</td>\n",
              "      <td>152.0</td>\n",
              "      <td>30.0</td>\n",
              "      <td>1</td>\n",
              "    </tr>\n",
              "    <tr>\n",
              "      <th>3</th>\n",
              "      <td>Arizona Snowbowl</td>\n",
              "      <td>Arizona</td>\n",
              "      <td>11500</td>\n",
              "      <td>2300</td>\n",
              "      <td>0</td>\n",
              "      <td>2</td>\n",
              "      <td>2</td>\n",
              "      <td>1</td>\n",
              "      <td>2</td>\n",
              "      <td>8</td>\n",
              "      <td>55.0</td>\n",
              "      <td>4.0</td>\n",
              "      <td>2.0</td>\n",
              "      <td>777.0</td>\n",
              "      <td>104.0</td>\n",
              "      <td>122.0</td>\n",
              "      <td>81.0</td>\n",
              "      <td>260.0</td>\n",
              "      <td>89.0</td>\n",
              "      <td>89.0</td>\n",
              "      <td>122.0</td>\n",
              "      <td>0.0</td>\n",
              "      <td>0</td>\n",
              "    </tr>\n",
              "    <tr>\n",
              "      <th>4</th>\n",
              "      <td>Sunrise Park Resort</td>\n",
              "      <td>Arizona</td>\n",
              "      <td>11100</td>\n",
              "      <td>1800</td>\n",
              "      <td>1</td>\n",
              "      <td>2</td>\n",
              "      <td>3</td>\n",
              "      <td>1</td>\n",
              "      <td>0</td>\n",
              "      <td>7</td>\n",
              "      <td>65.0</td>\n",
              "      <td>2.0</td>\n",
              "      <td>1.2</td>\n",
              "      <td>800.0</td>\n",
              "      <td>80.0</td>\n",
              "      <td>115.0</td>\n",
              "      <td>49.0</td>\n",
              "      <td>250.0</td>\n",
              "      <td>74.0</td>\n",
              "      <td>78.0</td>\n",
              "      <td>104.0</td>\n",
              "      <td>80.0</td>\n",
              "      <td>0</td>\n",
              "    </tr>\n",
              "  </tbody>\n",
              "</table>\n",
              "</div>"
            ],
            "text/plain": [
              "                  Name    state  ...  NightSkiing_ac  clusters\n",
              "0       Alyeska Resort   Alaska  ...           550.0         1\n",
              "1  Eaglecrest Ski Area   Alaska  ...             0.0         1\n",
              "2     Hilltop Ski Area   Alaska  ...            30.0         1\n",
              "3     Arizona Snowbowl  Arizona  ...             0.0         0\n",
              "4  Sunrise Park Resort  Arizona  ...            80.0         0\n",
              "\n",
              "[5 rows x 23 columns]"
            ]
          },
          "metadata": {
            "tags": []
          },
          "execution_count": 10
        }
      ]
    },
    {
      "cell_type": "markdown",
      "metadata": {
        "colab_type": "text",
        "id": "zkBHf9smZyGB"
      },
      "source": [
        "## Create dummy features for categorical variables"
      ]
    },
    {
      "cell_type": "markdown",
      "metadata": {
        "colab_type": "text",
        "id": "vWKHm0NhAnrJ"
      },
      "source": [
        "**<font color='teal'> Create dummy variables for `state`. Add the dummies back to the dataframe and remove the original column for `state`. </font>**\n",
        "\n",
        "Hint: you can see an example of how to execute this in Aiden's article on preprocessing [here](https://medium.com/@aiden.dataminer/the-data-science-method-dsm-pre-processing-and-training-data-development-fd2d75182967). "
      ]
    },
    {
      "cell_type": "code",
      "metadata": {
        "colab_type": "code",
        "id": "lZqWk8ltZyGZ",
        "colab": {
          "base_uri": "https://localhost:8080/",
          "height": 348
        },
        "outputId": "c843b227-be0b-4025-c47f-0e7241bd371d"
      },
      "source": [
        "# select object type columns\n",
        "df = pd.concat([df.drop('state', axis=1), pd.get_dummies(df['state'])], axis=1)\n",
        "df.head()"
      ],
      "execution_count": 11,
      "outputs": [
        {
          "output_type": "execute_result",
          "data": {
            "text/html": [
              "<div>\n",
              "<style scoped>\n",
              "    .dataframe tbody tr th:only-of-type {\n",
              "        vertical-align: middle;\n",
              "    }\n",
              "\n",
              "    .dataframe tbody tr th {\n",
              "        vertical-align: top;\n",
              "    }\n",
              "\n",
              "    .dataframe thead th {\n",
              "        text-align: right;\n",
              "    }\n",
              "</style>\n",
              "<table border=\"1\" class=\"dataframe\">\n",
              "  <thead>\n",
              "    <tr style=\"text-align: right;\">\n",
              "      <th></th>\n",
              "      <th>Name</th>\n",
              "      <th>summit_elev</th>\n",
              "      <th>vertical_drop</th>\n",
              "      <th>fastQuads</th>\n",
              "      <th>quad</th>\n",
              "      <th>triple</th>\n",
              "      <th>double</th>\n",
              "      <th>surface</th>\n",
              "      <th>total_chairs</th>\n",
              "      <th>Runs</th>\n",
              "      <th>TerrainParks</th>\n",
              "      <th>LongestRun_mi</th>\n",
              "      <th>SkiableTerrain_ac</th>\n",
              "      <th>Snow Making_ac</th>\n",
              "      <th>daysOpenLastYear</th>\n",
              "      <th>yearsOpen</th>\n",
              "      <th>averageSnowfall</th>\n",
              "      <th>AdultWeekday</th>\n",
              "      <th>AdultWeekend</th>\n",
              "      <th>projectedDaysOpen</th>\n",
              "      <th>NightSkiing_ac</th>\n",
              "      <th>clusters</th>\n",
              "      <th>Alaska</th>\n",
              "      <th>Arizona</th>\n",
              "      <th>California</th>\n",
              "      <th>Colorado</th>\n",
              "      <th>Connecticut</th>\n",
              "      <th>Idaho</th>\n",
              "      <th>Illinois</th>\n",
              "      <th>Indiana</th>\n",
              "      <th>Iowa</th>\n",
              "      <th>Maine</th>\n",
              "      <th>Maryland</th>\n",
              "      <th>Massachusetts</th>\n",
              "      <th>Michigan</th>\n",
              "      <th>Minnesota</th>\n",
              "      <th>Missouri</th>\n",
              "      <th>Montana</th>\n",
              "      <th>Nevada</th>\n",
              "      <th>New Hampshire</th>\n",
              "      <th>New Jersey</th>\n",
              "      <th>New Mexico</th>\n",
              "      <th>New York</th>\n",
              "      <th>North Carolina</th>\n",
              "      <th>Ohio</th>\n",
              "      <th>Oregon</th>\n",
              "      <th>Pennsylvania</th>\n",
              "      <th>Rhode Island</th>\n",
              "      <th>South Dakota</th>\n",
              "      <th>Tennessee</th>\n",
              "      <th>Utah</th>\n",
              "      <th>Vermont</th>\n",
              "      <th>Virginia</th>\n",
              "      <th>Washington</th>\n",
              "      <th>West Virginia</th>\n",
              "      <th>Wisconsin</th>\n",
              "      <th>Wyoming</th>\n",
              "    </tr>\n",
              "  </thead>\n",
              "  <tbody>\n",
              "    <tr>\n",
              "      <th>0</th>\n",
              "      <td>Alyeska Resort</td>\n",
              "      <td>3939</td>\n",
              "      <td>2500</td>\n",
              "      <td>2</td>\n",
              "      <td>2</td>\n",
              "      <td>0</td>\n",
              "      <td>0</td>\n",
              "      <td>2</td>\n",
              "      <td>7</td>\n",
              "      <td>76.0</td>\n",
              "      <td>2.0</td>\n",
              "      <td>1.0</td>\n",
              "      <td>1610.0</td>\n",
              "      <td>113.0</td>\n",
              "      <td>150.0</td>\n",
              "      <td>60.0</td>\n",
              "      <td>669.0</td>\n",
              "      <td>65.0</td>\n",
              "      <td>85.0</td>\n",
              "      <td>150.0</td>\n",
              "      <td>550.0</td>\n",
              "      <td>1</td>\n",
              "      <td>1</td>\n",
              "      <td>0</td>\n",
              "      <td>0</td>\n",
              "      <td>0</td>\n",
              "      <td>0</td>\n",
              "      <td>0</td>\n",
              "      <td>0</td>\n",
              "      <td>0</td>\n",
              "      <td>0</td>\n",
              "      <td>0</td>\n",
              "      <td>0</td>\n",
              "      <td>0</td>\n",
              "      <td>0</td>\n",
              "      <td>0</td>\n",
              "      <td>0</td>\n",
              "      <td>0</td>\n",
              "      <td>0</td>\n",
              "      <td>0</td>\n",
              "      <td>0</td>\n",
              "      <td>0</td>\n",
              "      <td>0</td>\n",
              "      <td>0</td>\n",
              "      <td>0</td>\n",
              "      <td>0</td>\n",
              "      <td>0</td>\n",
              "      <td>0</td>\n",
              "      <td>0</td>\n",
              "      <td>0</td>\n",
              "      <td>0</td>\n",
              "      <td>0</td>\n",
              "      <td>0</td>\n",
              "      <td>0</td>\n",
              "      <td>0</td>\n",
              "      <td>0</td>\n",
              "      <td>0</td>\n",
              "    </tr>\n",
              "    <tr>\n",
              "      <th>1</th>\n",
              "      <td>Eaglecrest Ski Area</td>\n",
              "      <td>2600</td>\n",
              "      <td>1540</td>\n",
              "      <td>0</td>\n",
              "      <td>0</td>\n",
              "      <td>0</td>\n",
              "      <td>4</td>\n",
              "      <td>0</td>\n",
              "      <td>4</td>\n",
              "      <td>36.0</td>\n",
              "      <td>1.0</td>\n",
              "      <td>2.0</td>\n",
              "      <td>640.0</td>\n",
              "      <td>60.0</td>\n",
              "      <td>45.0</td>\n",
              "      <td>44.0</td>\n",
              "      <td>350.0</td>\n",
              "      <td>47.0</td>\n",
              "      <td>53.0</td>\n",
              "      <td>90.0</td>\n",
              "      <td>0.0</td>\n",
              "      <td>1</td>\n",
              "      <td>1</td>\n",
              "      <td>0</td>\n",
              "      <td>0</td>\n",
              "      <td>0</td>\n",
              "      <td>0</td>\n",
              "      <td>0</td>\n",
              "      <td>0</td>\n",
              "      <td>0</td>\n",
              "      <td>0</td>\n",
              "      <td>0</td>\n",
              "      <td>0</td>\n",
              "      <td>0</td>\n",
              "      <td>0</td>\n",
              "      <td>0</td>\n",
              "      <td>0</td>\n",
              "      <td>0</td>\n",
              "      <td>0</td>\n",
              "      <td>0</td>\n",
              "      <td>0</td>\n",
              "      <td>0</td>\n",
              "      <td>0</td>\n",
              "      <td>0</td>\n",
              "      <td>0</td>\n",
              "      <td>0</td>\n",
              "      <td>0</td>\n",
              "      <td>0</td>\n",
              "      <td>0</td>\n",
              "      <td>0</td>\n",
              "      <td>0</td>\n",
              "      <td>0</td>\n",
              "      <td>0</td>\n",
              "      <td>0</td>\n",
              "      <td>0</td>\n",
              "      <td>0</td>\n",
              "      <td>0</td>\n",
              "    </tr>\n",
              "    <tr>\n",
              "      <th>2</th>\n",
              "      <td>Hilltop Ski Area</td>\n",
              "      <td>2090</td>\n",
              "      <td>294</td>\n",
              "      <td>0</td>\n",
              "      <td>0</td>\n",
              "      <td>1</td>\n",
              "      <td>0</td>\n",
              "      <td>2</td>\n",
              "      <td>3</td>\n",
              "      <td>13.0</td>\n",
              "      <td>1.0</td>\n",
              "      <td>1.0</td>\n",
              "      <td>30.0</td>\n",
              "      <td>30.0</td>\n",
              "      <td>150.0</td>\n",
              "      <td>36.0</td>\n",
              "      <td>69.0</td>\n",
              "      <td>30.0</td>\n",
              "      <td>34.0</td>\n",
              "      <td>152.0</td>\n",
              "      <td>30.0</td>\n",
              "      <td>1</td>\n",
              "      <td>1</td>\n",
              "      <td>0</td>\n",
              "      <td>0</td>\n",
              "      <td>0</td>\n",
              "      <td>0</td>\n",
              "      <td>0</td>\n",
              "      <td>0</td>\n",
              "      <td>0</td>\n",
              "      <td>0</td>\n",
              "      <td>0</td>\n",
              "      <td>0</td>\n",
              "      <td>0</td>\n",
              "      <td>0</td>\n",
              "      <td>0</td>\n",
              "      <td>0</td>\n",
              "      <td>0</td>\n",
              "      <td>0</td>\n",
              "      <td>0</td>\n",
              "      <td>0</td>\n",
              "      <td>0</td>\n",
              "      <td>0</td>\n",
              "      <td>0</td>\n",
              "      <td>0</td>\n",
              "      <td>0</td>\n",
              "      <td>0</td>\n",
              "      <td>0</td>\n",
              "      <td>0</td>\n",
              "      <td>0</td>\n",
              "      <td>0</td>\n",
              "      <td>0</td>\n",
              "      <td>0</td>\n",
              "      <td>0</td>\n",
              "      <td>0</td>\n",
              "      <td>0</td>\n",
              "      <td>0</td>\n",
              "    </tr>\n",
              "    <tr>\n",
              "      <th>3</th>\n",
              "      <td>Arizona Snowbowl</td>\n",
              "      <td>11500</td>\n",
              "      <td>2300</td>\n",
              "      <td>0</td>\n",
              "      <td>2</td>\n",
              "      <td>2</td>\n",
              "      <td>1</td>\n",
              "      <td>2</td>\n",
              "      <td>8</td>\n",
              "      <td>55.0</td>\n",
              "      <td>4.0</td>\n",
              "      <td>2.0</td>\n",
              "      <td>777.0</td>\n",
              "      <td>104.0</td>\n",
              "      <td>122.0</td>\n",
              "      <td>81.0</td>\n",
              "      <td>260.0</td>\n",
              "      <td>89.0</td>\n",
              "      <td>89.0</td>\n",
              "      <td>122.0</td>\n",
              "      <td>0.0</td>\n",
              "      <td>0</td>\n",
              "      <td>0</td>\n",
              "      <td>1</td>\n",
              "      <td>0</td>\n",
              "      <td>0</td>\n",
              "      <td>0</td>\n",
              "      <td>0</td>\n",
              "      <td>0</td>\n",
              "      <td>0</td>\n",
              "      <td>0</td>\n",
              "      <td>0</td>\n",
              "      <td>0</td>\n",
              "      <td>0</td>\n",
              "      <td>0</td>\n",
              "      <td>0</td>\n",
              "      <td>0</td>\n",
              "      <td>0</td>\n",
              "      <td>0</td>\n",
              "      <td>0</td>\n",
              "      <td>0</td>\n",
              "      <td>0</td>\n",
              "      <td>0</td>\n",
              "      <td>0</td>\n",
              "      <td>0</td>\n",
              "      <td>0</td>\n",
              "      <td>0</td>\n",
              "      <td>0</td>\n",
              "      <td>0</td>\n",
              "      <td>0</td>\n",
              "      <td>0</td>\n",
              "      <td>0</td>\n",
              "      <td>0</td>\n",
              "      <td>0</td>\n",
              "      <td>0</td>\n",
              "      <td>0</td>\n",
              "      <td>0</td>\n",
              "    </tr>\n",
              "    <tr>\n",
              "      <th>4</th>\n",
              "      <td>Sunrise Park Resort</td>\n",
              "      <td>11100</td>\n",
              "      <td>1800</td>\n",
              "      <td>1</td>\n",
              "      <td>2</td>\n",
              "      <td>3</td>\n",
              "      <td>1</td>\n",
              "      <td>0</td>\n",
              "      <td>7</td>\n",
              "      <td>65.0</td>\n",
              "      <td>2.0</td>\n",
              "      <td>1.2</td>\n",
              "      <td>800.0</td>\n",
              "      <td>80.0</td>\n",
              "      <td>115.0</td>\n",
              "      <td>49.0</td>\n",
              "      <td>250.0</td>\n",
              "      <td>74.0</td>\n",
              "      <td>78.0</td>\n",
              "      <td>104.0</td>\n",
              "      <td>80.0</td>\n",
              "      <td>0</td>\n",
              "      <td>0</td>\n",
              "      <td>1</td>\n",
              "      <td>0</td>\n",
              "      <td>0</td>\n",
              "      <td>0</td>\n",
              "      <td>0</td>\n",
              "      <td>0</td>\n",
              "      <td>0</td>\n",
              "      <td>0</td>\n",
              "      <td>0</td>\n",
              "      <td>0</td>\n",
              "      <td>0</td>\n",
              "      <td>0</td>\n",
              "      <td>0</td>\n",
              "      <td>0</td>\n",
              "      <td>0</td>\n",
              "      <td>0</td>\n",
              "      <td>0</td>\n",
              "      <td>0</td>\n",
              "      <td>0</td>\n",
              "      <td>0</td>\n",
              "      <td>0</td>\n",
              "      <td>0</td>\n",
              "      <td>0</td>\n",
              "      <td>0</td>\n",
              "      <td>0</td>\n",
              "      <td>0</td>\n",
              "      <td>0</td>\n",
              "      <td>0</td>\n",
              "      <td>0</td>\n",
              "      <td>0</td>\n",
              "      <td>0</td>\n",
              "      <td>0</td>\n",
              "      <td>0</td>\n",
              "      <td>0</td>\n",
              "    </tr>\n",
              "  </tbody>\n",
              "</table>\n",
              "</div>"
            ],
            "text/plain": [
              "                  Name  summit_elev  ...  Wisconsin  Wyoming\n",
              "0       Alyeska Resort         3939  ...          0        0\n",
              "1  Eaglecrest Ski Area         2600  ...          0        0\n",
              "2     Hilltop Ski Area         2090  ...          0        0\n",
              "3     Arizona Snowbowl        11500  ...          0        0\n",
              "4  Sunrise Park Resort        11100  ...          0        0\n",
              "\n",
              "[5 rows x 57 columns]"
            ]
          },
          "metadata": {
            "tags": []
          },
          "execution_count": 11
        }
      ]
    },
    {
      "cell_type": "markdown",
      "metadata": {
        "colab_type": "text",
        "id": "HnDVhE1-ZyGF"
      },
      "source": [
        "## Standardize the magnitude of numeric features\n",
        "**<font color='teal'> Using sklearn preprocessing standardize the scale of the features of the dataframe except the name of the resort which we done't need in the dataframe for modeling, so it can be droppped here as well. Also, we want to hold out our response variable(s) so we can have their true values available for model performance review. Let's set `AdultWeekend` to the y variable as our response for scaling and modeling. Later we will go back and consider the `AdultWeekday`, `dayOpenLastYear`, and `projectedDaysOpen`. For now leave them in the development dataframe. </font>**"
      ]
    },
    {
      "cell_type": "code",
      "metadata": {
        "colab_type": "code",
        "id": "IZL-q-KtAYI6",
        "colab": {
          "base_uri": "https://localhost:8080/",
          "height": 274
        },
        "outputId": "73f57aa8-9ea2-44f4-f3cb-e4699656984f"
      },
      "source": [
        "# first we import the preprocessing package from the sklearn library\n",
        "from sklearn import preprocessing\n",
        "\n",
        "# Declare an explanatory variable, called x,and assign it the result of dropping 'Name' and 'AdultWeekend' from the df\n",
        "x = df.drop(['Name','AdultWeekend'], axis=1)\n",
        "print(x)\n",
        "\n",
        "# Declare a response variable, called y, and assign it the AdultWeekend column of the df \n",
        "y = df['AdultWeekend']\n",
        "\n",
        "# Here we use the StandardScaler() method of the preprocessing package, and then call the fit() method with parameter x \n",
        "scaler = preprocessing.StandardScaler().fit(x)\n",
        "\n",
        "# Declare a variable called X_scaled, and assign it the result of calling the transform() method with parameter x \n",
        "x_scaled=scaler.transform(x)"
      ],
      "execution_count": 12,
      "outputs": [
        {
          "output_type": "stream",
          "text": [
            "     summit_elev  vertical_drop  fastQuads  ...  West Virginia  Wisconsin  Wyoming\n",
            "0           3939           2500          2  ...              0          0        0\n",
            "1           2600           1540          0  ...              0          0        0\n",
            "2           2090            294          0  ...              0          0        0\n",
            "3          11500           2300          0  ...              0          0        0\n",
            "4          11100           1800          1  ...              0          0        0\n",
            "..           ...            ...        ...  ...            ...        ...      ...\n",
            "325         9500           1000          0  ...              0          0        1\n",
            "326         7428            810          0  ...              0          0        1\n",
            "327         7808           1571          0  ...              0          0        1\n",
            "328         9663            990          0  ...              0          0        1\n",
            "329         9500           1100          0  ...              0          0        1\n",
            "\n",
            "[330 rows x 55 columns]\n"
          ],
          "name": "stdout"
        }
      ]
    },
    {
      "cell_type": "markdown",
      "metadata": {
        "colab_type": "text",
        "id": "GAT8h4_mZyGK"
      },
      "source": [
        "## Split into training and testing datasets"
      ]
    },
    {
      "cell_type": "markdown",
      "metadata": {
        "colab_type": "text",
        "id": "6rdS8EGeAnrW"
      },
      "source": [
        "**<font color='teal'> Using sklearn model selection import train_test_split, and create a 75/25 split with the y = `AdultWeekend`. We will start by using the adult weekend ticket price as our response variable for modeling.</font>**"
      ]
    },
    {
      "cell_type": "code",
      "metadata": {
        "colab_type": "code",
        "id": "BSkPut0gguds",
        "colab": {}
      },
      "source": [
        "# Import the train_test_split function from the sklearn.model_selection utility.  \n",
        "from sklearn.model_selection import train_test_split\n",
        "\n",
        "# Get the 1-dimensional flattened array of our response variable y by calling the ravel() function on y\n",
        "y = y.ravel()\n",
        "# Call the train_test_split() function with the first two parameters set to x_scaled and y \n",
        "# Declare four variables, s_train, s_test, y_train and y_test separated by commas \n",
        "s_train, s_test, y_train, y_test = train_test_split(x_scaled, y, test_size=0.25, random_state=1)"
      ],
      "execution_count": 13,
      "outputs": []
    },
    {
      "cell_type": "code",
      "metadata": {
        "id": "v_fAc3dPyGDl",
        "colab_type": "code",
        "colab": {
          "base_uri": "https://localhost:8080/",
          "height": 1000
        },
        "outputId": "46f7dfc5-10dd-4f89-e619-c932fb23e58d"
      },
      "source": [
        "y"
      ],
      "execution_count": 14,
      "outputs": [
        {
          "output_type": "execute_result",
          "data": {
            "text/plain": [
              "array([ 85.        ,  53.        ,  34.        ,  89.        ,\n",
              "        78.        ,  47.        ,  64.16681004,  64.16681004,\n",
              "        64.16681004,  78.        ,  75.        ,  64.16681004,\n",
              "        64.16681004,  64.16681004, 159.        ,  59.        ,\n",
              "        84.        ,  69.        ,  64.16681004,  64.16681004,\n",
              "        83.        ,  64.16681004,  79.        ,  50.        ,\n",
              "       125.        ,  69.        ,  85.        , 179.        ,\n",
              "        64.16681004,  64.16681004, 158.        ,  64.16681004,\n",
              "        89.        ,  64.16681004,  25.        ,  64.16681004,\n",
              "        79.        ,  89.        ,  71.        ,  79.        ,\n",
              "        56.        ,  84.        ,  64.16681004,  65.        ,\n",
              "       139.        ,  64.16681004,  64.16681004,  72.        ,\n",
              "        65.        ,  60.        ,  55.        ,  62.        ,\n",
              "        42.        ,  64.        ,  70.        ,  42.        ,\n",
              "        47.        ,  32.        ,  47.        ,  64.16681004,\n",
              "        81.        ,  62.        ,  43.        ,  64.16681004,\n",
              "        71.        ,  55.        ,  64.16681004,  35.        ,\n",
              "        40.        ,  45.        ,  52.        ,  39.        ,\n",
              "        40.        ,  46.        ,  30.        ,  43.        ,\n",
              "        55.        ,  49.        ,  64.16681004,  32.        ,\n",
              "        75.        ,  99.        , 105.        ,  79.        ,\n",
              "        68.        ,  45.        ,  45.        ,  49.        ,\n",
              "        55.        ,  81.        ,  58.        ,  40.        ,\n",
              "        60.        ,  64.16681004,  71.        ,  47.        ,\n",
              "        35.        ,  69.        ,  48.        ,  65.        ,\n",
              "        98.        ,  64.16681004,  49.        ,  37.        ,\n",
              "        64.        ,  49.        ,  64.16681004,  49.        ,\n",
              "        68.        ,  59.        ,  34.        ,  45.        ,\n",
              "        20.        ,  45.        ,  85.        ,  57.        ,\n",
              "        45.        ,  78.        ,  49.        ,  35.        ,\n",
              "        42.        ,  50.        ,  45.        ,  64.16681004,\n",
              "        60.        ,  45.        ,  47.        ,  44.        ,\n",
              "        37.        ,  17.        ,  58.        ,  35.34      ,\n",
              "        84.        ,  46.        ,  48.        ,  59.        ,\n",
              "        60.        ,  55.        ,  49.        ,  47.        ,\n",
              "        64.16681004,  42.        ,  63.        ,  49.        ,\n",
              "        48.        ,  46.        ,  39.        ,  50.        ,\n",
              "        67.        ,  47.        ,  39.        ,  81.        ,\n",
              "        99.        ,  20.        ,  70.        , 135.        ,\n",
              "        89.        ,  59.        ,  99.        ,  79.        ,\n",
              "        64.16681004,  69.        ,  50.        ,  92.        ,\n",
              "        58.        ,  64.16681004,  93.        ,  72.        ,\n",
              "        84.        ,  93.        ,  45.        ,  89.        ,\n",
              "        64.16681004,  79.99      ,  77.        ,  20.        ,\n",
              "        49.        ,  79.        ,  55.        ,  47.        ,\n",
              "        74.        ,  80.        , 110.        ,  72.        ,\n",
              "        32.        ,  76.        ,  50.        ,  69.        ,\n",
              "        35.        ,  88.        ,  63.2       ,  42.        ,\n",
              "        78.        ,  75.        ,  58.        ,  89.        ,\n",
              "        60.        ,  59.        ,  38.        ,  30.        ,\n",
              "        54.        ,  40.        ,  63.        ,  67.        ,\n",
              "        45.        ,  48.        ,  59.        ,  59.        ,\n",
              "        57.        ,  49.        ,  55.        ,  59.        ,\n",
              "        96.        ,  46.        ,  95.        ,  39.        ,\n",
              "        64.        ,  70.        ,  43.        ,  68.        ,\n",
              "        75.        ,  65.        ,  43.        ,  44.        ,\n",
              "        44.        ,  44.        ,  52.        ,  40.        ,\n",
              "        39.        ,  59.        ,  52.        ,  99.        ,\n",
              "        64.16681004,  70.        ,  64.16681004,  64.16681004,\n",
              "        60.        ,  60.        ,  62.        ,  65.        ,\n",
              "        68.        ,  65.        ,  70.        ,  64.16681004,\n",
              "        69.        ,  65.        ,  77.        ,  33.        ,\n",
              "        73.        ,  87.        ,  65.        ,  44.        ,\n",
              "        64.16681004,  64.16681004,  45.        ,  71.        ,\n",
              "        64.16681004,  45.        ,  58.        ,  65.        ,\n",
              "       116.        ,  50.        ,  59.        ,  85.        ,\n",
              "       169.        ,  60.        ,  64.16681004,  88.        ,\n",
              "       115.        , 125.        , 119.        ,  80.        ,\n",
              "        50.        ,  79.        ,  91.        ,  73.        ,\n",
              "        89.        , 119.        ,  64.16681004,  74.        ,\n",
              "        64.16681004,  64.16681004,  81.        ,  79.        ,\n",
              "        64.16681004,  64.16681004, 119.        ,  75.        ,\n",
              "        68.        ,  64.16681004,  64.16681004,  64.16681004,\n",
              "        62.        ,  64.16681004,  47.        ,  99.        ,\n",
              "        64.16681004,  60.01      ,  59.        ,  64.16681004,\n",
              "        95.        ,  69.        ,  68.        ,  87.        ,\n",
              "        92.        ,  72.        ,  65.        ,  25.        ,\n",
              "        64.        ,  38.        ,  64.16681004,  65.        ,\n",
              "        49.        ,  92.        ,  41.        ,  56.        ,\n",
              "        47.        ,  44.        ,  54.        ,  48.        ,\n",
              "        60.        ,  66.        ,  90.        ,  48.        ,\n",
              "        64.16681004,  64.16681004,  42.        ,  59.        ,\n",
              "        49.        ,  49.        ])"
            ]
          },
          "metadata": {
            "tags": []
          },
          "execution_count": 14
        }
      ]
    },
    {
      "cell_type": "markdown",
      "metadata": {
        "id": "VdGxc0ecaCKW",
        "colab_type": "text"
      },
      "source": [
        ""
      ]
    },
    {
      "cell_type": "markdown",
      "metadata": {
        "colab_type": "text",
        "id": "UayqbwkWAnra"
      },
      "source": [
        "Here we start the actual modeling work. First let's fit a multiple linear regression model to predict the `AdultWeekend` price."
      ]
    },
    {
      "cell_type": "markdown",
      "metadata": {
        "colab_type": "text",
        "id": "83fkLldXFCNd"
      },
      "source": [
        "# Guided Capstone Step 5. Modeling\n"
      ]
    },
    {
      "cell_type": "markdown",
      "metadata": {
        "colab_type": "text",
        "id": "JbZXsVevfr9M"
      },
      "source": [
        "This is the fifth step in the Data Science Method. In the previous steps you cleaned and prepared the datasets. Now it's time to get into the most exciting part: modeling! In this exercise, you'll build three different models and compare each model's performance. In the end, you'll choose the best model for demonstrating insights to Big Mountain management.\n",
        "\n",
        "\n",
        "\n",
        "### **The Data Science Method**  \n",
        "\n",
        "\n",
        "1.   Problem Identification \n",
        "\n",
        "2.   Data Wrangling \n",
        "  \n",
        "3.   Exploratory Data Analysis \n",
        " \n",
        "4.   Pre-processing and Training Data Development\n",
        "\n",
        "5.   **Modeling**\n",
        "  * Fit Models with Training Data Set\n",
        "  * Review Model Outcomes — Iterate over additional models as needed.\n",
        "  * Identify the Final Model\n",
        "\n",
        "6.   Documentation\n",
        "  * Review the Results\n",
        "  * Present and share your findings - storytelling\n",
        "  * Finalize Code \n",
        "  * Finalize Documentation"
      ]
    },
    {
      "cell_type": "markdown",
      "metadata": {
        "colab_type": "text",
        "id": "D_wfsP_-Anra"
      },
      "source": [
        "## Fit Models with a Training Dataset"
      ]
    },
    {
      "cell_type": "markdown",
      "metadata": {
        "colab_type": "text",
        "id": "CoI8S5SwAnrc"
      },
      "source": [
        "**<font color='teal'> Using sklearn, fit the model on your training dataset.</font>**"
      ]
    },
    {
      "cell_type": "markdown",
      "metadata": {
        "colab_type": "text",
        "id": "P_GFr8sRAnrd"
      },
      "source": [
        "# **Model 1**"
      ]
    },
    {
      "cell_type": "code",
      "metadata": {
        "colab_type": "code",
        "id": "fW6K7uOPAnre",
        "colab": {}
      },
      "source": [
        "#all first model set\n",
        "from sklearn import linear_model\n",
        "from sklearn.metrics import explained_variance_score,mean_absolute_error\n",
        "lm = linear_model.LinearRegression()\n",
        "model = lm.fit(s_train,y_train)"
      ],
      "execution_count": 15,
      "outputs": []
    },
    {
      "cell_type": "markdown",
      "metadata": {
        "colab_type": "text",
        "id": "1fHqz9-WAnrg"
      },
      "source": [
        "**<font color='teal'> Predict on the testing dataset and score the model performance with the y_test set and the y-pred values. The explained variance is a measure of the variation explained by the model. This is also known as the R-squared value. </font>**\n",
        "\n",
        "Hint: you will have to use the `predict()` method here as it's used in this [DSM article](https://medium.com/@aiden.dataminer/the-data-science-method-dsm-modeling-56b4233cad1b) about modeling. "
      ]
    },
    {
      "cell_type": "code",
      "metadata": {
        "colab_type": "code",
        "id": "nIo01lFEAnrh",
        "colab": {}
      },
      "source": [
        "# Make a variable called y_pred and assign it the result of calling predict() on our model variable with parameter X_test\n",
        "y_pred = model.predict(s_test)"
      ],
      "execution_count": 16,
      "outputs": []
    },
    {
      "cell_type": "code",
      "metadata": {
        "id": "CJ6EettGzvvb",
        "colab_type": "code",
        "colab": {
          "base_uri": "https://localhost:8080/",
          "height": 403
        },
        "outputId": "89a55a94-236a-4c23-9c2c-8b817e313e0a"
      },
      "source": [
        "y_pred"
      ],
      "execution_count": 17,
      "outputs": [
        {
          "output_type": "execute_result",
          "data": {
            "text/plain": [
              "array([ 58.31135206,  89.46955518,  78.41877393,  75.67072706,\n",
              "        70.57111768,  76.15510206,  44.82893018,  46.79377393,\n",
              "        93.51057081,  84.89533643,  50.45197706,  79.25080518,\n",
              "        50.93244581,  70.93830518,  62.45978956,  93.39533643,\n",
              "        42.60822706,  72.86994581,  61.73127393,  40.74885206,\n",
              "       113.47346143,  36.96955518,  53.65314893,  49.23322706,\n",
              "        48.09260206,  62.58478956,  75.87482862,  74.68439893,\n",
              "        64.26643018,  66.54572706,  35.05744581,  58.87189893,\n",
              "        80.33674268,  57.13947706,  75.38947706,  49.37385206,\n",
              "        22.96760206,  29.40510206,  61.64728956,  37.28010206,\n",
              "        48.50080518,  63.23810987,  86.71369581,  72.23713331,\n",
              "        72.41096143,  59.18439893,  59.49299268, 166.31135206,\n",
              "        37.67072706,  61.15998487,  68.18439893,  61.17463331,\n",
              "        53.16486768,  44.33088331,  59.32795362,  43.11799268,\n",
              "        84.96076612,  39.33478956, 120.62385206, 119.29963331,\n",
              "        55.93635206,  53.96857862,  41.79572706,  81.09846143,\n",
              "        64.26447706,  43.34650831,  36.19807081,  97.32893018,\n",
              "        61.06525831,  23.71955518,  67.75471143, 145.40900831,\n",
              "        58.03791456,  62.27424268,  75.26643018,  70.83088331,\n",
              "        76.48127393,  57.74885206,  85.38361768,  71.44807081,\n",
              "        52.66877393,  56.71760206,  43.23518018])"
            ]
          },
          "metadata": {
            "tags": []
          },
          "execution_count": 17
        }
      ]
    },
    {
      "cell_type": "markdown",
      "metadata": {
        "colab_type": "text",
        "id": "N4YS0WE2Anrk"
      },
      "source": [
        "## Review Model Outcomes — Iterate over additional models as needed"
      ]
    },
    {
      "cell_type": "code",
      "metadata": {
        "colab_type": "code",
        "id": "HSh9sGIYAnrk",
        "colab": {}
      },
      "source": [
        "# You might want to use the explained_variance_score() and mean_absolute_error() metrics.\n",
        "# To do so, you will need to import them from sklearn.metrics. \n",
        "# You can plug y_test and y_pred into the functions to evaluate the model\n",
        "from sklearn.metrics import explained_variance_score\n",
        "from sklearn.metrics import mean_absolute_error"
      ],
      "execution_count": 18,
      "outputs": []
    },
    {
      "cell_type": "code",
      "metadata": {
        "colab_type": "code",
        "id": "ihzeo8tqAnro",
        "colab": {
          "base_uri": "https://localhost:8080/",
          "height": 35
        },
        "outputId": "eacb659c-5be6-4f1c-f0dc-3a3147cfb8c9"
      },
      "source": [
        "explained_variance_score(y_true=y_test, y_pred=y_pred)"
      ],
      "execution_count": 19,
      "outputs": [
        {
          "output_type": "execute_result",
          "data": {
            "text/plain": [
              "0.9409335239835701"
            ]
          },
          "metadata": {
            "tags": []
          },
          "execution_count": 19
        }
      ]
    },
    {
      "cell_type": "code",
      "metadata": {
        "id": "Su5sOgLH2nk6",
        "colab_type": "code",
        "colab": {
          "base_uri": "https://localhost:8080/",
          "height": 35
        },
        "outputId": "b131da47-5856-41a4-fc8c-4a570fc6f3ac"
      },
      "source": [
        "mean_absolute_error(y_true=y_test, y_pred=y_pred)"
      ],
      "execution_count": 20,
      "outputs": [
        {
          "output_type": "execute_result",
          "data": {
            "text/plain": [
              "4.915690182064833"
            ]
          },
          "metadata": {
            "tags": []
          },
          "execution_count": 20
        }
      ]
    },
    {
      "cell_type": "markdown",
      "metadata": {
        "colab_type": "text",
        "id": "NWJcOuSdAnrr"
      },
      "source": [
        "**<font color='teal'> Print the intercept value from the linear model. </font>**\n",
        "\n",
        "Hint: our linear regression model `lm` has an attribute `intercept_` for the intercept"
      ]
    },
    {
      "cell_type": "code",
      "metadata": {
        "colab_type": "code",
        "id": "3WzWejn6Anrt",
        "colab": {
          "base_uri": "https://localhost:8080/",
          "height": 35
        },
        "outputId": "93bb4762-db8e-4039-dd25-1b19e408a3cf"
      },
      "source": [
        "lm.intercept_"
      ],
      "execution_count": 21,
      "outputs": [
        {
          "output_type": "execute_result",
          "data": {
            "text/plain": [
              "64.11701612065369"
            ]
          },
          "metadata": {
            "tags": []
          },
          "execution_count": 21
        }
      ]
    },
    {
      "cell_type": "markdown",
      "metadata": {
        "colab_type": "text",
        "id": "edajrenAAnrv"
      },
      "source": [
        "**<font color='teal'> The intercept is the mean `AdultWeekend` price for all the resorts given the other characteristics. The addition or subtraction of each of the coefficient values in the regression are numeric adjustments applied to the intercept to provide a particular observation's value for the resulting `AdultWeekend` value. Also, because we took the time to scale our x values in the training data, we can compare each of the coeeficients for the features to determine the feature importances. Print the coefficient values from the linear model and sort in descending order to identify the top ten most important features.</font>** \n",
        "\n",
        "\n",
        "Hint: make sure to review the absolute value of the coefficients, because the adjustment may be positive or negative, but what we are looking for is the magnitude of impact on our response variable."
      ]
    },
    {
      "cell_type": "code",
      "metadata": {
        "colab_type": "code",
        "id": "FEKc_lmZAnrw",
        "colab": {
          "base_uri": "https://localhost:8080/",
          "height": 1000
        },
        "outputId": "34a7f050-68d8-419e-9683-c50c65242051"
      },
      "source": [
        "# You might want to make a pandas DataFrame displaying the coefficients for each state like so: \n",
        "coef_data = []\n",
        "coef_data = pd.DataFrame(abs(lm.coef_), x.columns, columns=['Coefficient'])\n",
        "print(coef_data)\n"
      ],
      "execution_count": 22,
      "outputs": [
        {
          "output_type": "stream",
          "text": [
            "                    Coefficient\n",
            "summit_elev        1.899311e+00\n",
            "vertical_drop      9.583299e-01\n",
            "fastQuads          1.157118e+00\n",
            "quad               1.527711e+00\n",
            "triple             2.236678e+00\n",
            "double             1.312403e+00\n",
            "surface            3.399401e-01\n",
            "total_chairs       1.120816e+00\n",
            "Runs               9.005197e-01\n",
            "TerrainParks       9.941889e-02\n",
            "LongestRun_mi      4.374870e-01\n",
            "SkiableTerrain_ac  2.009429e-01\n",
            "Snow Making_ac     8.709411e-01\n",
            "daysOpenLastYear   5.413062e-01\n",
            "yearsOpen          3.547436e-01\n",
            "averageSnowfall    2.204681e-02\n",
            "AdultWeekday       1.923904e+01\n",
            "projectedDaysOpen  1.469920e-01\n",
            "NightSkiing_ac     6.434278e-01\n",
            "clusters           4.043513e-01\n",
            "Alaska             2.861859e+12\n",
            "Arizona            2.340268e+12\n",
            "California         7.360420e+12\n",
            "Colorado           7.521430e+12\n",
            "Connecticut        3.683328e+12\n",
            "Idaho              5.644402e+12\n",
            "Illinois           3.299533e+12\n",
            "Indiana            2.340268e+12\n",
            "Iowa               2.861859e+12\n",
            "Maine              4.911199e+12\n",
            "Maryland           1.657340e+12\n",
            "Massachusetts      5.412594e+12\n",
            "Michigan           8.536817e+12\n",
            "Minnesota          6.077449e+12\n",
            "Missouri           2.340268e+12\n",
            "Montana            5.644402e+12\n",
            "Nevada             3.299533e+12\n",
            "New Hampshire      6.476473e+12\n",
            "New Jersey         2.340268e+12\n",
            "New Mexico         4.911199e+12\n",
            "New York           9.045841e+12\n",
            "North Carolina     4.028672e+12\n",
            "Ohio               3.683328e+12\n",
            "Oregon             5.168788e+12\n",
            "Pennsylvania       7.023777e+12\n",
            "Rhode Island       1.657340e+12\n",
            "South Dakota       2.340268e+12\n",
            "Tennessee          1.657340e+12\n",
            "Utah               5.865635e+12\n",
            "Vermont            6.280795e+12\n",
            "Virginia           3.299533e+12\n",
            "Washington         5.168788e+12\n",
            "West Virginia      3.299533e+12\n",
            "Wisconsin          6.476473e+12\n",
            "Wyoming            4.637529e+12\n"
          ],
          "name": "stdout"
        }
      ]
    },
    {
      "cell_type": "code",
      "metadata": {
        "id": "21sFqU6W4m8E",
        "colab_type": "code",
        "colab": {
          "base_uri": "https://localhost:8080/",
          "height": 1000
        },
        "outputId": "a802bc87-294d-4bb2-c873-7ef9e3b1e74b"
      },
      "source": [
        "coef_data.sort_values(['Coefficient'], ascending=False)"
      ],
      "execution_count": 23,
      "outputs": [
        {
          "output_type": "execute_result",
          "data": {
            "text/html": [
              "<div>\n",
              "<style scoped>\n",
              "    .dataframe tbody tr th:only-of-type {\n",
              "        vertical-align: middle;\n",
              "    }\n",
              "\n",
              "    .dataframe tbody tr th {\n",
              "        vertical-align: top;\n",
              "    }\n",
              "\n",
              "    .dataframe thead th {\n",
              "        text-align: right;\n",
              "    }\n",
              "</style>\n",
              "<table border=\"1\" class=\"dataframe\">\n",
              "  <thead>\n",
              "    <tr style=\"text-align: right;\">\n",
              "      <th></th>\n",
              "      <th>Coefficient</th>\n",
              "    </tr>\n",
              "  </thead>\n",
              "  <tbody>\n",
              "    <tr>\n",
              "      <th>New York</th>\n",
              "      <td>9.045841e+12</td>\n",
              "    </tr>\n",
              "    <tr>\n",
              "      <th>Michigan</th>\n",
              "      <td>8.536817e+12</td>\n",
              "    </tr>\n",
              "    <tr>\n",
              "      <th>Colorado</th>\n",
              "      <td>7.521430e+12</td>\n",
              "    </tr>\n",
              "    <tr>\n",
              "      <th>California</th>\n",
              "      <td>7.360420e+12</td>\n",
              "    </tr>\n",
              "    <tr>\n",
              "      <th>Pennsylvania</th>\n",
              "      <td>7.023777e+12</td>\n",
              "    </tr>\n",
              "    <tr>\n",
              "      <th>New Hampshire</th>\n",
              "      <td>6.476473e+12</td>\n",
              "    </tr>\n",
              "    <tr>\n",
              "      <th>Wisconsin</th>\n",
              "      <td>6.476473e+12</td>\n",
              "    </tr>\n",
              "    <tr>\n",
              "      <th>Vermont</th>\n",
              "      <td>6.280795e+12</td>\n",
              "    </tr>\n",
              "    <tr>\n",
              "      <th>Minnesota</th>\n",
              "      <td>6.077449e+12</td>\n",
              "    </tr>\n",
              "    <tr>\n",
              "      <th>Utah</th>\n",
              "      <td>5.865635e+12</td>\n",
              "    </tr>\n",
              "    <tr>\n",
              "      <th>Idaho</th>\n",
              "      <td>5.644402e+12</td>\n",
              "    </tr>\n",
              "    <tr>\n",
              "      <th>Montana</th>\n",
              "      <td>5.644402e+12</td>\n",
              "    </tr>\n",
              "    <tr>\n",
              "      <th>Massachusetts</th>\n",
              "      <td>5.412594e+12</td>\n",
              "    </tr>\n",
              "    <tr>\n",
              "      <th>Washington</th>\n",
              "      <td>5.168788e+12</td>\n",
              "    </tr>\n",
              "    <tr>\n",
              "      <th>Oregon</th>\n",
              "      <td>5.168788e+12</td>\n",
              "    </tr>\n",
              "    <tr>\n",
              "      <th>Maine</th>\n",
              "      <td>4.911199e+12</td>\n",
              "    </tr>\n",
              "    <tr>\n",
              "      <th>New Mexico</th>\n",
              "      <td>4.911199e+12</td>\n",
              "    </tr>\n",
              "    <tr>\n",
              "      <th>Wyoming</th>\n",
              "      <td>4.637529e+12</td>\n",
              "    </tr>\n",
              "    <tr>\n",
              "      <th>North Carolina</th>\n",
              "      <td>4.028672e+12</td>\n",
              "    </tr>\n",
              "    <tr>\n",
              "      <th>Connecticut</th>\n",
              "      <td>3.683328e+12</td>\n",
              "    </tr>\n",
              "    <tr>\n",
              "      <th>Ohio</th>\n",
              "      <td>3.683328e+12</td>\n",
              "    </tr>\n",
              "    <tr>\n",
              "      <th>West Virginia</th>\n",
              "      <td>3.299533e+12</td>\n",
              "    </tr>\n",
              "    <tr>\n",
              "      <th>Virginia</th>\n",
              "      <td>3.299533e+12</td>\n",
              "    </tr>\n",
              "    <tr>\n",
              "      <th>Illinois</th>\n",
              "      <td>3.299533e+12</td>\n",
              "    </tr>\n",
              "    <tr>\n",
              "      <th>Nevada</th>\n",
              "      <td>3.299533e+12</td>\n",
              "    </tr>\n",
              "    <tr>\n",
              "      <th>Alaska</th>\n",
              "      <td>2.861859e+12</td>\n",
              "    </tr>\n",
              "    <tr>\n",
              "      <th>Iowa</th>\n",
              "      <td>2.861859e+12</td>\n",
              "    </tr>\n",
              "    <tr>\n",
              "      <th>New Jersey</th>\n",
              "      <td>2.340268e+12</td>\n",
              "    </tr>\n",
              "    <tr>\n",
              "      <th>Missouri</th>\n",
              "      <td>2.340268e+12</td>\n",
              "    </tr>\n",
              "    <tr>\n",
              "      <th>Indiana</th>\n",
              "      <td>2.340268e+12</td>\n",
              "    </tr>\n",
              "    <tr>\n",
              "      <th>Arizona</th>\n",
              "      <td>2.340268e+12</td>\n",
              "    </tr>\n",
              "    <tr>\n",
              "      <th>South Dakota</th>\n",
              "      <td>2.340268e+12</td>\n",
              "    </tr>\n",
              "    <tr>\n",
              "      <th>Tennessee</th>\n",
              "      <td>1.657340e+12</td>\n",
              "    </tr>\n",
              "    <tr>\n",
              "      <th>Maryland</th>\n",
              "      <td>1.657340e+12</td>\n",
              "    </tr>\n",
              "    <tr>\n",
              "      <th>Rhode Island</th>\n",
              "      <td>1.657340e+12</td>\n",
              "    </tr>\n",
              "    <tr>\n",
              "      <th>AdultWeekday</th>\n",
              "      <td>1.923904e+01</td>\n",
              "    </tr>\n",
              "    <tr>\n",
              "      <th>triple</th>\n",
              "      <td>2.236678e+00</td>\n",
              "    </tr>\n",
              "    <tr>\n",
              "      <th>summit_elev</th>\n",
              "      <td>1.899311e+00</td>\n",
              "    </tr>\n",
              "    <tr>\n",
              "      <th>quad</th>\n",
              "      <td>1.527711e+00</td>\n",
              "    </tr>\n",
              "    <tr>\n",
              "      <th>double</th>\n",
              "      <td>1.312403e+00</td>\n",
              "    </tr>\n",
              "    <tr>\n",
              "      <th>fastQuads</th>\n",
              "      <td>1.157118e+00</td>\n",
              "    </tr>\n",
              "    <tr>\n",
              "      <th>total_chairs</th>\n",
              "      <td>1.120816e+00</td>\n",
              "    </tr>\n",
              "    <tr>\n",
              "      <th>vertical_drop</th>\n",
              "      <td>9.583299e-01</td>\n",
              "    </tr>\n",
              "    <tr>\n",
              "      <th>Runs</th>\n",
              "      <td>9.005197e-01</td>\n",
              "    </tr>\n",
              "    <tr>\n",
              "      <th>Snow Making_ac</th>\n",
              "      <td>8.709411e-01</td>\n",
              "    </tr>\n",
              "    <tr>\n",
              "      <th>NightSkiing_ac</th>\n",
              "      <td>6.434278e-01</td>\n",
              "    </tr>\n",
              "    <tr>\n",
              "      <th>daysOpenLastYear</th>\n",
              "      <td>5.413062e-01</td>\n",
              "    </tr>\n",
              "    <tr>\n",
              "      <th>LongestRun_mi</th>\n",
              "      <td>4.374870e-01</td>\n",
              "    </tr>\n",
              "    <tr>\n",
              "      <th>clusters</th>\n",
              "      <td>4.043513e-01</td>\n",
              "    </tr>\n",
              "    <tr>\n",
              "      <th>yearsOpen</th>\n",
              "      <td>3.547436e-01</td>\n",
              "    </tr>\n",
              "    <tr>\n",
              "      <th>surface</th>\n",
              "      <td>3.399401e-01</td>\n",
              "    </tr>\n",
              "    <tr>\n",
              "      <th>SkiableTerrain_ac</th>\n",
              "      <td>2.009429e-01</td>\n",
              "    </tr>\n",
              "    <tr>\n",
              "      <th>projectedDaysOpen</th>\n",
              "      <td>1.469920e-01</td>\n",
              "    </tr>\n",
              "    <tr>\n",
              "      <th>TerrainParks</th>\n",
              "      <td>9.941889e-02</td>\n",
              "    </tr>\n",
              "    <tr>\n",
              "      <th>averageSnowfall</th>\n",
              "      <td>2.204681e-02</td>\n",
              "    </tr>\n",
              "  </tbody>\n",
              "</table>\n",
              "</div>"
            ],
            "text/plain": [
              "                    Coefficient\n",
              "New York           9.045841e+12\n",
              "Michigan           8.536817e+12\n",
              "Colorado           7.521430e+12\n",
              "California         7.360420e+12\n",
              "Pennsylvania       7.023777e+12\n",
              "New Hampshire      6.476473e+12\n",
              "Wisconsin          6.476473e+12\n",
              "Vermont            6.280795e+12\n",
              "Minnesota          6.077449e+12\n",
              "Utah               5.865635e+12\n",
              "Idaho              5.644402e+12\n",
              "Montana            5.644402e+12\n",
              "Massachusetts      5.412594e+12\n",
              "Washington         5.168788e+12\n",
              "Oregon             5.168788e+12\n",
              "Maine              4.911199e+12\n",
              "New Mexico         4.911199e+12\n",
              "Wyoming            4.637529e+12\n",
              "North Carolina     4.028672e+12\n",
              "Connecticut        3.683328e+12\n",
              "Ohio               3.683328e+12\n",
              "West Virginia      3.299533e+12\n",
              "Virginia           3.299533e+12\n",
              "Illinois           3.299533e+12\n",
              "Nevada             3.299533e+12\n",
              "Alaska             2.861859e+12\n",
              "Iowa               2.861859e+12\n",
              "New Jersey         2.340268e+12\n",
              "Missouri           2.340268e+12\n",
              "Indiana            2.340268e+12\n",
              "Arizona            2.340268e+12\n",
              "South Dakota       2.340268e+12\n",
              "Tennessee          1.657340e+12\n",
              "Maryland           1.657340e+12\n",
              "Rhode Island       1.657340e+12\n",
              "AdultWeekday       1.923904e+01\n",
              "triple             2.236678e+00\n",
              "summit_elev        1.899311e+00\n",
              "quad               1.527711e+00\n",
              "double             1.312403e+00\n",
              "fastQuads          1.157118e+00\n",
              "total_chairs       1.120816e+00\n",
              "vertical_drop      9.583299e-01\n",
              "Runs               9.005197e-01\n",
              "Snow Making_ac     8.709411e-01\n",
              "NightSkiing_ac     6.434278e-01\n",
              "daysOpenLastYear   5.413062e-01\n",
              "LongestRun_mi      4.374870e-01\n",
              "clusters           4.043513e-01\n",
              "yearsOpen          3.547436e-01\n",
              "surface            3.399401e-01\n",
              "SkiableTerrain_ac  2.009429e-01\n",
              "projectedDaysOpen  1.469920e-01\n",
              "TerrainParks       9.941889e-02\n",
              "averageSnowfall    2.204681e-02"
            ]
          },
          "metadata": {
            "tags": []
          },
          "execution_count": 23
        }
      ]
    },
    {
      "cell_type": "markdown",
      "metadata": {
        "colab_type": "text",
        "id": "BpdALMoAAnry"
      },
      "source": [
        "**<font color='teal'>You should see that the top ten important features are different states. However, the state is not something the managers at the Big Mountain Resort can do anything about. Given that we care more about actionable traits associated with ticket pricing, rebuild the model without the state features and compare the results. </font>**\n",
        "\n",
        "Hint: Try to construct another model using exactly the steps we followed above. "
      ]
    },
    {
      "cell_type": "markdown",
      "metadata": {
        "colab_type": "text",
        "id": "-mHYA1BzAnrz"
      },
      "source": [
        "# Model 2 "
      ]
    },
    {
      "cell_type": "code",
      "metadata": {
        "id": "yh_PZxipb5Lr",
        "colab_type": "code",
        "colab": {}
      },
      "source": [
        "df2 = pd.read_csv('step3_output.csv', index_col= None)"
      ],
      "execution_count": 24,
      "outputs": []
    },
    {
      "cell_type": "code",
      "metadata": {
        "id": "TEVIYETWbnEM",
        "colab_type": "code",
        "colab": {
          "base_uri": "https://localhost:8080/",
          "height": 348
        },
        "outputId": "be8651c1-3559-4487-f057-eecf72051970"
      },
      "source": [
        "df2.head()"
      ],
      "execution_count": 25,
      "outputs": [
        {
          "output_type": "execute_result",
          "data": {
            "text/html": [
              "<div>\n",
              "<style scoped>\n",
              "    .dataframe tbody tr th:only-of-type {\n",
              "        vertical-align: middle;\n",
              "    }\n",
              "\n",
              "    .dataframe tbody tr th {\n",
              "        vertical-align: top;\n",
              "    }\n",
              "\n",
              "    .dataframe thead th {\n",
              "        text-align: right;\n",
              "    }\n",
              "</style>\n",
              "<table border=\"1\" class=\"dataframe\">\n",
              "  <thead>\n",
              "    <tr style=\"text-align: right;\">\n",
              "      <th></th>\n",
              "      <th>Name</th>\n",
              "      <th>state</th>\n",
              "      <th>summit_elev</th>\n",
              "      <th>vertical_drop</th>\n",
              "      <th>fastQuads</th>\n",
              "      <th>quad</th>\n",
              "      <th>triple</th>\n",
              "      <th>double</th>\n",
              "      <th>surface</th>\n",
              "      <th>total_chairs</th>\n",
              "      <th>Runs</th>\n",
              "      <th>TerrainParks</th>\n",
              "      <th>LongestRun_mi</th>\n",
              "      <th>SkiableTerrain_ac</th>\n",
              "      <th>Snow Making_ac</th>\n",
              "      <th>daysOpenLastYear</th>\n",
              "      <th>yearsOpen</th>\n",
              "      <th>averageSnowfall</th>\n",
              "      <th>AdultWeekday</th>\n",
              "      <th>AdultWeekend</th>\n",
              "      <th>projectedDaysOpen</th>\n",
              "      <th>NightSkiing_ac</th>\n",
              "      <th>clusters</th>\n",
              "    </tr>\n",
              "  </thead>\n",
              "  <tbody>\n",
              "    <tr>\n",
              "      <th>0</th>\n",
              "      <td>Alyeska Resort</td>\n",
              "      <td>Alaska</td>\n",
              "      <td>3939</td>\n",
              "      <td>2500</td>\n",
              "      <td>2</td>\n",
              "      <td>2</td>\n",
              "      <td>0</td>\n",
              "      <td>0</td>\n",
              "      <td>2</td>\n",
              "      <td>7</td>\n",
              "      <td>76.0</td>\n",
              "      <td>2.0</td>\n",
              "      <td>1.0</td>\n",
              "      <td>1610.0</td>\n",
              "      <td>113.0</td>\n",
              "      <td>150.0</td>\n",
              "      <td>60.0</td>\n",
              "      <td>669.0</td>\n",
              "      <td>65.0</td>\n",
              "      <td>85.0</td>\n",
              "      <td>150.0</td>\n",
              "      <td>550.0</td>\n",
              "      <td>1</td>\n",
              "    </tr>\n",
              "    <tr>\n",
              "      <th>1</th>\n",
              "      <td>Eaglecrest Ski Area</td>\n",
              "      <td>Alaska</td>\n",
              "      <td>2600</td>\n",
              "      <td>1540</td>\n",
              "      <td>0</td>\n",
              "      <td>0</td>\n",
              "      <td>0</td>\n",
              "      <td>4</td>\n",
              "      <td>0</td>\n",
              "      <td>4</td>\n",
              "      <td>36.0</td>\n",
              "      <td>1.0</td>\n",
              "      <td>2.0</td>\n",
              "      <td>640.0</td>\n",
              "      <td>60.0</td>\n",
              "      <td>45.0</td>\n",
              "      <td>44.0</td>\n",
              "      <td>350.0</td>\n",
              "      <td>47.0</td>\n",
              "      <td>53.0</td>\n",
              "      <td>90.0</td>\n",
              "      <td>0.0</td>\n",
              "      <td>1</td>\n",
              "    </tr>\n",
              "    <tr>\n",
              "      <th>2</th>\n",
              "      <td>Hilltop Ski Area</td>\n",
              "      <td>Alaska</td>\n",
              "      <td>2090</td>\n",
              "      <td>294</td>\n",
              "      <td>0</td>\n",
              "      <td>0</td>\n",
              "      <td>1</td>\n",
              "      <td>0</td>\n",
              "      <td>2</td>\n",
              "      <td>3</td>\n",
              "      <td>13.0</td>\n",
              "      <td>1.0</td>\n",
              "      <td>1.0</td>\n",
              "      <td>30.0</td>\n",
              "      <td>30.0</td>\n",
              "      <td>150.0</td>\n",
              "      <td>36.0</td>\n",
              "      <td>69.0</td>\n",
              "      <td>30.0</td>\n",
              "      <td>34.0</td>\n",
              "      <td>152.0</td>\n",
              "      <td>30.0</td>\n",
              "      <td>1</td>\n",
              "    </tr>\n",
              "    <tr>\n",
              "      <th>3</th>\n",
              "      <td>Arizona Snowbowl</td>\n",
              "      <td>Arizona</td>\n",
              "      <td>11500</td>\n",
              "      <td>2300</td>\n",
              "      <td>0</td>\n",
              "      <td>2</td>\n",
              "      <td>2</td>\n",
              "      <td>1</td>\n",
              "      <td>2</td>\n",
              "      <td>8</td>\n",
              "      <td>55.0</td>\n",
              "      <td>4.0</td>\n",
              "      <td>2.0</td>\n",
              "      <td>777.0</td>\n",
              "      <td>104.0</td>\n",
              "      <td>122.0</td>\n",
              "      <td>81.0</td>\n",
              "      <td>260.0</td>\n",
              "      <td>89.0</td>\n",
              "      <td>89.0</td>\n",
              "      <td>122.0</td>\n",
              "      <td>0.0</td>\n",
              "      <td>0</td>\n",
              "    </tr>\n",
              "    <tr>\n",
              "      <th>4</th>\n",
              "      <td>Sunrise Park Resort</td>\n",
              "      <td>Arizona</td>\n",
              "      <td>11100</td>\n",
              "      <td>1800</td>\n",
              "      <td>1</td>\n",
              "      <td>2</td>\n",
              "      <td>3</td>\n",
              "      <td>1</td>\n",
              "      <td>0</td>\n",
              "      <td>7</td>\n",
              "      <td>65.0</td>\n",
              "      <td>2.0</td>\n",
              "      <td>1.2</td>\n",
              "      <td>800.0</td>\n",
              "      <td>80.0</td>\n",
              "      <td>115.0</td>\n",
              "      <td>49.0</td>\n",
              "      <td>250.0</td>\n",
              "      <td>74.0</td>\n",
              "      <td>78.0</td>\n",
              "      <td>104.0</td>\n",
              "      <td>80.0</td>\n",
              "      <td>0</td>\n",
              "    </tr>\n",
              "  </tbody>\n",
              "</table>\n",
              "</div>"
            ],
            "text/plain": [
              "                  Name    state  ...  NightSkiing_ac  clusters\n",
              "0       Alyeska Resort   Alaska  ...           550.0         1\n",
              "1  Eaglecrest Ski Area   Alaska  ...             0.0         1\n",
              "2     Hilltop Ski Area   Alaska  ...            30.0         1\n",
              "3     Arizona Snowbowl  Arizona  ...             0.0         0\n",
              "4  Sunrise Park Resort  Arizona  ...            80.0         0\n",
              "\n",
              "[5 rows x 23 columns]"
            ]
          },
          "metadata": {
            "tags": []
          },
          "execution_count": 25
        }
      ]
    },
    {
      "cell_type": "code",
      "metadata": {
        "colab_type": "code",
        "id": "Pz1YXAdiAnr0",
        "colab": {
          "base_uri": "https://localhost:8080/",
          "height": 274
        },
        "outputId": "c2b44362-52a4-4c1e-a430-9b584bf47d07"
      },
      "source": [
        "# Declare an explanatory variable, called x2, and assign it the result of dropping 'state' 'Name' and 'AdultWeekend' from the df2\n",
        "x2 = df2.drop(['state','Name','AdultWeekend'], axis=1)\n",
        "print(x2)\n",
        "\n",
        "# Declare a response variable, called y2, and assign it the AdultWeekend column of the df2 \n",
        "y2 = df2['AdultWeekend']\n",
        "\n",
        "# Here we use the StandardScaler() method of the preprocessing package, and then call the fit() method with parameter x \n",
        "scaler2 = preprocessing.StandardScaler().fit(x2)\n",
        "\n",
        "# Declare a variable called x2_scaled, and assign it the result of calling the transform() method with parameter x2 \n",
        "x2_scaled=scaler2.transform(x2)"
      ],
      "execution_count": 26,
      "outputs": [
        {
          "output_type": "stream",
          "text": [
            "     summit_elev  vertical_drop  ...  NightSkiing_ac  clusters\n",
            "0           3939           2500  ...           550.0         1\n",
            "1           2600           1540  ...             0.0         1\n",
            "2           2090            294  ...            30.0         1\n",
            "3          11500           2300  ...             0.0         0\n",
            "4          11100           1800  ...            80.0         0\n",
            "..           ...            ...  ...             ...       ...\n",
            "325         9500           1000  ...             0.0         3\n",
            "326         7428            810  ...             0.0         3\n",
            "327         7808           1571  ...           110.0         3\n",
            "328         9663            990  ...             0.0         3\n",
            "329         9500           1100  ...             0.0         3\n",
            "\n",
            "[330 rows x 20 columns]\n"
          ],
          "name": "stdout"
        }
      ]
    },
    {
      "cell_type": "code",
      "metadata": {
        "colab_type": "code",
        "id": "nM1EGf16Anr2",
        "colab": {}
      },
      "source": [
        "# Get the 1-dimensional flattened array of our response variable y2 by calling the ravel() function on y2\n",
        "y2 = y2.ravel()\n",
        "# Call the train_test_split() function with the first two parameters set to x2_scaled and y2 \n",
        "# Declare four variables, s2_train, s2_test, y2_train and y2_test separated by commas \n",
        "s2_train, s2_test, y2_train, y2_test = train_test_split(x2_scaled, y2, test_size=0.25, random_state=1)"
      ],
      "execution_count": 27,
      "outputs": []
    },
    {
      "cell_type": "code",
      "metadata": {
        "id": "eJePWpsUd0fs",
        "colab_type": "code",
        "colab": {}
      },
      "source": [
        "lm2 = linear_model.LinearRegression()\n",
        "model2 = lm2.fit(s2_train,y2_train)"
      ],
      "execution_count": 28,
      "outputs": []
    },
    {
      "cell_type": "code",
      "metadata": {
        "id": "qCckyS2ra9KE",
        "colab_type": "code",
        "colab": {}
      },
      "source": [
        "# Make a variable called y2_pred and assign it the result of calling predict() on our model variable with parameter x2_test\n",
        "y2_pred = model2.predict(s2_test)"
      ],
      "execution_count": 29,
      "outputs": []
    },
    {
      "cell_type": "code",
      "metadata": {
        "id": "dJVyWbvNbDZ8",
        "colab_type": "code",
        "colab": {
          "base_uri": "https://localhost:8080/",
          "height": 35
        },
        "outputId": "9d656239-c14c-400f-9bed-2af75c10f1ab"
      },
      "source": [
        "explained_variance_score(y_true=y2_test, y_pred=y2_pred)"
      ],
      "execution_count": 30,
      "outputs": [
        {
          "output_type": "execute_result",
          "data": {
            "text/plain": [
              "0.9296939181024035"
            ]
          },
          "metadata": {
            "tags": []
          },
          "execution_count": 30
        }
      ]
    },
    {
      "cell_type": "code",
      "metadata": {
        "id": "HXJpKfswbORo",
        "colab_type": "code",
        "colab": {
          "base_uri": "https://localhost:8080/",
          "height": 35
        },
        "outputId": "220d3dd1-bfdb-4504-d079-93f058466c03"
      },
      "source": [
        "mean_absolute_error(y_true=y2_test, y_pred=y2_pred)"
      ],
      "execution_count": 31,
      "outputs": [
        {
          "output_type": "execute_result",
          "data": {
            "text/plain": [
              "5.3383259592237975"
            ]
          },
          "metadata": {
            "tags": []
          },
          "execution_count": 31
        }
      ]
    },
    {
      "cell_type": "code",
      "metadata": {
        "id": "kU4ajaPLbTB6",
        "colab_type": "code",
        "colab": {
          "base_uri": "https://localhost:8080/",
          "height": 35
        },
        "outputId": "6ae5e156-a76e-4927-b015-3ba462927022"
      },
      "source": [
        "lm2.intercept_"
      ],
      "execution_count": 32,
      "outputs": [
        {
          "output_type": "execute_result",
          "data": {
            "text/plain": [
              "64.07539503650082"
            ]
          },
          "metadata": {
            "tags": []
          },
          "execution_count": 32
        }
      ]
    },
    {
      "cell_type": "code",
      "metadata": {
        "id": "qQ7cLXcxbWJM",
        "colab_type": "code",
        "colab": {
          "base_uri": "https://localhost:8080/",
          "height": 403
        },
        "outputId": "084836f5-c062-4554-ae4c-288ce7a2263a"
      },
      "source": [
        "# You might want to make a pandas DataFrame displaying the coefficients for each state like so: \n",
        "coef_data2 = []\n",
        "coef_data2 = pd.DataFrame(abs(lm2.coef_), x2.columns, columns=['Coefficient'])\n",
        "print(coef_data2)"
      ],
      "execution_count": 33,
      "outputs": [
        {
          "output_type": "stream",
          "text": [
            "                   Coefficient\n",
            "summit_elev           0.994699\n",
            "vertical_drop         1.527316\n",
            "fastQuads             0.223443\n",
            "quad                  1.243351\n",
            "triple                1.112562\n",
            "double                0.034431\n",
            "surface               1.520371\n",
            "total_chairs          1.575504\n",
            "Runs                  1.235018\n",
            "TerrainParks          0.130860\n",
            "LongestRun_mi         0.289668\n",
            "SkiableTerrain_ac     0.253621\n",
            "Snow Making_ac        0.432130\n",
            "daysOpenLastYear      1.104171\n",
            "yearsOpen             0.269139\n",
            "averageSnowfall       1.691297\n",
            "AdultWeekday         20.080300\n",
            "projectedDaysOpen     0.331176\n",
            "NightSkiing_ac        0.426303\n",
            "clusters              0.271374\n"
          ],
          "name": "stdout"
        }
      ]
    },
    {
      "cell_type": "code",
      "metadata": {
        "id": "6Ij9xIW0bbnq",
        "colab_type": "code",
        "colab": {
          "base_uri": "https://localhost:8080/",
          "height": 677
        },
        "outputId": "cabaea20-3229-42b5-8144-42d7e5986bf1"
      },
      "source": [
        "coef_data2.sort_values(['Coefficient'], ascending=False)"
      ],
      "execution_count": 34,
      "outputs": [
        {
          "output_type": "execute_result",
          "data": {
            "text/html": [
              "<div>\n",
              "<style scoped>\n",
              "    .dataframe tbody tr th:only-of-type {\n",
              "        vertical-align: middle;\n",
              "    }\n",
              "\n",
              "    .dataframe tbody tr th {\n",
              "        vertical-align: top;\n",
              "    }\n",
              "\n",
              "    .dataframe thead th {\n",
              "        text-align: right;\n",
              "    }\n",
              "</style>\n",
              "<table border=\"1\" class=\"dataframe\">\n",
              "  <thead>\n",
              "    <tr style=\"text-align: right;\">\n",
              "      <th></th>\n",
              "      <th>Coefficient</th>\n",
              "    </tr>\n",
              "  </thead>\n",
              "  <tbody>\n",
              "    <tr>\n",
              "      <th>AdultWeekday</th>\n",
              "      <td>20.080300</td>\n",
              "    </tr>\n",
              "    <tr>\n",
              "      <th>averageSnowfall</th>\n",
              "      <td>1.691297</td>\n",
              "    </tr>\n",
              "    <tr>\n",
              "      <th>total_chairs</th>\n",
              "      <td>1.575504</td>\n",
              "    </tr>\n",
              "    <tr>\n",
              "      <th>vertical_drop</th>\n",
              "      <td>1.527316</td>\n",
              "    </tr>\n",
              "    <tr>\n",
              "      <th>surface</th>\n",
              "      <td>1.520371</td>\n",
              "    </tr>\n",
              "    <tr>\n",
              "      <th>quad</th>\n",
              "      <td>1.243351</td>\n",
              "    </tr>\n",
              "    <tr>\n",
              "      <th>Runs</th>\n",
              "      <td>1.235018</td>\n",
              "    </tr>\n",
              "    <tr>\n",
              "      <th>triple</th>\n",
              "      <td>1.112562</td>\n",
              "    </tr>\n",
              "    <tr>\n",
              "      <th>daysOpenLastYear</th>\n",
              "      <td>1.104171</td>\n",
              "    </tr>\n",
              "    <tr>\n",
              "      <th>summit_elev</th>\n",
              "      <td>0.994699</td>\n",
              "    </tr>\n",
              "    <tr>\n",
              "      <th>Snow Making_ac</th>\n",
              "      <td>0.432130</td>\n",
              "    </tr>\n",
              "    <tr>\n",
              "      <th>NightSkiing_ac</th>\n",
              "      <td>0.426303</td>\n",
              "    </tr>\n",
              "    <tr>\n",
              "      <th>projectedDaysOpen</th>\n",
              "      <td>0.331176</td>\n",
              "    </tr>\n",
              "    <tr>\n",
              "      <th>LongestRun_mi</th>\n",
              "      <td>0.289668</td>\n",
              "    </tr>\n",
              "    <tr>\n",
              "      <th>clusters</th>\n",
              "      <td>0.271374</td>\n",
              "    </tr>\n",
              "    <tr>\n",
              "      <th>yearsOpen</th>\n",
              "      <td>0.269139</td>\n",
              "    </tr>\n",
              "    <tr>\n",
              "      <th>SkiableTerrain_ac</th>\n",
              "      <td>0.253621</td>\n",
              "    </tr>\n",
              "    <tr>\n",
              "      <th>fastQuads</th>\n",
              "      <td>0.223443</td>\n",
              "    </tr>\n",
              "    <tr>\n",
              "      <th>TerrainParks</th>\n",
              "      <td>0.130860</td>\n",
              "    </tr>\n",
              "    <tr>\n",
              "      <th>double</th>\n",
              "      <td>0.034431</td>\n",
              "    </tr>\n",
              "  </tbody>\n",
              "</table>\n",
              "</div>"
            ],
            "text/plain": [
              "                   Coefficient\n",
              "AdultWeekday         20.080300\n",
              "averageSnowfall       1.691297\n",
              "total_chairs          1.575504\n",
              "vertical_drop         1.527316\n",
              "surface               1.520371\n",
              "quad                  1.243351\n",
              "Runs                  1.235018\n",
              "triple                1.112562\n",
              "daysOpenLastYear      1.104171\n",
              "summit_elev           0.994699\n",
              "Snow Making_ac        0.432130\n",
              "NightSkiing_ac        0.426303\n",
              "projectedDaysOpen     0.331176\n",
              "LongestRun_mi         0.289668\n",
              "clusters              0.271374\n",
              "yearsOpen             0.269139\n",
              "SkiableTerrain_ac     0.253621\n",
              "fastQuads             0.223443\n",
              "TerrainParks          0.130860\n",
              "double                0.034431"
            ]
          },
          "metadata": {
            "tags": []
          },
          "execution_count": 34
        }
      ]
    },
    {
      "cell_type": "markdown",
      "metadata": {
        "colab_type": "text",
        "id": "JWjQLr3LAnr6"
      },
      "source": [
        "**<font color='teal'> When reviewing our new model coefficients, we see `summit_elev` is now in the number two spot. This is also difficult to change from a management prespective and highly correlated with `base_elev` and `vertical_drop`.  This time, rebuild the model without the state features and without the `summit_elev` and without `base_elev`and compare the results. </font>**"
      ]
    },
    {
      "cell_type": "markdown",
      "metadata": {
        "colab_type": "text",
        "id": "RXqvcn93Anr7"
      },
      "source": [
        "# **Model 3**"
      ]
    },
    {
      "cell_type": "code",
      "metadata": {
        "colab_type": "code",
        "id": "6eugnDNNAnr8",
        "colab": {}
      },
      "source": [
        "df3 = pd.read_csv('step3_output.csv', index_col= None)"
      ],
      "execution_count": 35,
      "outputs": []
    },
    {
      "cell_type": "code",
      "metadata": {
        "id": "74HHS_wWxOzd",
        "colab_type": "code",
        "colab": {
          "base_uri": "https://localhost:8080/",
          "height": 348
        },
        "outputId": "3b2e76f0-a4ab-4eb9-fb15-53d764b159e2"
      },
      "source": [
        "df3.head()"
      ],
      "execution_count": 36,
      "outputs": [
        {
          "output_type": "execute_result",
          "data": {
            "text/html": [
              "<div>\n",
              "<style scoped>\n",
              "    .dataframe tbody tr th:only-of-type {\n",
              "        vertical-align: middle;\n",
              "    }\n",
              "\n",
              "    .dataframe tbody tr th {\n",
              "        vertical-align: top;\n",
              "    }\n",
              "\n",
              "    .dataframe thead th {\n",
              "        text-align: right;\n",
              "    }\n",
              "</style>\n",
              "<table border=\"1\" class=\"dataframe\">\n",
              "  <thead>\n",
              "    <tr style=\"text-align: right;\">\n",
              "      <th></th>\n",
              "      <th>Name</th>\n",
              "      <th>state</th>\n",
              "      <th>summit_elev</th>\n",
              "      <th>vertical_drop</th>\n",
              "      <th>fastQuads</th>\n",
              "      <th>quad</th>\n",
              "      <th>triple</th>\n",
              "      <th>double</th>\n",
              "      <th>surface</th>\n",
              "      <th>total_chairs</th>\n",
              "      <th>Runs</th>\n",
              "      <th>TerrainParks</th>\n",
              "      <th>LongestRun_mi</th>\n",
              "      <th>SkiableTerrain_ac</th>\n",
              "      <th>Snow Making_ac</th>\n",
              "      <th>daysOpenLastYear</th>\n",
              "      <th>yearsOpen</th>\n",
              "      <th>averageSnowfall</th>\n",
              "      <th>AdultWeekday</th>\n",
              "      <th>AdultWeekend</th>\n",
              "      <th>projectedDaysOpen</th>\n",
              "      <th>NightSkiing_ac</th>\n",
              "      <th>clusters</th>\n",
              "    </tr>\n",
              "  </thead>\n",
              "  <tbody>\n",
              "    <tr>\n",
              "      <th>0</th>\n",
              "      <td>Alyeska Resort</td>\n",
              "      <td>Alaska</td>\n",
              "      <td>3939</td>\n",
              "      <td>2500</td>\n",
              "      <td>2</td>\n",
              "      <td>2</td>\n",
              "      <td>0</td>\n",
              "      <td>0</td>\n",
              "      <td>2</td>\n",
              "      <td>7</td>\n",
              "      <td>76.0</td>\n",
              "      <td>2.0</td>\n",
              "      <td>1.0</td>\n",
              "      <td>1610.0</td>\n",
              "      <td>113.0</td>\n",
              "      <td>150.0</td>\n",
              "      <td>60.0</td>\n",
              "      <td>669.0</td>\n",
              "      <td>65.0</td>\n",
              "      <td>85.0</td>\n",
              "      <td>150.0</td>\n",
              "      <td>550.0</td>\n",
              "      <td>1</td>\n",
              "    </tr>\n",
              "    <tr>\n",
              "      <th>1</th>\n",
              "      <td>Eaglecrest Ski Area</td>\n",
              "      <td>Alaska</td>\n",
              "      <td>2600</td>\n",
              "      <td>1540</td>\n",
              "      <td>0</td>\n",
              "      <td>0</td>\n",
              "      <td>0</td>\n",
              "      <td>4</td>\n",
              "      <td>0</td>\n",
              "      <td>4</td>\n",
              "      <td>36.0</td>\n",
              "      <td>1.0</td>\n",
              "      <td>2.0</td>\n",
              "      <td>640.0</td>\n",
              "      <td>60.0</td>\n",
              "      <td>45.0</td>\n",
              "      <td>44.0</td>\n",
              "      <td>350.0</td>\n",
              "      <td>47.0</td>\n",
              "      <td>53.0</td>\n",
              "      <td>90.0</td>\n",
              "      <td>0.0</td>\n",
              "      <td>1</td>\n",
              "    </tr>\n",
              "    <tr>\n",
              "      <th>2</th>\n",
              "      <td>Hilltop Ski Area</td>\n",
              "      <td>Alaska</td>\n",
              "      <td>2090</td>\n",
              "      <td>294</td>\n",
              "      <td>0</td>\n",
              "      <td>0</td>\n",
              "      <td>1</td>\n",
              "      <td>0</td>\n",
              "      <td>2</td>\n",
              "      <td>3</td>\n",
              "      <td>13.0</td>\n",
              "      <td>1.0</td>\n",
              "      <td>1.0</td>\n",
              "      <td>30.0</td>\n",
              "      <td>30.0</td>\n",
              "      <td>150.0</td>\n",
              "      <td>36.0</td>\n",
              "      <td>69.0</td>\n",
              "      <td>30.0</td>\n",
              "      <td>34.0</td>\n",
              "      <td>152.0</td>\n",
              "      <td>30.0</td>\n",
              "      <td>1</td>\n",
              "    </tr>\n",
              "    <tr>\n",
              "      <th>3</th>\n",
              "      <td>Arizona Snowbowl</td>\n",
              "      <td>Arizona</td>\n",
              "      <td>11500</td>\n",
              "      <td>2300</td>\n",
              "      <td>0</td>\n",
              "      <td>2</td>\n",
              "      <td>2</td>\n",
              "      <td>1</td>\n",
              "      <td>2</td>\n",
              "      <td>8</td>\n",
              "      <td>55.0</td>\n",
              "      <td>4.0</td>\n",
              "      <td>2.0</td>\n",
              "      <td>777.0</td>\n",
              "      <td>104.0</td>\n",
              "      <td>122.0</td>\n",
              "      <td>81.0</td>\n",
              "      <td>260.0</td>\n",
              "      <td>89.0</td>\n",
              "      <td>89.0</td>\n",
              "      <td>122.0</td>\n",
              "      <td>0.0</td>\n",
              "      <td>0</td>\n",
              "    </tr>\n",
              "    <tr>\n",
              "      <th>4</th>\n",
              "      <td>Sunrise Park Resort</td>\n",
              "      <td>Arizona</td>\n",
              "      <td>11100</td>\n",
              "      <td>1800</td>\n",
              "      <td>1</td>\n",
              "      <td>2</td>\n",
              "      <td>3</td>\n",
              "      <td>1</td>\n",
              "      <td>0</td>\n",
              "      <td>7</td>\n",
              "      <td>65.0</td>\n",
              "      <td>2.0</td>\n",
              "      <td>1.2</td>\n",
              "      <td>800.0</td>\n",
              "      <td>80.0</td>\n",
              "      <td>115.0</td>\n",
              "      <td>49.0</td>\n",
              "      <td>250.0</td>\n",
              "      <td>74.0</td>\n",
              "      <td>78.0</td>\n",
              "      <td>104.0</td>\n",
              "      <td>80.0</td>\n",
              "      <td>0</td>\n",
              "    </tr>\n",
              "  </tbody>\n",
              "</table>\n",
              "</div>"
            ],
            "text/plain": [
              "                  Name    state  ...  NightSkiing_ac  clusters\n",
              "0       Alyeska Resort   Alaska  ...           550.0         1\n",
              "1  Eaglecrest Ski Area   Alaska  ...             0.0         1\n",
              "2     Hilltop Ski Area   Alaska  ...            30.0         1\n",
              "3     Arizona Snowbowl  Arizona  ...             0.0         0\n",
              "4  Sunrise Park Resort  Arizona  ...            80.0         0\n",
              "\n",
              "[5 rows x 23 columns]"
            ]
          },
          "metadata": {
            "tags": []
          },
          "execution_count": 36
        }
      ]
    },
    {
      "cell_type": "code",
      "metadata": {
        "id": "BLEHPiLLxPQS",
        "colab_type": "code",
        "colab": {
          "base_uri": "https://localhost:8080/",
          "height": 274
        },
        "outputId": "3f48824c-71ad-4f49-d95f-011b61b3c2d5"
      },
      "source": [
        "# Declare an explanatory variable, called x3, and assign it the result of dropping 'state', 'Name','summit_elev' and 'AdultWeekend' from the df3\n",
        "x3 = df3.drop(['state','Name','AdultWeekend','summit_elev'], axis=1)\n",
        "print(x3)\n",
        "\n",
        "# Declare a response variable, called y3, and assign it the AdultWeekend column of the df3 \n",
        "y3 = df3['AdultWeekend']\n",
        "\n",
        "# Here we use the StandardScaler() method of the preprocessing package, and then call the fit() method with parameter x3 \n",
        "scaler3 = preprocessing.StandardScaler().fit(x3)\n",
        "\n",
        "# Declare a variable called x3_scaled, and assign it the result of calling the transform() method with parameter x3 \n",
        "x3_scaled=scaler3.transform(x3)"
      ],
      "execution_count": 37,
      "outputs": [
        {
          "output_type": "stream",
          "text": [
            "     vertical_drop  fastQuads  ...  NightSkiing_ac  clusters\n",
            "0             2500          2  ...           550.0         1\n",
            "1             1540          0  ...             0.0         1\n",
            "2              294          0  ...            30.0         1\n",
            "3             2300          0  ...             0.0         0\n",
            "4             1800          1  ...            80.0         0\n",
            "..             ...        ...  ...             ...       ...\n",
            "325           1000          0  ...             0.0         3\n",
            "326            810          0  ...             0.0         3\n",
            "327           1571          0  ...           110.0         3\n",
            "328            990          0  ...             0.0         3\n",
            "329           1100          0  ...             0.0         3\n",
            "\n",
            "[330 rows x 19 columns]\n"
          ],
          "name": "stdout"
        }
      ]
    },
    {
      "cell_type": "code",
      "metadata": {
        "id": "zZOH2CYtxPkD",
        "colab_type": "code",
        "colab": {}
      },
      "source": [
        "# Get the 1-dimensional flattened array of our response variable y3 by calling the ravel() function on y3\n",
        "y3 = y3.ravel()\n",
        "# Call the train_test_split() function with the first two parameters set to x3_scaled and y3 \n",
        "# Declare four variables, s3_train, s3_test, y3_train and y3_test separated by commas \n",
        "s3_train, s3_test, y3_train, y3_test = train_test_split(x3_scaled, y3, test_size=0.25, random_state=1)"
      ],
      "execution_count": 38,
      "outputs": []
    },
    {
      "cell_type": "code",
      "metadata": {
        "id": "eYh7DnMexP_T",
        "colab_type": "code",
        "colab": {}
      },
      "source": [
        "lm3 = linear_model.LinearRegression()\n",
        "model3 = lm3.fit(s3_train,y3_train)"
      ],
      "execution_count": 39,
      "outputs": []
    },
    {
      "cell_type": "code",
      "metadata": {
        "id": "sjY4hXEuxQQp",
        "colab_type": "code",
        "colab": {}
      },
      "source": [
        "# Make a variable called y3_pred and assign it the result of calling predict() on our model variable with parameter x3_test\n",
        "y3_pred = model3.predict(s3_test)"
      ],
      "execution_count": 40,
      "outputs": []
    },
    {
      "cell_type": "code",
      "metadata": {
        "colab_type": "code",
        "id": "pq0pW7G9Anr_",
        "colab": {
          "base_uri": "https://localhost:8080/",
          "height": 35
        },
        "outputId": "d2ee82ff-8dfd-4d2e-a1a6-090799bec00f"
      },
      "source": [
        "explained_variance_score(y_true=y3_test, y_pred=y3_pred)"
      ],
      "execution_count": 41,
      "outputs": [
        {
          "output_type": "execute_result",
          "data": {
            "text/plain": [
              "0.9263168900468063"
            ]
          },
          "metadata": {
            "tags": []
          },
          "execution_count": 41
        }
      ]
    },
    {
      "cell_type": "code",
      "metadata": {
        "colab_type": "code",
        "id": "reXlf0HAAnsG",
        "colab": {
          "base_uri": "https://localhost:8080/",
          "height": 35
        },
        "outputId": "950d701d-f054-4185-c697-9ead942c625f"
      },
      "source": [
        "mean_absolute_error(y_true=y3_test, y_pred=y3_pred)"
      ],
      "execution_count": 42,
      "outputs": [
        {
          "output_type": "execute_result",
          "data": {
            "text/plain": [
              "5.471497752071906"
            ]
          },
          "metadata": {
            "tags": []
          },
          "execution_count": 42
        }
      ]
    },
    {
      "cell_type": "code",
      "metadata": {
        "id": "ZHHHD7Y_xlfI",
        "colab_type": "code",
        "colab": {
          "base_uri": "https://localhost:8080/",
          "height": 35
        },
        "outputId": "fe210690-44c5-4309-f161-6d30df7b23d2"
      },
      "source": [
        "lm3.intercept_"
      ],
      "execution_count": 43,
      "outputs": [
        {
          "output_type": "execute_result",
          "data": {
            "text/plain": [
              "64.07436966949007"
            ]
          },
          "metadata": {
            "tags": []
          },
          "execution_count": 43
        }
      ]
    },
    {
      "cell_type": "code",
      "metadata": {
        "id": "2bJRG8pExrbT",
        "colab_type": "code",
        "colab": {
          "base_uri": "https://localhost:8080/",
          "height": 384
        },
        "outputId": "19ca6363-9128-40fd-ed99-11facfc1d97d"
      },
      "source": [
        "# You might want to make a pandas DataFrame displaying the coefficients for each state like so: \n",
        "coef_data3 = []\n",
        "coef_data3 = pd.DataFrame(abs(lm3.coef_), x3.columns, columns=['Coefficient'])\n",
        "print(coef_data3)"
      ],
      "execution_count": 44,
      "outputs": [
        {
          "output_type": "stream",
          "text": [
            "                   Coefficient\n",
            "vertical_drop         1.090355\n",
            "fastQuads             0.299072\n",
            "quad                  1.329484\n",
            "triple                1.105076\n",
            "double                0.052905\n",
            "surface               1.536132\n",
            "total_chairs          1.592218\n",
            "Runs                  1.310954\n",
            "TerrainParks          0.107832\n",
            "LongestRun_mi         0.272616\n",
            "SkiableTerrain_ac     0.319464\n",
            "Snow Making_ac        0.395067\n",
            "daysOpenLastYear      0.922663\n",
            "yearsOpen             0.292590\n",
            "averageSnowfall       2.066468\n",
            "AdultWeekday         20.014486\n",
            "projectedDaysOpen     0.139252\n",
            "NightSkiing_ac        0.530249\n",
            "clusters              0.321841\n"
          ],
          "name": "stdout"
        }
      ]
    },
    {
      "cell_type": "code",
      "metadata": {
        "id": "MJJ3ZeSMxuFR",
        "colab_type": "code",
        "colab": {
          "base_uri": "https://localhost:8080/",
          "height": 645
        },
        "outputId": "03c99166-076e-4f20-8dca-8fa5d7fce090"
      },
      "source": [
        "coef_data3.sort_values(['Coefficient'], ascending=False)"
      ],
      "execution_count": 45,
      "outputs": [
        {
          "output_type": "execute_result",
          "data": {
            "text/html": [
              "<div>\n",
              "<style scoped>\n",
              "    .dataframe tbody tr th:only-of-type {\n",
              "        vertical-align: middle;\n",
              "    }\n",
              "\n",
              "    .dataframe tbody tr th {\n",
              "        vertical-align: top;\n",
              "    }\n",
              "\n",
              "    .dataframe thead th {\n",
              "        text-align: right;\n",
              "    }\n",
              "</style>\n",
              "<table border=\"1\" class=\"dataframe\">\n",
              "  <thead>\n",
              "    <tr style=\"text-align: right;\">\n",
              "      <th></th>\n",
              "      <th>Coefficient</th>\n",
              "    </tr>\n",
              "  </thead>\n",
              "  <tbody>\n",
              "    <tr>\n",
              "      <th>AdultWeekday</th>\n",
              "      <td>20.014486</td>\n",
              "    </tr>\n",
              "    <tr>\n",
              "      <th>averageSnowfall</th>\n",
              "      <td>2.066468</td>\n",
              "    </tr>\n",
              "    <tr>\n",
              "      <th>total_chairs</th>\n",
              "      <td>1.592218</td>\n",
              "    </tr>\n",
              "    <tr>\n",
              "      <th>surface</th>\n",
              "      <td>1.536132</td>\n",
              "    </tr>\n",
              "    <tr>\n",
              "      <th>quad</th>\n",
              "      <td>1.329484</td>\n",
              "    </tr>\n",
              "    <tr>\n",
              "      <th>Runs</th>\n",
              "      <td>1.310954</td>\n",
              "    </tr>\n",
              "    <tr>\n",
              "      <th>triple</th>\n",
              "      <td>1.105076</td>\n",
              "    </tr>\n",
              "    <tr>\n",
              "      <th>vertical_drop</th>\n",
              "      <td>1.090355</td>\n",
              "    </tr>\n",
              "    <tr>\n",
              "      <th>daysOpenLastYear</th>\n",
              "      <td>0.922663</td>\n",
              "    </tr>\n",
              "    <tr>\n",
              "      <th>NightSkiing_ac</th>\n",
              "      <td>0.530249</td>\n",
              "    </tr>\n",
              "    <tr>\n",
              "      <th>Snow Making_ac</th>\n",
              "      <td>0.395067</td>\n",
              "    </tr>\n",
              "    <tr>\n",
              "      <th>clusters</th>\n",
              "      <td>0.321841</td>\n",
              "    </tr>\n",
              "    <tr>\n",
              "      <th>SkiableTerrain_ac</th>\n",
              "      <td>0.319464</td>\n",
              "    </tr>\n",
              "    <tr>\n",
              "      <th>fastQuads</th>\n",
              "      <td>0.299072</td>\n",
              "    </tr>\n",
              "    <tr>\n",
              "      <th>yearsOpen</th>\n",
              "      <td>0.292590</td>\n",
              "    </tr>\n",
              "    <tr>\n",
              "      <th>LongestRun_mi</th>\n",
              "      <td>0.272616</td>\n",
              "    </tr>\n",
              "    <tr>\n",
              "      <th>projectedDaysOpen</th>\n",
              "      <td>0.139252</td>\n",
              "    </tr>\n",
              "    <tr>\n",
              "      <th>TerrainParks</th>\n",
              "      <td>0.107832</td>\n",
              "    </tr>\n",
              "    <tr>\n",
              "      <th>double</th>\n",
              "      <td>0.052905</td>\n",
              "    </tr>\n",
              "  </tbody>\n",
              "</table>\n",
              "</div>"
            ],
            "text/plain": [
              "                   Coefficient\n",
              "AdultWeekday         20.014486\n",
              "averageSnowfall       2.066468\n",
              "total_chairs          1.592218\n",
              "surface               1.536132\n",
              "quad                  1.329484\n",
              "Runs                  1.310954\n",
              "triple                1.105076\n",
              "vertical_drop         1.090355\n",
              "daysOpenLastYear      0.922663\n",
              "NightSkiing_ac        0.530249\n",
              "Snow Making_ac        0.395067\n",
              "clusters              0.321841\n",
              "SkiableTerrain_ac     0.319464\n",
              "fastQuads             0.299072\n",
              "yearsOpen             0.292590\n",
              "LongestRun_mi         0.272616\n",
              "projectedDaysOpen     0.139252\n",
              "TerrainParks          0.107832\n",
              "double                0.052905"
            ]
          },
          "metadata": {
            "tags": []
          },
          "execution_count": 45
        }
      ]
    },
    {
      "cell_type": "markdown",
      "metadata": {
        "id": "Vt-av5861sEt",
        "colab_type": "text"
      },
      "source": [
        "# **Model 4 - No Clusters Column**"
      ]
    },
    {
      "cell_type": "code",
      "metadata": {
        "colab_type": "code",
        "id": "5PKY4Wcb2FF4",
        "colab": {}
      },
      "source": [
        "df4 = pd.read_csv('step3_output.csv', index_col= None)"
      ],
      "execution_count": 46,
      "outputs": []
    },
    {
      "cell_type": "code",
      "metadata": {
        "colab_type": "code",
        "id": "sLMCUGOq2FGB",
        "colab": {
          "base_uri": "https://localhost:8080/",
          "height": 348
        },
        "outputId": "d174942a-0373-491d-888f-f42622c84e90"
      },
      "source": [
        "df4.head()"
      ],
      "execution_count": 47,
      "outputs": [
        {
          "output_type": "execute_result",
          "data": {
            "text/html": [
              "<div>\n",
              "<style scoped>\n",
              "    .dataframe tbody tr th:only-of-type {\n",
              "        vertical-align: middle;\n",
              "    }\n",
              "\n",
              "    .dataframe tbody tr th {\n",
              "        vertical-align: top;\n",
              "    }\n",
              "\n",
              "    .dataframe thead th {\n",
              "        text-align: right;\n",
              "    }\n",
              "</style>\n",
              "<table border=\"1\" class=\"dataframe\">\n",
              "  <thead>\n",
              "    <tr style=\"text-align: right;\">\n",
              "      <th></th>\n",
              "      <th>Name</th>\n",
              "      <th>state</th>\n",
              "      <th>summit_elev</th>\n",
              "      <th>vertical_drop</th>\n",
              "      <th>fastQuads</th>\n",
              "      <th>quad</th>\n",
              "      <th>triple</th>\n",
              "      <th>double</th>\n",
              "      <th>surface</th>\n",
              "      <th>total_chairs</th>\n",
              "      <th>Runs</th>\n",
              "      <th>TerrainParks</th>\n",
              "      <th>LongestRun_mi</th>\n",
              "      <th>SkiableTerrain_ac</th>\n",
              "      <th>Snow Making_ac</th>\n",
              "      <th>daysOpenLastYear</th>\n",
              "      <th>yearsOpen</th>\n",
              "      <th>averageSnowfall</th>\n",
              "      <th>AdultWeekday</th>\n",
              "      <th>AdultWeekend</th>\n",
              "      <th>projectedDaysOpen</th>\n",
              "      <th>NightSkiing_ac</th>\n",
              "      <th>clusters</th>\n",
              "    </tr>\n",
              "  </thead>\n",
              "  <tbody>\n",
              "    <tr>\n",
              "      <th>0</th>\n",
              "      <td>Alyeska Resort</td>\n",
              "      <td>Alaska</td>\n",
              "      <td>3939</td>\n",
              "      <td>2500</td>\n",
              "      <td>2</td>\n",
              "      <td>2</td>\n",
              "      <td>0</td>\n",
              "      <td>0</td>\n",
              "      <td>2</td>\n",
              "      <td>7</td>\n",
              "      <td>76.0</td>\n",
              "      <td>2.0</td>\n",
              "      <td>1.0</td>\n",
              "      <td>1610.0</td>\n",
              "      <td>113.0</td>\n",
              "      <td>150.0</td>\n",
              "      <td>60.0</td>\n",
              "      <td>669.0</td>\n",
              "      <td>65.0</td>\n",
              "      <td>85.0</td>\n",
              "      <td>150.0</td>\n",
              "      <td>550.0</td>\n",
              "      <td>1</td>\n",
              "    </tr>\n",
              "    <tr>\n",
              "      <th>1</th>\n",
              "      <td>Eaglecrest Ski Area</td>\n",
              "      <td>Alaska</td>\n",
              "      <td>2600</td>\n",
              "      <td>1540</td>\n",
              "      <td>0</td>\n",
              "      <td>0</td>\n",
              "      <td>0</td>\n",
              "      <td>4</td>\n",
              "      <td>0</td>\n",
              "      <td>4</td>\n",
              "      <td>36.0</td>\n",
              "      <td>1.0</td>\n",
              "      <td>2.0</td>\n",
              "      <td>640.0</td>\n",
              "      <td>60.0</td>\n",
              "      <td>45.0</td>\n",
              "      <td>44.0</td>\n",
              "      <td>350.0</td>\n",
              "      <td>47.0</td>\n",
              "      <td>53.0</td>\n",
              "      <td>90.0</td>\n",
              "      <td>0.0</td>\n",
              "      <td>1</td>\n",
              "    </tr>\n",
              "    <tr>\n",
              "      <th>2</th>\n",
              "      <td>Hilltop Ski Area</td>\n",
              "      <td>Alaska</td>\n",
              "      <td>2090</td>\n",
              "      <td>294</td>\n",
              "      <td>0</td>\n",
              "      <td>0</td>\n",
              "      <td>1</td>\n",
              "      <td>0</td>\n",
              "      <td>2</td>\n",
              "      <td>3</td>\n",
              "      <td>13.0</td>\n",
              "      <td>1.0</td>\n",
              "      <td>1.0</td>\n",
              "      <td>30.0</td>\n",
              "      <td>30.0</td>\n",
              "      <td>150.0</td>\n",
              "      <td>36.0</td>\n",
              "      <td>69.0</td>\n",
              "      <td>30.0</td>\n",
              "      <td>34.0</td>\n",
              "      <td>152.0</td>\n",
              "      <td>30.0</td>\n",
              "      <td>1</td>\n",
              "    </tr>\n",
              "    <tr>\n",
              "      <th>3</th>\n",
              "      <td>Arizona Snowbowl</td>\n",
              "      <td>Arizona</td>\n",
              "      <td>11500</td>\n",
              "      <td>2300</td>\n",
              "      <td>0</td>\n",
              "      <td>2</td>\n",
              "      <td>2</td>\n",
              "      <td>1</td>\n",
              "      <td>2</td>\n",
              "      <td>8</td>\n",
              "      <td>55.0</td>\n",
              "      <td>4.0</td>\n",
              "      <td>2.0</td>\n",
              "      <td>777.0</td>\n",
              "      <td>104.0</td>\n",
              "      <td>122.0</td>\n",
              "      <td>81.0</td>\n",
              "      <td>260.0</td>\n",
              "      <td>89.0</td>\n",
              "      <td>89.0</td>\n",
              "      <td>122.0</td>\n",
              "      <td>0.0</td>\n",
              "      <td>0</td>\n",
              "    </tr>\n",
              "    <tr>\n",
              "      <th>4</th>\n",
              "      <td>Sunrise Park Resort</td>\n",
              "      <td>Arizona</td>\n",
              "      <td>11100</td>\n",
              "      <td>1800</td>\n",
              "      <td>1</td>\n",
              "      <td>2</td>\n",
              "      <td>3</td>\n",
              "      <td>1</td>\n",
              "      <td>0</td>\n",
              "      <td>7</td>\n",
              "      <td>65.0</td>\n",
              "      <td>2.0</td>\n",
              "      <td>1.2</td>\n",
              "      <td>800.0</td>\n",
              "      <td>80.0</td>\n",
              "      <td>115.0</td>\n",
              "      <td>49.0</td>\n",
              "      <td>250.0</td>\n",
              "      <td>74.0</td>\n",
              "      <td>78.0</td>\n",
              "      <td>104.0</td>\n",
              "      <td>80.0</td>\n",
              "      <td>0</td>\n",
              "    </tr>\n",
              "  </tbody>\n",
              "</table>\n",
              "</div>"
            ],
            "text/plain": [
              "                  Name    state  ...  NightSkiing_ac  clusters\n",
              "0       Alyeska Resort   Alaska  ...           550.0         1\n",
              "1  Eaglecrest Ski Area   Alaska  ...             0.0         1\n",
              "2     Hilltop Ski Area   Alaska  ...            30.0         1\n",
              "3     Arizona Snowbowl  Arizona  ...             0.0         0\n",
              "4  Sunrise Park Resort  Arizona  ...            80.0         0\n",
              "\n",
              "[5 rows x 23 columns]"
            ]
          },
          "metadata": {
            "tags": []
          },
          "execution_count": 47
        }
      ]
    },
    {
      "cell_type": "code",
      "metadata": {
        "colab_type": "code",
        "id": "3dcIVTo_2FGH",
        "colab": {
          "base_uri": "https://localhost:8080/",
          "height": 274
        },
        "outputId": "f053f381-48dc-4ac4-ad62-9ae0b2c31ef1"
      },
      "source": [
        "# Declare an explanatory variable, called x4, and assign it the result of dropping 'clusters','state','Name','summit_elev' and 'AdultWeekend' from the df4\n",
        "x4 = df4.drop(['state','Name','AdultWeekend','summit_elev','clusters'], axis=1)\n",
        "print(x4)\n",
        "\n",
        "# Declare a response variable, called y4, and assign it the AdultWeekend column of the df4 \n",
        "y4 = df4['AdultWeekend']\n",
        "\n",
        "# Here we use the StandardScaler() method of the preprocessing package, and then call the fit() method with parameter x4 \n",
        "scaler4 = preprocessing.StandardScaler().fit(x4)\n",
        "\n",
        "# Declare a variable called x4_scaled, and assign it the result of calling the transform() method with parameter x4 \n",
        "x4_scaled=scaler4.transform(x4)"
      ],
      "execution_count": 48,
      "outputs": [
        {
          "output_type": "stream",
          "text": [
            "     vertical_drop  fastQuads  ...  projectedDaysOpen  NightSkiing_ac\n",
            "0             2500          2  ...         150.000000           550.0\n",
            "1             1540          0  ...          90.000000             0.0\n",
            "2              294          0  ...         152.000000            30.0\n",
            "3             2300          0  ...         122.000000             0.0\n",
            "4             1800          1  ...         104.000000            80.0\n",
            "..             ...        ...  ...                ...             ...\n",
            "325           1000          0  ...         120.053004             0.0\n",
            "326            810          0  ...          77.000000             0.0\n",
            "327           1571          0  ...         123.000000           110.0\n",
            "328            990          0  ...         120.053004             0.0\n",
            "329           1100          0  ...         120.053004             0.0\n",
            "\n",
            "[330 rows x 18 columns]\n"
          ],
          "name": "stdout"
        }
      ]
    },
    {
      "cell_type": "code",
      "metadata": {
        "colab_type": "code",
        "id": "Zb56NK8a2FGN",
        "colab": {}
      },
      "source": [
        "# Get the 1-dimensional flattened array of our response variable y4 by calling the ravel() function on y4\n",
        "y4 = y4.ravel()\n",
        "# Call the train_test_split() function with the first two parameters set to x4_scaled and y4 \n",
        "# Declare four variables, s4_train, s4_test, y4_train and y4_test separated by commas \n",
        "s4_train, s4_test, y4_train, y4_test = train_test_split(x4_scaled, y4, test_size=0.25, random_state=1)"
      ],
      "execution_count": 49,
      "outputs": []
    },
    {
      "cell_type": "code",
      "metadata": {
        "colab_type": "code",
        "id": "ukYXuNPF2FGS",
        "colab": {}
      },
      "source": [
        "lm4 = linear_model.LinearRegression()\n",
        "model4 = lm4.fit(s4_train,y4_train)"
      ],
      "execution_count": 50,
      "outputs": []
    },
    {
      "cell_type": "code",
      "metadata": {
        "colab_type": "code",
        "id": "SAWfmc0L2FGX",
        "colab": {}
      },
      "source": [
        "# Make a variable called y4_pred and assign it the result of calling predict() on our model variable with parameter x4_test\n",
        "y4_pred = model4.predict(s4_test)"
      ],
      "execution_count": 51,
      "outputs": []
    },
    {
      "cell_type": "code",
      "metadata": {
        "colab_type": "code",
        "id": "1hOjvdPm2FGc",
        "colab": {
          "base_uri": "https://localhost:8080/",
          "height": 35
        },
        "outputId": "07930e99-f7e9-4659-ba6d-bfed862d6ce0"
      },
      "source": [
        "explained_variance_score(y_true=y4_test, y_pred=y4_pred)"
      ],
      "execution_count": 52,
      "outputs": [
        {
          "output_type": "execute_result",
          "data": {
            "text/plain": [
              "0.9248663129115536"
            ]
          },
          "metadata": {
            "tags": []
          },
          "execution_count": 52
        }
      ]
    },
    {
      "cell_type": "code",
      "metadata": {
        "colab_type": "code",
        "id": "Jo6LnJ7z2FGi",
        "colab": {
          "base_uri": "https://localhost:8080/",
          "height": 35
        },
        "outputId": "341cd9c6-0e5b-4090-a2d2-1b592db25bad"
      },
      "source": [
        "mean_absolute_error(y_true=y4_test, y_pred=y4_pred)"
      ],
      "execution_count": 53,
      "outputs": [
        {
          "output_type": "execute_result",
          "data": {
            "text/plain": [
              "5.542609970084944"
            ]
          },
          "metadata": {
            "tags": []
          },
          "execution_count": 53
        }
      ]
    },
    {
      "cell_type": "code",
      "metadata": {
        "colab_type": "code",
        "id": "-mVq1gMI2FGq",
        "colab": {
          "base_uri": "https://localhost:8080/",
          "height": 35
        },
        "outputId": "7d4b73bf-dff0-4f2f-df4e-24f362a8e38f"
      },
      "source": [
        "lm4.intercept_"
      ],
      "execution_count": 54,
      "outputs": [
        {
          "output_type": "execute_result",
          "data": {
            "text/plain": [
              "64.07178997728322"
            ]
          },
          "metadata": {
            "tags": []
          },
          "execution_count": 54
        }
      ]
    },
    {
      "cell_type": "code",
      "metadata": {
        "colab_type": "code",
        "id": "36qcJrlY2FGv",
        "colab": {
          "base_uri": "https://localhost:8080/",
          "height": 366
        },
        "outputId": "45c2e00a-9963-4fda-fff0-6f7efd9e59e7"
      },
      "source": [
        "# You might want to make a pandas DataFrame displaying the coefficients for each state like so: \n",
        "coef_data4 = []\n",
        "coef_data4 = pd.DataFrame(abs(lm4.coef_), x4.columns, columns=['Coefficient'])\n",
        "print(coef_data4)"
      ],
      "execution_count": 55,
      "outputs": [
        {
          "output_type": "stream",
          "text": [
            "                   Coefficient\n",
            "vertical_drop         1.011005\n",
            "fastQuads             0.345907\n",
            "quad                  1.336541\n",
            "triple                1.107624\n",
            "double                0.048383\n",
            "surface               1.491233\n",
            "total_chairs          1.564824\n",
            "Runs                  1.190480\n",
            "TerrainParks          0.110023\n",
            "LongestRun_mi         0.291573\n",
            "SkiableTerrain_ac     0.314681\n",
            "Snow Making_ac        0.447529\n",
            "daysOpenLastYear      0.976423\n",
            "yearsOpen             0.294256\n",
            "averageSnowfall       2.163483\n",
            "AdultWeekday         20.068013\n",
            "projectedDaysOpen     0.184608\n",
            "NightSkiing_ac        0.474297\n"
          ],
          "name": "stdout"
        }
      ]
    },
    {
      "cell_type": "code",
      "metadata": {
        "colab_type": "code",
        "id": "EhapH4rx2FG0",
        "colab": {
          "base_uri": "https://localhost:8080/",
          "height": 614
        },
        "outputId": "ffb1daee-aa65-446d-8f7f-8ce9166057d8"
      },
      "source": [
        "coef_data4.sort_values(['Coefficient'], ascending=False)"
      ],
      "execution_count": 56,
      "outputs": [
        {
          "output_type": "execute_result",
          "data": {
            "text/html": [
              "<div>\n",
              "<style scoped>\n",
              "    .dataframe tbody tr th:only-of-type {\n",
              "        vertical-align: middle;\n",
              "    }\n",
              "\n",
              "    .dataframe tbody tr th {\n",
              "        vertical-align: top;\n",
              "    }\n",
              "\n",
              "    .dataframe thead th {\n",
              "        text-align: right;\n",
              "    }\n",
              "</style>\n",
              "<table border=\"1\" class=\"dataframe\">\n",
              "  <thead>\n",
              "    <tr style=\"text-align: right;\">\n",
              "      <th></th>\n",
              "      <th>Coefficient</th>\n",
              "    </tr>\n",
              "  </thead>\n",
              "  <tbody>\n",
              "    <tr>\n",
              "      <th>AdultWeekday</th>\n",
              "      <td>20.068013</td>\n",
              "    </tr>\n",
              "    <tr>\n",
              "      <th>averageSnowfall</th>\n",
              "      <td>2.163483</td>\n",
              "    </tr>\n",
              "    <tr>\n",
              "      <th>total_chairs</th>\n",
              "      <td>1.564824</td>\n",
              "    </tr>\n",
              "    <tr>\n",
              "      <th>surface</th>\n",
              "      <td>1.491233</td>\n",
              "    </tr>\n",
              "    <tr>\n",
              "      <th>quad</th>\n",
              "      <td>1.336541</td>\n",
              "    </tr>\n",
              "    <tr>\n",
              "      <th>Runs</th>\n",
              "      <td>1.190480</td>\n",
              "    </tr>\n",
              "    <tr>\n",
              "      <th>triple</th>\n",
              "      <td>1.107624</td>\n",
              "    </tr>\n",
              "    <tr>\n",
              "      <th>vertical_drop</th>\n",
              "      <td>1.011005</td>\n",
              "    </tr>\n",
              "    <tr>\n",
              "      <th>daysOpenLastYear</th>\n",
              "      <td>0.976423</td>\n",
              "    </tr>\n",
              "    <tr>\n",
              "      <th>NightSkiing_ac</th>\n",
              "      <td>0.474297</td>\n",
              "    </tr>\n",
              "    <tr>\n",
              "      <th>Snow Making_ac</th>\n",
              "      <td>0.447529</td>\n",
              "    </tr>\n",
              "    <tr>\n",
              "      <th>fastQuads</th>\n",
              "      <td>0.345907</td>\n",
              "    </tr>\n",
              "    <tr>\n",
              "      <th>SkiableTerrain_ac</th>\n",
              "      <td>0.314681</td>\n",
              "    </tr>\n",
              "    <tr>\n",
              "      <th>yearsOpen</th>\n",
              "      <td>0.294256</td>\n",
              "    </tr>\n",
              "    <tr>\n",
              "      <th>LongestRun_mi</th>\n",
              "      <td>0.291573</td>\n",
              "    </tr>\n",
              "    <tr>\n",
              "      <th>projectedDaysOpen</th>\n",
              "      <td>0.184608</td>\n",
              "    </tr>\n",
              "    <tr>\n",
              "      <th>TerrainParks</th>\n",
              "      <td>0.110023</td>\n",
              "    </tr>\n",
              "    <tr>\n",
              "      <th>double</th>\n",
              "      <td>0.048383</td>\n",
              "    </tr>\n",
              "  </tbody>\n",
              "</table>\n",
              "</div>"
            ],
            "text/plain": [
              "                   Coefficient\n",
              "AdultWeekday         20.068013\n",
              "averageSnowfall       2.163483\n",
              "total_chairs          1.564824\n",
              "surface               1.491233\n",
              "quad                  1.336541\n",
              "Runs                  1.190480\n",
              "triple                1.107624\n",
              "vertical_drop         1.011005\n",
              "daysOpenLastYear      0.976423\n",
              "NightSkiing_ac        0.474297\n",
              "Snow Making_ac        0.447529\n",
              "fastQuads             0.345907\n",
              "SkiableTerrain_ac     0.314681\n",
              "yearsOpen             0.294256\n",
              "LongestRun_mi         0.291573\n",
              "projectedDaysOpen     0.184608\n",
              "TerrainParks          0.110023\n",
              "double                0.048383"
            ]
          },
          "metadata": {
            "tags": []
          },
          "execution_count": 56
        }
      ]
    },
    {
      "cell_type": "markdown",
      "metadata": {
        "id": "vULu1EsW4INg",
        "colab_type": "text"
      },
      "source": [
        "# **Model 5: Drop AdultWeekday Column**"
      ]
    },
    {
      "cell_type": "code",
      "metadata": {
        "colab_type": "code",
        "id": "yYlHAudA5iwZ",
        "colab": {}
      },
      "source": [
        "df5 = pd.read_csv('step3_output.csv', index_col= None)"
      ],
      "execution_count": 57,
      "outputs": []
    },
    {
      "cell_type": "code",
      "metadata": {
        "colab_type": "code",
        "id": "eHp93zwk5iwm",
        "colab": {
          "base_uri": "https://localhost:8080/",
          "height": 348
        },
        "outputId": "c8649ce4-389a-49f8-c5f4-46cc5b250acc"
      },
      "source": [
        "df5.head()"
      ],
      "execution_count": 58,
      "outputs": [
        {
          "output_type": "execute_result",
          "data": {
            "text/html": [
              "<div>\n",
              "<style scoped>\n",
              "    .dataframe tbody tr th:only-of-type {\n",
              "        vertical-align: middle;\n",
              "    }\n",
              "\n",
              "    .dataframe tbody tr th {\n",
              "        vertical-align: top;\n",
              "    }\n",
              "\n",
              "    .dataframe thead th {\n",
              "        text-align: right;\n",
              "    }\n",
              "</style>\n",
              "<table border=\"1\" class=\"dataframe\">\n",
              "  <thead>\n",
              "    <tr style=\"text-align: right;\">\n",
              "      <th></th>\n",
              "      <th>Name</th>\n",
              "      <th>state</th>\n",
              "      <th>summit_elev</th>\n",
              "      <th>vertical_drop</th>\n",
              "      <th>fastQuads</th>\n",
              "      <th>quad</th>\n",
              "      <th>triple</th>\n",
              "      <th>double</th>\n",
              "      <th>surface</th>\n",
              "      <th>total_chairs</th>\n",
              "      <th>Runs</th>\n",
              "      <th>TerrainParks</th>\n",
              "      <th>LongestRun_mi</th>\n",
              "      <th>SkiableTerrain_ac</th>\n",
              "      <th>Snow Making_ac</th>\n",
              "      <th>daysOpenLastYear</th>\n",
              "      <th>yearsOpen</th>\n",
              "      <th>averageSnowfall</th>\n",
              "      <th>AdultWeekday</th>\n",
              "      <th>AdultWeekend</th>\n",
              "      <th>projectedDaysOpen</th>\n",
              "      <th>NightSkiing_ac</th>\n",
              "      <th>clusters</th>\n",
              "    </tr>\n",
              "  </thead>\n",
              "  <tbody>\n",
              "    <tr>\n",
              "      <th>0</th>\n",
              "      <td>Alyeska Resort</td>\n",
              "      <td>Alaska</td>\n",
              "      <td>3939</td>\n",
              "      <td>2500</td>\n",
              "      <td>2</td>\n",
              "      <td>2</td>\n",
              "      <td>0</td>\n",
              "      <td>0</td>\n",
              "      <td>2</td>\n",
              "      <td>7</td>\n",
              "      <td>76.0</td>\n",
              "      <td>2.0</td>\n",
              "      <td>1.0</td>\n",
              "      <td>1610.0</td>\n",
              "      <td>113.0</td>\n",
              "      <td>150.0</td>\n",
              "      <td>60.0</td>\n",
              "      <td>669.0</td>\n",
              "      <td>65.0</td>\n",
              "      <td>85.0</td>\n",
              "      <td>150.0</td>\n",
              "      <td>550.0</td>\n",
              "      <td>1</td>\n",
              "    </tr>\n",
              "    <tr>\n",
              "      <th>1</th>\n",
              "      <td>Eaglecrest Ski Area</td>\n",
              "      <td>Alaska</td>\n",
              "      <td>2600</td>\n",
              "      <td>1540</td>\n",
              "      <td>0</td>\n",
              "      <td>0</td>\n",
              "      <td>0</td>\n",
              "      <td>4</td>\n",
              "      <td>0</td>\n",
              "      <td>4</td>\n",
              "      <td>36.0</td>\n",
              "      <td>1.0</td>\n",
              "      <td>2.0</td>\n",
              "      <td>640.0</td>\n",
              "      <td>60.0</td>\n",
              "      <td>45.0</td>\n",
              "      <td>44.0</td>\n",
              "      <td>350.0</td>\n",
              "      <td>47.0</td>\n",
              "      <td>53.0</td>\n",
              "      <td>90.0</td>\n",
              "      <td>0.0</td>\n",
              "      <td>1</td>\n",
              "    </tr>\n",
              "    <tr>\n",
              "      <th>2</th>\n",
              "      <td>Hilltop Ski Area</td>\n",
              "      <td>Alaska</td>\n",
              "      <td>2090</td>\n",
              "      <td>294</td>\n",
              "      <td>0</td>\n",
              "      <td>0</td>\n",
              "      <td>1</td>\n",
              "      <td>0</td>\n",
              "      <td>2</td>\n",
              "      <td>3</td>\n",
              "      <td>13.0</td>\n",
              "      <td>1.0</td>\n",
              "      <td>1.0</td>\n",
              "      <td>30.0</td>\n",
              "      <td>30.0</td>\n",
              "      <td>150.0</td>\n",
              "      <td>36.0</td>\n",
              "      <td>69.0</td>\n",
              "      <td>30.0</td>\n",
              "      <td>34.0</td>\n",
              "      <td>152.0</td>\n",
              "      <td>30.0</td>\n",
              "      <td>1</td>\n",
              "    </tr>\n",
              "    <tr>\n",
              "      <th>3</th>\n",
              "      <td>Arizona Snowbowl</td>\n",
              "      <td>Arizona</td>\n",
              "      <td>11500</td>\n",
              "      <td>2300</td>\n",
              "      <td>0</td>\n",
              "      <td>2</td>\n",
              "      <td>2</td>\n",
              "      <td>1</td>\n",
              "      <td>2</td>\n",
              "      <td>8</td>\n",
              "      <td>55.0</td>\n",
              "      <td>4.0</td>\n",
              "      <td>2.0</td>\n",
              "      <td>777.0</td>\n",
              "      <td>104.0</td>\n",
              "      <td>122.0</td>\n",
              "      <td>81.0</td>\n",
              "      <td>260.0</td>\n",
              "      <td>89.0</td>\n",
              "      <td>89.0</td>\n",
              "      <td>122.0</td>\n",
              "      <td>0.0</td>\n",
              "      <td>0</td>\n",
              "    </tr>\n",
              "    <tr>\n",
              "      <th>4</th>\n",
              "      <td>Sunrise Park Resort</td>\n",
              "      <td>Arizona</td>\n",
              "      <td>11100</td>\n",
              "      <td>1800</td>\n",
              "      <td>1</td>\n",
              "      <td>2</td>\n",
              "      <td>3</td>\n",
              "      <td>1</td>\n",
              "      <td>0</td>\n",
              "      <td>7</td>\n",
              "      <td>65.0</td>\n",
              "      <td>2.0</td>\n",
              "      <td>1.2</td>\n",
              "      <td>800.0</td>\n",
              "      <td>80.0</td>\n",
              "      <td>115.0</td>\n",
              "      <td>49.0</td>\n",
              "      <td>250.0</td>\n",
              "      <td>74.0</td>\n",
              "      <td>78.0</td>\n",
              "      <td>104.0</td>\n",
              "      <td>80.0</td>\n",
              "      <td>0</td>\n",
              "    </tr>\n",
              "  </tbody>\n",
              "</table>\n",
              "</div>"
            ],
            "text/plain": [
              "                  Name    state  ...  NightSkiing_ac  clusters\n",
              "0       Alyeska Resort   Alaska  ...           550.0         1\n",
              "1  Eaglecrest Ski Area   Alaska  ...             0.0         1\n",
              "2     Hilltop Ski Area   Alaska  ...            30.0         1\n",
              "3     Arizona Snowbowl  Arizona  ...             0.0         0\n",
              "4  Sunrise Park Resort  Arizona  ...            80.0         0\n",
              "\n",
              "[5 rows x 23 columns]"
            ]
          },
          "metadata": {
            "tags": []
          },
          "execution_count": 58
        }
      ]
    },
    {
      "cell_type": "code",
      "metadata": {
        "colab_type": "code",
        "id": "ZHUmksx15iwt",
        "colab": {
          "base_uri": "https://localhost:8080/",
          "height": 274
        },
        "outputId": "3abb4e82-1638-436f-e1aa-5187087425e4"
      },
      "source": [
        "# Declare an explanatory variable, called x5, and assign it the result of dropping 'AdultWeekday','clusters','state','Name','summit_elev' and 'AdultWeekend' from the df5\n",
        "x5 = df5.drop(['state','Name','AdultWeekend','summit_elev','clusters','AdultWeekday'], axis=1)\n",
        "print(x5)\n",
        "\n",
        "# Declare a response variable, called y5, and assign it the AdultWeekend column of the df5 \n",
        "y5 = df5['AdultWeekend']\n",
        "\n",
        "# Here we use the StandardScaler() method of the preprocessing package, and then call the fit() method with parameter x5 \n",
        "scaler5 = preprocessing.StandardScaler().fit(x5)\n",
        "\n",
        "# Declare a variable called x5_scaled, and assign it the result of calling the transform() method with parameter x5 \n",
        "x5_scaled=scaler5.transform(x5)"
      ],
      "execution_count": 59,
      "outputs": [
        {
          "output_type": "stream",
          "text": [
            "     vertical_drop  fastQuads  ...  projectedDaysOpen  NightSkiing_ac\n",
            "0             2500          2  ...         150.000000           550.0\n",
            "1             1540          0  ...          90.000000             0.0\n",
            "2              294          0  ...         152.000000            30.0\n",
            "3             2300          0  ...         122.000000             0.0\n",
            "4             1800          1  ...         104.000000            80.0\n",
            "..             ...        ...  ...                ...             ...\n",
            "325           1000          0  ...         120.053004             0.0\n",
            "326            810          0  ...          77.000000             0.0\n",
            "327           1571          0  ...         123.000000           110.0\n",
            "328            990          0  ...         120.053004             0.0\n",
            "329           1100          0  ...         120.053004             0.0\n",
            "\n",
            "[330 rows x 17 columns]\n"
          ],
          "name": "stdout"
        }
      ]
    },
    {
      "cell_type": "code",
      "metadata": {
        "colab_type": "code",
        "id": "kZnbw4gZ5iwz",
        "colab": {}
      },
      "source": [
        "# Get the 1-dimensional flattened array of our response variable y5 by calling the ravel() function on y5\n",
        "y5 = y5.ravel()\n",
        "# Call the train_test_split() function with the first two parameters set to x5_scaled and y5 \n",
        "# Declare four variables, s5_train, s5_test, y5_train and y5_test separated by commas \n",
        "s5_train, s5_test, y5_train, y5_test = train_test_split(x5_scaled, y5, test_size=0.25, random_state=1)"
      ],
      "execution_count": 60,
      "outputs": []
    },
    {
      "cell_type": "code",
      "metadata": {
        "colab_type": "code",
        "id": "4xBZcH9x5iw4",
        "colab": {}
      },
      "source": [
        "lm5 = linear_model.LinearRegression()\n",
        "model5 = lm5.fit(s5_train,y5_train)"
      ],
      "execution_count": 61,
      "outputs": []
    },
    {
      "cell_type": "code",
      "metadata": {
        "colab_type": "code",
        "id": "c_TwqfZk5iw9",
        "colab": {}
      },
      "source": [
        "# Make a variable called y5_pred and assign it the result of calling predict() on our model variable with parameter x5_test\n",
        "y5_pred = model5.predict(s5_test)"
      ],
      "execution_count": 62,
      "outputs": []
    },
    {
      "cell_type": "code",
      "metadata": {
        "colab_type": "code",
        "id": "w3nGI1m85ixD",
        "colab": {
          "base_uri": "https://localhost:8080/",
          "height": 35
        },
        "outputId": "69b53540-a606-4ee5-cbf3-e95ab84f52fc"
      },
      "source": [
        "explained_variance_score(y_true=y5_test, y_pred=y5_pred)"
      ],
      "execution_count": 63,
      "outputs": [
        {
          "output_type": "execute_result",
          "data": {
            "text/plain": [
              "0.19530052423907873"
            ]
          },
          "metadata": {
            "tags": []
          },
          "execution_count": 63
        }
      ]
    },
    {
      "cell_type": "code",
      "metadata": {
        "colab_type": "code",
        "id": "4LRDua8w5ixK",
        "colab": {
          "base_uri": "https://localhost:8080/",
          "height": 35
        },
        "outputId": "877b7c19-b079-45c0-85b3-850b1fea6cf1"
      },
      "source": [
        "mean_absolute_error(y_true=y5_test, y_pred=y5_pred)"
      ],
      "execution_count": 64,
      "outputs": [
        {
          "output_type": "execute_result",
          "data": {
            "text/plain": [
              "15.594577238830501"
            ]
          },
          "metadata": {
            "tags": []
          },
          "execution_count": 64
        }
      ]
    },
    {
      "cell_type": "code",
      "metadata": {
        "colab_type": "code",
        "id": "0-JyAouz5ixP",
        "colab": {
          "base_uri": "https://localhost:8080/",
          "height": 35
        },
        "outputId": "b200ae73-ab53-4c9d-8a40-9add229f9d59"
      },
      "source": [
        "lm5.intercept_"
      ],
      "execution_count": 65,
      "outputs": [
        {
          "output_type": "execute_result",
          "data": {
            "text/plain": [
              "64.20764002530588"
            ]
          },
          "metadata": {
            "tags": []
          },
          "execution_count": 65
        }
      ]
    },
    {
      "cell_type": "code",
      "metadata": {
        "colab_type": "code",
        "id": "X51g9oba5ixT",
        "colab": {
          "base_uri": "https://localhost:8080/",
          "height": 348
        },
        "outputId": "9c561c7e-8658-4d93-f26e-d8d505e7874f"
      },
      "source": [
        "# You might want to make a pandas DataFrame displaying the coefficients for each state like so: \n",
        "coef_data5 = []\n",
        "coef_data5 = pd.DataFrame(abs(lm5.coef_), x5.columns, columns=['Coefficient'])\n",
        "print(coef_data5)"
      ],
      "execution_count": 66,
      "outputs": [
        {
          "output_type": "stream",
          "text": [
            "                   Coefficient\n",
            "vertical_drop         7.048036\n",
            "fastQuads            10.163979\n",
            "quad                  7.826587\n",
            "triple                8.139245\n",
            "double                6.763739\n",
            "surface               3.800667\n",
            "total_chairs         17.829982\n",
            "Runs                  1.456091\n",
            "TerrainParks          0.881811\n",
            "LongestRun_mi         0.896640\n",
            "SkiableTerrain_ac     0.703635\n",
            "Snow Making_ac        9.062039\n",
            "daysOpenLastYear      1.319885\n",
            "yearsOpen             0.689368\n",
            "averageSnowfall       0.083391\n",
            "projectedDaysOpen     1.628074\n",
            "NightSkiing_ac        0.836592\n"
          ],
          "name": "stdout"
        }
      ]
    },
    {
      "cell_type": "code",
      "metadata": {
        "colab_type": "code",
        "id": "Y2UsRqBg5ixW",
        "colab": {
          "base_uri": "https://localhost:8080/",
          "height": 583
        },
        "outputId": "c49ab117-723f-41b5-cd8c-4d74fe2b9341"
      },
      "source": [
        "coef_data5.sort_values(['Coefficient'], ascending=False)"
      ],
      "execution_count": 67,
      "outputs": [
        {
          "output_type": "execute_result",
          "data": {
            "text/html": [
              "<div>\n",
              "<style scoped>\n",
              "    .dataframe tbody tr th:only-of-type {\n",
              "        vertical-align: middle;\n",
              "    }\n",
              "\n",
              "    .dataframe tbody tr th {\n",
              "        vertical-align: top;\n",
              "    }\n",
              "\n",
              "    .dataframe thead th {\n",
              "        text-align: right;\n",
              "    }\n",
              "</style>\n",
              "<table border=\"1\" class=\"dataframe\">\n",
              "  <thead>\n",
              "    <tr style=\"text-align: right;\">\n",
              "      <th></th>\n",
              "      <th>Coefficient</th>\n",
              "    </tr>\n",
              "  </thead>\n",
              "  <tbody>\n",
              "    <tr>\n",
              "      <th>total_chairs</th>\n",
              "      <td>17.829982</td>\n",
              "    </tr>\n",
              "    <tr>\n",
              "      <th>fastQuads</th>\n",
              "      <td>10.163979</td>\n",
              "    </tr>\n",
              "    <tr>\n",
              "      <th>Snow Making_ac</th>\n",
              "      <td>9.062039</td>\n",
              "    </tr>\n",
              "    <tr>\n",
              "      <th>triple</th>\n",
              "      <td>8.139245</td>\n",
              "    </tr>\n",
              "    <tr>\n",
              "      <th>quad</th>\n",
              "      <td>7.826587</td>\n",
              "    </tr>\n",
              "    <tr>\n",
              "      <th>vertical_drop</th>\n",
              "      <td>7.048036</td>\n",
              "    </tr>\n",
              "    <tr>\n",
              "      <th>double</th>\n",
              "      <td>6.763739</td>\n",
              "    </tr>\n",
              "    <tr>\n",
              "      <th>surface</th>\n",
              "      <td>3.800667</td>\n",
              "    </tr>\n",
              "    <tr>\n",
              "      <th>projectedDaysOpen</th>\n",
              "      <td>1.628074</td>\n",
              "    </tr>\n",
              "    <tr>\n",
              "      <th>Runs</th>\n",
              "      <td>1.456091</td>\n",
              "    </tr>\n",
              "    <tr>\n",
              "      <th>daysOpenLastYear</th>\n",
              "      <td>1.319885</td>\n",
              "    </tr>\n",
              "    <tr>\n",
              "      <th>LongestRun_mi</th>\n",
              "      <td>0.896640</td>\n",
              "    </tr>\n",
              "    <tr>\n",
              "      <th>TerrainParks</th>\n",
              "      <td>0.881811</td>\n",
              "    </tr>\n",
              "    <tr>\n",
              "      <th>NightSkiing_ac</th>\n",
              "      <td>0.836592</td>\n",
              "    </tr>\n",
              "    <tr>\n",
              "      <th>SkiableTerrain_ac</th>\n",
              "      <td>0.703635</td>\n",
              "    </tr>\n",
              "    <tr>\n",
              "      <th>yearsOpen</th>\n",
              "      <td>0.689368</td>\n",
              "    </tr>\n",
              "    <tr>\n",
              "      <th>averageSnowfall</th>\n",
              "      <td>0.083391</td>\n",
              "    </tr>\n",
              "  </tbody>\n",
              "</table>\n",
              "</div>"
            ],
            "text/plain": [
              "                   Coefficient\n",
              "total_chairs         17.829982\n",
              "fastQuads            10.163979\n",
              "Snow Making_ac        9.062039\n",
              "triple                8.139245\n",
              "quad                  7.826587\n",
              "vertical_drop         7.048036\n",
              "double                6.763739\n",
              "surface               3.800667\n",
              "projectedDaysOpen     1.628074\n",
              "Runs                  1.456091\n",
              "daysOpenLastYear      1.319885\n",
              "LongestRun_mi         0.896640\n",
              "TerrainParks          0.881811\n",
              "NightSkiing_ac        0.836592\n",
              "SkiableTerrain_ac     0.703635\n",
              "yearsOpen             0.689368\n",
              "averageSnowfall       0.083391"
            ]
          },
          "metadata": {
            "tags": []
          },
          "execution_count": 67
        }
      ]
    },
    {
      "cell_type": "markdown",
      "metadata": {
        "colab_type": "text",
        "id": "MJvQMns6AnsI"
      },
      "source": [
        "## Identify the Final Model"
      ]
    },
    {
      "cell_type": "markdown",
      "metadata": {
        "colab_type": "text",
        "id": "LD7-3iLcAnsK"
      },
      "source": [
        "**<font color='teal'> Review the model performances in the table below and choose the best model for proving insights to Big Mountain management about what features are driving ski resort lift ticket prices. Type your choice in the final markdown cell — you will discuss this selection more in the next step of the guided casptone. </font>**"
      ]
    },
    {
      "cell_type": "markdown",
      "metadata": {
        "colab_type": "text",
        "id": "La5S9fRPAnsK"
      },
      "source": [
        "| Model | Explained Variance| Mean Absolute Error|Features Dropped|\n",
        "| --- | --- | --- | --- |\n",
        "| Model 1. | 0.941 |  4.92 |'base_elev'|\n",
        "| Model 2. | 0.930 |  5.34 |'state' base_elev'|\n",
        "| Model 3. | 0.926 |  5.47 |'state' 'summit_elev' 'base_elev'|\n",
        "| Model 4. | 0.925 |  5.54 |'state' 'summit_elev' 'base_elev' 'clusters'|\n",
        "| Model 5. | 0.195 | 15.59 |'state' 'summit_elev' 'base_elev' 'clusters' 'AdultWeekday'|"
      ]
    },
    {
      "cell_type": "markdown",
      "metadata": {
        "colab_type": "text",
        "id": "T2c-zn7TAnsL"
      },
      "source": [
        "Model Selection: Model 1"
      ]
    }
  ]
}